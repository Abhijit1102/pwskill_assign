{
 "cells": [
  {
   "cell_type": "markdown",
   "id": "93480c06",
   "metadata": {},
   "source": [
    "## Q1. What is Flask Framework? What are the advantages of Flask Framework?"
   ]
  },
  {
   "cell_type": "markdown",
   "id": "15896419",
   "metadata": {},
   "source": [
    "Flask is a web application framework for Python. It is designed to be lightweight and flexible, allowing developers to create web applications quickly and with minimal boilerplate code. Flask is often used to build simple or small-scale web applications, but it can also be used to build complex and feature-rich applications.\n",
    "\n",
    "Here are some advantages of using Flask:\n",
    "\n",
    "1. Lightweight and modular: Flask is a lightweight framework that doesn't come bundled with many features, which makes it easy to learn and use. It is also modular, which means that developers can add or remove features as needed.\n",
    "\n",
    "2. Easy to set up: Flask is very easy to set up and get started with. It requires very little configuration, and developers can start building web applications almost immediately.\n",
    "\n",
    "3. Built-in development server: Flask comes with a built-in development server that allows developers to test their applications locally without the need for additional software.\n",
    "\n",
    "4. Large and active community: Flask has a large and active community of developers who contribute to its development, create plugins and extensions, and offer support to other developers.\n",
    "\n",
    "5. Extensible: Flask is highly extensible, which means that developers can easily add additional functionality to their applications by using various Flask extensions.\n",
    "\n",
    "6. Template engine: Flask comes with a built-in template engine that allows developers to create dynamic web pages quickly and easily.\n",
    "\n",
    "7. RESTful support: Flask has built-in support for creating RESTful APIs, which is useful for building web services and APIs.\n",
    "\n"
   ]
  },
  {
   "cell_type": "markdown",
   "id": "b0850355",
   "metadata": {},
   "source": [
    "## Q2. Create a simple Flask application to display ‘Hello World!!’. Attach the screenshot of the output in Jupyter Notebook."
   ]
  },
  {
   "cell_type": "markdown",
   "id": "3a7605dc",
   "metadata": {},
   "source": [
    "<img src=\"screenshot.png\">"
   ]
  },
  {
   "cell_type": "markdown",
   "id": "634df5d5",
   "metadata": {},
   "source": [
    "## Q3. What is App routing in Flask? Why do we use app routes?"
   ]
  },
  {
   "cell_type": "markdown",
   "id": "9fd906e2",
   "metadata": {},
   "source": [
    "App routing in `Flask` refers to the process of mapping the URLs of a web application to specific Python functions that handle requests from those URLs. In other words, it's the mechanism that Flask uses to determine what code to execute when a user navigates to a certain page or URL.\n",
    "\n",
    "We use app routes in `Flask` for several reasons. First, they allow us to define the structure and organization of our web application, by mapping each URL to a specific functionality or page. This makes our code more modular and maintainable, as we can easily add, remove, or modify routes as needed.\n",
    "\n",
    "Secondly, app routes also enable us to create dynamic web applications that can process user input and generate custom responses based on that input. By defining routes that take parameters or use regular expressions, we can create complex web applications that can handle a wide range of user interactions."
   ]
  },
  {
   "cell_type": "markdown",
   "id": "5c74a3ee",
   "metadata": {},
   "source": [
    "## Q4. Create a “/welcome” route to display the welcome message \n",
    "## “Welcome to ABC Corporation” and a “/” route to show the following details: \n",
    "## Company Name: ABC Corporation \n",
    "## Location: India \n",
    "## Contact Detail: 999-999-9999."
   ]
  },
  {
   "cell_type": "markdown",
   "id": "fab596d3",
   "metadata": {},
   "source": [
    "<img src=\"screenshot2.png\">"
   ]
  },
  {
   "cell_type": "markdown",
   "id": "dfe57eae",
   "metadata": {},
   "source": [
    "<img src=\"screenshot1.png\">"
   ]
  },
  {
   "cell_type": "markdown",
   "id": "617877ab",
   "metadata": {},
   "source": [
    "## Q5. What function is used in Flask for URL Building? Write a Python code to demonstrate the working of the url_for() function."
   ]
  },
  {
   "cell_type": "markdown",
   "id": "cdd6b38a",
   "metadata": {},
   "source": [
    "In Flask, the `url_for()` function is used to build URLs for a specific function that you have defined in your Flask application. This function takes the name of the endpoint as its first argument and any number of keyword arguments that represent the variable parts of the URL rule."
   ]
  },
  {
   "cell_type": "markdown",
   "id": "3bd279e1",
   "metadata": {},
   "source": [
    "<img src=\"screenshot3.png\">"
   ]
  },
  {
   "cell_type": "code",
   "execution_count": null,
   "id": "ac46607a",
   "metadata": {},
   "outputs": [],
   "source": []
  }
 ],
 "metadata": {
  "kernelspec": {
   "display_name": "Python 3 (ipykernel)",
   "language": "python",
   "name": "python3"
  },
  "language_info": {
   "codemirror_mode": {
    "name": "ipython",
    "version": 3
   },
   "file_extension": ".py",
   "mimetype": "text/x-python",
   "name": "python",
   "nbconvert_exporter": "python",
   "pygments_lexer": "ipython3",
   "version": "3.10.9"
  }
 },
 "nbformat": 4,
 "nbformat_minor": 5
}
