{
 "cells": [
  {
   "cell_type": "markdown",
   "id": "04b595c0",
   "metadata": {},
   "source": [
    "## Q1. Explain `GET` and `POST` methods."
   ]
  },
  {
   "cell_type": "markdown",
   "id": "cde4636f",
   "metadata": {},
   "source": [
    "`HTTP` (Hypertext Transfer Protocol) is the protocol used for transmitting data over the internet, and it supports different request methods to perform different actions on the resources hosted on a web server. The two most commonly used `HTTP` methods are `GET` and `POST`.\n",
    "\n",
    "The `GET` method is used to request a resource (such as a webpage or an image) from a web server. When a client (such as a web browser) sends a `GET` request to a server, it specifies the URL (Uniform Resource Locator) of the resource it wants to retrieve. The server then responds with the requested resource, which is typically displayed in the client's browser. `GET` requests are generally considered \"safe\" and \"idempotent\", meaning that they do not modify the state of the server or the resource being requested.\n",
    "\n",
    "On the other hand, the `POST` method is used to submit data to a server in order to create or update a resource. When a client sends a `POST` request to a server, it includes a set of data (such as a form submission) in the body of the request. The server then processes the data and typically responds with a confirmation or a new resource that has been created. Unlike `GET` requests, `POST` requests can modify the state of the server or the resource being requested, and they are not idempotent (meaning that submitting the same data multiple times may result in multiple resources being created or updated)."
   ]
  },
  {
   "cell_type": "markdown",
   "id": "2d477020",
   "metadata": {},
   "source": [
    "## Q2. Why is `request` used in Flask?"
   ]
  },
  {
   "cell_type": "markdown",
   "id": "4a75675b",
   "metadata": {},
   "source": [
    "In `Flask`, the request object is used to access incoming request data from a client, such as data submitted through an HTML form or query parameters in a URL. The request object provides a simple interface for retrieving this data in a way that is easy to work with in Python.\n",
    "\n",
    " The `request` object is part of `Flask's` Werkzeug library, which provides a collection of utilities for handling HTTP requests and responses.\n",
    "\n",
    "When a client sends a request to a `Flask` application, the request object is automatically created and populated with information about the request. This information can include data submitted through forms, query parameters, cookies, and more. The `request` object can be accessed in a Flask view function, which is a Python function that is mapped to a URL endpoint.\n",
    "\n",
    "By using the `request` object, developers can easily extract data from incoming requests and use it to generate dynamic responses. For example, a `Flask` application might use the `request` object to retrieve a user's search query from a form submission, and then use that query to generate a response that displays search results."
   ]
  },
  {
   "cell_type": "markdown",
   "id": "cc12e0b0",
   "metadata": {},
   "source": [
    "## Q3. Why is `redirect()` used in Flask?"
   ]
  },
  {
   "cell_type": "markdown",
   "id": "518999de",
   "metadata": {},
   "source": [
    "In Flask, the `redirect()` function is used to redirect the client's browser to a different URL. This function is commonly used in web applications to redirect a user after a certain action has been taken, such as submitting a form or logging in.\n",
    "\n",
    "There are several reasons why `redirect()` is used in Flask:\n",
    "\n",
    "1. `Changing the URL`: Redirecting to a new URL allows the application to change the URL displayed in the client's browser, which can be useful for presenting a more user-friendly or descriptive URL. For example, if a user submits a form on a page with a long or complex URL, the application might redirect them to a new page with a shorter, more descriptive URL.\n",
    "\n",
    "2. `Handling POST requests`: When a client submits a form with the POST method, the browser typically displays a warning message if the user tries to reload the page. By redirecting to a new URL after processing the form data, the application can avoid this issue and ensure that the user can safely refresh the page without resubmitting the form.\n",
    "\n",
    "3. `Separating concerns`: In a well-designed web application, different tasks should be separated into different views or functions. By using redirect(), the application can delegate certain tasks to separate views or functions, and redirect the user to the appropriate view or URL when the task is complete."
   ]
  },
  {
   "cell_type": "markdown",
   "id": "13ffecc6",
   "metadata": {},
   "source": [
    "## Q4. What are templates in Flask? Why is the render_template() function used?"
   ]
  },
  {
   "cell_type": "markdown",
   "id": "fd3d49ef",
   "metadata": {},
   "source": [
    "In `Flask, templates` are files that contain `HTML` code with placeholders for dynamic data. Templates are used to create dynamic web pages that can be customized based on data retrieved from a database, form submissions, or other sources. By using templates, developers can create reusable and maintainable web applications that are easy to update and modify.\n",
    "\n",
    "The `render_template()` function is used in Flask to render a template and return it as an `HTTP` response to the client. The function takes the name of the template file as its argument, along with any variables that need to be passed to the template for rendering.\n",
    "\n",
    "The `render_template()` function is important in Flask for several reasons:\n",
    "\n",
    "1. `Separation of concerns`: By using templates to separate the presentation logic from the business logic, developers can create cleaner and more maintainable code. The template files can be modified or replaced without affecting the underlying code that generates the dynamic data.\n",
    "\n",
    "2. `Dynamic content`: Templates allow developers to generate dynamic content that can be customized based on data from the application. For example, a template might generate a different HTML page based on the user's login status, or display a list of search results based on a user's query.\n",
    "\n",
    "3. `Reusability`: Templates can be reused across different parts of the application, reducing the amount of duplicate code that needs to be written.\n"
   ]
  },
  {
   "cell_type": "markdown",
   "id": "41e9a28e",
   "metadata": {},
   "source": [
    "## Q5. Create a simple API. Use Postman to test it. Attach the screenshot of the output in the Jupyter Notebook."
   ]
  },
  {
   "cell_type": "markdown",
   "id": "21ec4610",
   "metadata": {},
   "source": [
    "<img src=\"sreenshot_20feb.png\">"
   ]
  },
  {
   "cell_type": "markdown",
   "id": "e9cf3e67",
   "metadata": {},
   "source": [
    "<img src=\"screenshot_20feb1.png\">"
   ]
  }
 ],
 "metadata": {
  "kernelspec": {
   "display_name": "Python 3 (ipykernel)",
   "language": "python",
   "name": "python3"
  },
  "language_info": {
   "codemirror_mode": {
    "name": "ipython",
    "version": 3
   },
   "file_extension": ".py",
   "mimetype": "text/x-python",
   "name": "python",
   "nbconvert_exporter": "python",
   "pygments_lexer": "ipython3",
   "version": "3.10.9"
  }
 },
 "nbformat": 4,
 "nbformat_minor": 5
}
