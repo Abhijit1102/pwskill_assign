{
 "cells": [
  {
   "cell_type": "markdown",
   "id": "0147065c",
   "metadata": {},
   "source": [
    "# Assignments\n",
    "\n",
    "## Q1. What is a database? Differentiate between SQL and NoSQL databases."
   ]
  },
  {
   "cell_type": "markdown",
   "id": "a94d50b4",
   "metadata": {},
   "source": [
    "A`database` is an organized collection of data that is stored and managed on a computer system. It can be accessed, managed, and updated by authorized users, and it allows users to efficiently organize and retrieve large amounts of data. A database typically consists of one or more tables, with each table containing rows (also known as records) and columns (also known as fields) that hold specific types of data.\n",
    "\n",
    "`SQL` vs `NoSQL` databases\n",
    "\n",
    "`SQL` (Structured Query Language) and `NoSQL` (Not Only SQL) are two types of database systems that differ in their data models, scalability, and performance.\n",
    "\n",
    "`SQL` databases are relational databases that use tables to store and manage data. The data in a SQL database is organized into tables, with each table having a specific schema that defines the structure and relationships between the data. `SQL` databases are known for their strong consistency, well-defined schemas, and support for complex queries.\n",
    "\n",
    "`NoSQL` databases, on the other hand, are non-relational databases that use documents, key-value pairs, or graphs to store and manage data. `NoSQL` databases are designed to be highly scalable and performant, and they can handle large volumes of unstructured or semi-structured data. `NoSQL` databases are known for their flexibility, high availability, and support for distributed computing.\n",
    "\n",
    "Here are some of the key differences between `SQL` and `NoSQL` databases:\n",
    "\n",
    "- `Data model`: `SQL` databases use a relational data model, while `NoSQL` databases use a non-relational data model.\n",
    "- `Schema`: `SQL` databases have a well-defined schema that is enforced at the database level, while `NoSQL` databases have a flexible schema that can evolve over time.\n",
    "- `Scalability`: `NoSQL` databases are designed to be highly scalable, and they can easily handle large volumes of data and traffic. `SQL` databases, on the other hand, are not as scalable and may require complex partitioning and sharding techniques to handle large volumes of data.\n",
    "- `Querying`:` SQL` databases are optimized for complex queries and support a wide range of `SQL` queries, while NoSQL databases are optimized for simple queries and may not support complex queries or joins.\n",
    "- `Consistency`: `SQL` databases offer strong consistency guarantees, while `NoSQL` databases may offer eventual consistency or other weaker consistency models.\n",
    "- `Availability`: `NoSQL` databases are designed to be highly available and fault-tolerant, while `SQL` databases may require more manual intervention to ensure high availability and reliability."
   ]
  },
  {
   "cell_type": "markdown",
   "id": "d10031e0",
   "metadata": {},
   "source": [
    "## Q2. What is DDL? Explain why CREATE, DROP, ALTER, and TRUNCATE are used with an example."
   ]
  },
  {
   "cell_type": "markdown",
   "id": "b8cc05a0",
   "metadata": {},
   "source": [
    "`DDL` (Data Definition Language) is a subset of SQL that is used to define and manage the structure of a database. `DDL` statements are used to create, modify, and delete database objects such as tables, indexes, and constraints. `DDL` statements do not affect the data in the database, only the structure of the database.\n",
    "\n",
    "The `CREATE` statement is used to create a new database object such as a table, view, or index. The syntax for the `CREATE` statement varies depending on the type of object being created. For example, to create a new table named \"employees\" with three columns (id, name, and age), the following `SQL` statement can be used:"
   ]
  },
  {
   "cell_type": "raw",
   "id": "3550474d",
   "metadata": {},
   "source": [
    "CREATE TABLE employees (\n",
    "  id INT PRIMARY KEY,\n",
    "  name VARCHAR(50),\n",
    "  age INT\n",
    ");\n"
   ]
  },
  {
   "cell_type": "markdown",
   "id": "7a4ac384",
   "metadata": {},
   "source": [
    "The `DROP` statement is used to delete a database object such as a table, view, or index. When a database object is dropped, all data associated with the object is also deleted. For example, to drop the \"employees\" table created in the previous example, the following SQL statement can be used:"
   ]
  },
  {
   "cell_type": "markdown",
   "id": "d1ba38bc",
   "metadata": {},
   "source": [
    "DROP TABLE employees;"
   ]
  },
  {
   "cell_type": "markdown",
   "id": "d688ffc3",
   "metadata": {},
   "source": [
    "The`ALTER` statement is used to modify the structure of an existing database object such as a table, view, or index. The ALTER statement can be used to add, modify, or delete columns in a table, change the data type of a column, or modify the constraints on a table. For example, to add a new column \"email\" to the \"employees\" table created earlier, the following `SQL` statement can be used:"
   ]
  },
  {
   "cell_type": "raw",
   "id": "f4393bfa",
   "metadata": {},
   "source": [
    "ALTER TABLE employees ADD email VARCHAR(50);"
   ]
  },
  {
   "cell_type": "markdown",
   "id": "6d60de3e",
   "metadata": {},
   "source": [
    "The `TRUNCATE` statement is used to delete all the data in a table, but the table structure remains intact. `TRUNCATE` is faster than `DELETE` for removing all the rows in a table because it does not generate log records for each individual row. For example, to delete all the data in the \"employees\" table, the following `SQL` statement can be used:"
   ]
  },
  {
   "cell_type": "markdown",
   "id": "3ff1ac40",
   "metadata": {},
   "source": [
    "TRUNCATE TABLE employees;"
   ]
  },
  {
   "cell_type": "markdown",
   "id": "066e57c3",
   "metadata": {},
   "source": [
    "## Q3. What is DML? Explain INSERT, UPDATE, and DELETE with an example."
   ]
  },
  {
   "cell_type": "markdown",
   "id": "1d634d97",
   "metadata": {},
   "source": [
    "`DML` (Data Manipulation Language) is a subset of `SQL` that is used to modify the data in a database. `DML` statements are used to insert, update, and delete records in a table. `DML` statements do not affect the structure of the database, only the data in the database.\n",
    "\n",
    "The `INSERT` statement is used to insert new records into a table. The syntax for the `INSERT` statement is as follows:"
   ]
  },
  {
   "cell_type": "code",
   "execution_count": null,
   "id": "49521700",
   "metadata": {},
   "outputs": [],
   "source": [
    "INSERT INTO table_name (column1, column2, ..., columnN)\n",
    "VALUES (value1, value2, ..., valueN);\n"
   ]
  },
  {
   "cell_type": "markdown",
   "id": "e296f0a9",
   "metadata": {},
   "source": [
    "`UPDATE`: The `UPDATE` command is used to modify existing data in a table. The syntax for the `UPDATE` command is as follows:"
   ]
  },
  {
   "cell_type": "raw",
   "id": "1ce8d46c",
   "metadata": {},
   "source": [
    "UPDATE table_name\n",
    "SET column1 = value1, column2 = value2, ...\n",
    "WHERE condition;"
   ]
  },
  {
   "cell_type": "markdown",
   "id": "d45812e5",
   "metadata": {},
   "source": [
    "`DELETE`: The `DELETE` command is used to delete data from a table. The syntax for the `DELETE` command is as follows:"
   ]
  },
  {
   "cell_type": "raw",
   "id": "938ac7c8",
   "metadata": {},
   "source": [
    "DELETE FROM table_name\n",
    "WHERE condition;"
   ]
  },
  {
   "cell_type": "markdown",
   "id": "ab08d184",
   "metadata": {},
   "source": [
    "## Q4. What is DQL? Explain SELECT with an example."
   ]
  },
  {
   "cell_type": "markdown",
   "id": "f572b59f",
   "metadata": {},
   "source": [
    "`DQL` stands for Data Query Language. It is a subset of `SQL` (Structured Query Language) that is used to retrieve data from a database. DQL commands are used to retrieve data from tables. Here is an example of a `DQL` command:\n",
    "\n",
    "`SELECT`: The `SELECT` command is used to retrieve data from one or more tables in a database. The syntax for the SELECT command is as follows:"
   ]
  },
  {
   "cell_type": "raw",
   "id": "4051a5fd",
   "metadata": {},
   "source": [
    "SELECT column1, column2, column3, ...\n",
    "FROM table_name\n",
    "WHERE condition;"
   ]
  },
  {
   "cell_type": "markdown",
   "id": "661412e7",
   "metadata": {},
   "source": [
    "For example, let's say we have a table called \"employees\" with the columns \"id\", \"name\", \"age\", and \"salary\". We can retrieve all the data from this table using the following SELECT command:"
   ]
  },
  {
   "cell_type": "raw",
   "id": "fb5ea308",
   "metadata": {},
   "source": [
    "SELECT *\n",
    "FROM employees;"
   ]
  },
  {
   "cell_type": "markdown",
   "id": "0cf1ff98",
   "metadata": {},
   "source": [
    "## Q5. Explain Primary Key and Foreign Key."
   ]
  },
  {
   "cell_type": "markdown",
   "id": "a1587f1f",
   "metadata": {},
   "source": [
    "`Primary Key` and `Foreign Key` are two important concepts in database design that are used to establish relationships between tables. Here's an explanation of each:\n",
    "\n",
    " - 1.`Primary Key`: A `primary ke`y is a unique identifier for each row in a table. It is a column or a set of columns that uniquely identifies each record in the table. A primary key cannot have duplicate values and must have a value for each row in the table. It is used to enforce data integrity and to establish relationships with other tables.\n",
    "\n",
    "- 2.`Foreign Key`: `A foreign key` is a column in one table that refers to the `primary key` of another table. It is used to establish relationships between tables and to enforce referential integrity. A `foreign key` column can have the same values as the primary key column it references, or it can be null."
   ]
  },
  {
   "cell_type": "markdown",
   "id": "261f6ae0",
   "metadata": {},
   "source": [
    "## Q6. Write a python code to connect MySQL to python. Explain the cursor() and execute() method."
   ]
  },
  {
   "cell_type": "markdown",
   "id": "28f53ff8",
   "metadata": {},
   "source": [
    "To connect to `MySQL` in Python, you need to use a `MySQL` connector. The most popular `MySQL` connector for Python is called `\"mysql-connector-python\"`. Here's an example of how to connect to a `MySQL` database using Python:"
   ]
  },
  {
   "cell_type": "raw",
   "id": "b9fede73",
   "metadata": {},
   "source": [
    "import mysql.connector\n",
    "\n",
    "# Connect to the database\n",
    "mydb = mysql.connector.connect(\n",
    "  host=\"localhost\",\n",
    "  user=\"yourusername\",\n",
    "  password=\"yourpassword\",\n",
    "  database=\"yourdatabase\"\n",
    ")\n",
    "\n",
    "# Create a cursor object\n",
    "mycursor = mydb.cursor()\n",
    "\n",
    "# Execute a SQL query\n",
    "mycursor.execute(\"SELECT * FROM employees\")\n",
    "\n",
    "# Fetch the results\n",
    "results = mycursor.fetchall()\n",
    "\n",
    "# Print the results\n",
    "for row in results:\n",
    "  print(row)"
   ]
  },
  {
   "cell_type": "markdown",
   "id": "e040930f",
   "metadata": {},
   "source": [
    "In this example, we first import the `\"mysql.connector\"` module, and then use the `\"connect()\"` method to connect to the `MySQL` database. We specify the host, username, password, and database name as parameters to the `\"connect()\"` method.\n",
    "\n",
    "After we've connected to the database, we create a cursor object using the `\"cursor()\"` method. The cursor is used to execute `SQL` queries and fetch results.\n",
    "\n",
    "We then execute a `SQL` query using the `\"execute()\"`method of the cursor object. In this example, we're selecting all the data from the \"employees\" table.\n",
    "\n",
    "Once the query has been executed, we can fetch the results using the`\"fetchall()\"` method of the cursor object. This returns all the rows in the result set as a list of tuples.\n",
    "\n",
    "Finally, we loop through the results and print each row.\n",
    "\n",
    "The `\"cursor()\"` method creates a cursor object that allows you to execute SQL queries and fetch results. The `\"execute()\"` method is used to execute a `SQL` query on the database. It takes a string containing the `SQL` query as a parameter. The `\"fetchall()\"` method is used to fetch all the rows in the result set as a list of tuples. There are other methods available to fetch individual rows, such as `\"fetchone()\"` and `\"fetchmany()\"`."
   ]
  },
  {
   "cell_type": "markdown",
   "id": "3b533817",
   "metadata": {},
   "source": [
    "## Q7. Give the order of execution of SQL clauses in an SQL query."
   ]
  },
  {
   "cell_type": "markdown",
   "id": "7110db14",
   "metadata": {},
   "source": [
    "In a `SQL` query, the order of execution of the clauses is as follows:\n",
    "\n",
    "- 1.`FROM` - specifies the table(s) to be queried\n",
    "- 2.`JOIN` - specifies the type of join (if any) to be used to combine the tables\n",
    "- 3.`WHERE` - filters the rows based on a specified condition\n",
    "- 3.`GROUP BY` - groups the rows based on a specified column(s)\n",
    "- 4.`HAVING` - filters the groups based on a specified condition\n",
    "- 5.`SELECT` - specifies the columns to be selected\n",
    "- 6.`DISTINCT` - removes duplicates from the result set\n",
    "- 7.`ORDER BY` - sorts the result set based on a specified column(s)\n",
    "-`limits`- the number of rows return"
   ]
  },
  {
   "cell_type": "code",
   "execution_count": null,
   "id": "71041fee",
   "metadata": {},
   "outputs": [],
   "source": []
  }
 ],
 "metadata": {
  "kernelspec": {
   "display_name": "Python 3 (ipykernel)",
   "language": "python",
   "name": "python3"
  },
  "language_info": {
   "codemirror_mode": {
    "name": "ipython",
    "version": 3
   },
   "file_extension": ".py",
   "mimetype": "text/x-python",
   "name": "python",
   "nbconvert_exporter": "python",
   "pygments_lexer": "ipython3",
   "version": "3.10.9"
  }
 },
 "nbformat": 4,
 "nbformat_minor": 5
}
