{
 "cells": [
  {
   "cell_type": "markdown",
   "id": "c2cf6f58",
   "metadata": {},
   "source": [
    "## Q1. What is the difference between Ordinal Encoding and Label Encoding? Provide an example of when you might choose one over the other."
   ]
  },
  {
   "cell_type": "markdown",
   "id": "a344345e",
   "metadata": {},
   "source": [
    "Ordinal encoding and label encoding are both techniques used for encoding categorical variables in machine learning. The main difference between these two techniques is in the way they assign numerical values to categories.\n",
    "\n",
    "Ordinal encoding assigns a numerical value to each category in a categorical variable, based on the order of their importance or rank. For example, if you have a categorical variable \"education\" with categories \"High school\", \"Bachelor's degree\", \"Master's degree\", and \"PhD\", you can assign numerical values 1, 2, 3, and 4, respectively, based on the increasing order of the level of education.\n",
    "\n",
    "Label encoding assigns a numerical value to each category in a categorical variable, without any particular order or ranking. For example, you can assign numerical values 1, 2, 3, and 4 to the \"education\" variable categories randomly, without considering their order.\n",
    "\n",
    "In general, ordinal encoding is preferred when there is a clear ordering or ranking among the categories, and the difference between the categories can be quantified. For example, in a survey where the respondents were asked to rate their satisfaction level on a scale of 1 to 5, the rating can be treated as an ordinal variable, and ordinal encoding can be used to encode the ratings.\n",
    "\n",
    "On the other hand, label encoding is preferred when there is no natural ordering or ranking among the categories, or when the difference between the categories is not quantifiable. For example, in a dataset of customer reviews where the sentiment of the review is labeled as \"positive\", \"negative\", and \"neutral\", label encoding can be used to encode the sentiment categories.\n",
    "\n",
    "It's important to note that both encoding techniques have their limitations and can lead to bias or errors if used inappropriately. In some cases, one-hot encoding or other advanced encoding techniques may be more appropriate."
   ]
  },
  {
   "cell_type": "markdown",
   "id": "44a492c6",
   "metadata": {},
   "source": [
    "## Q2. Explain how Target Guided Ordinal Encoding works and provide an example of when you might use it in a machine learning project."
   ]
  },
  {
   "cell_type": "markdown",
   "id": "e5c6c53b",
   "metadata": {},
   "source": [
    "Target Guided Ordinal Encoding is a technique used for encoding categorical variables in machine learning, where the numerical values assigned to the categories are based on the relationship between the category and the target variable.\n",
    "\n",
    "The basic idea behind Target Guided Ordinal Encoding is to encode each category with a numerical value that reflects its impact on the target variable. For example, if a particular category has a higher probability of being associated with the target variable, it will be assigned a higher numerical value than a category with a lower probability.\n",
    "\n",
    "Here's how Target Guided Ordinal Encoding works:\n",
    "\n",
    "Calculate the mean target value for each category in the categorical variable.\n",
    "Sort the categories based on their mean target value, in ascending or descending order.\n",
    "Assign a numerical value to each category, based on its position in the sorted list. For example, the category with the highest mean target value is assigned a numerical value of 1, the next highest value is assigned a value of 2, and so on.\n",
    "Here's an example of when you might use Target Guided Ordinal Encoding in a machine learning project:\n",
    "\n",
    "Suppose you have a dataset of customer reviews for a product, where the reviews are labeled as \"positive\", \"negative\", and \"neutral\". You want to train a machine learning model to predict whether a new review is likely to be positive or negative.\n",
    "\n",
    "In this case, you can use Target Guided Ordinal Encoding to encode the \"review sentiment\" variable, with the mean target value being the probability of a review being positive. This will ensure that the numerical values assigned to the sentiment categories reflect their impact on the target variable.\n",
    "\n",
    "By using Target Guided Ordinal Encoding, you can effectively capture the relationship between the categorical variable and the target variable, which can help improve the accuracy of your machine learning model. However, it's important to keep in mind that this technique can also introduce bias if not used carefully, and it may not always be the best encoding method for every situation."
   ]
  },
  {
   "cell_type": "markdown",
   "id": "a0d4c7dd",
   "metadata": {},
   "source": [
    "## Q3. Define covariance and explain why it is important in statistical analysis. How is covariance"
   ]
  },
  {
   "cell_type": "markdown",
   "id": "b3f341ad",
   "metadata": {},
   "source": [
    "Covariance is a statistical measure that quantifies the degree to which two variables in a dataset are linearly related. It indicates the direction and strength of the relationship between two variables.\n",
    "\n",
    "The formula for calculating the covariance between two variables X and Y is:\n",
    "\n",
    "$$ Cov(X,Y) = \\frac{\\sum (X_i - X) * (Y_i - \\bar X) }{(n-1)} $$\n",
    "\n",
    "where Xi and Yi are the ith values of X and Y, X̄ and Ȳ are the means of X and Y, and n is the number of data points.\n",
    "\n",
    "A positive covariance indicates that as one variable increases, the other variable tends to increase as well. A negative covariance indicates that as one variable increases, the other variable tends to decrease. A covariance of zero indicates that there is no linear relationship between the variables.\n",
    "\n",
    "Covariance is important in statistical analysis because it provides insights into how two variables are related. It can be used to identify patterns and relationships in a dataset and can help in the selection of appropriate statistical models. In addition, covariance is used in the calculation of other statistical measures such as correlation and regression coefficients.\n",
    "\n",
    "However, covariance has some limitations. One of the major limitations is that the magnitude of covariance is affected by the scales of the variables. For example, if one variable is measured in dollars and the other variable is measured in pounds, the covariance between the two variables will be affected by the difference in scales. To overcome this limitation, standardized covariance measures such as correlation coefficients are often used."
   ]
  },
  {
   "cell_type": "markdown",
   "id": "8e4c7cc2",
   "metadata": {},
   "source": [
    "## Q4. For a dataset with the following categorical variables: Color (red, green, blue), Size (small, medium, large), and Material (wood, metal, plastic), perform label encoding using Python's scikit-learn library. Show your code and explain the output."
   ]
  },
  {
   "cell_type": "code",
   "execution_count": 3,
   "id": "92d6fefa",
   "metadata": {},
   "outputs": [
    {
     "data": {
      "text/html": [
       "<div>\n",
       "<style scoped>\n",
       "    .dataframe tbody tr th:only-of-type {\n",
       "        vertical-align: middle;\n",
       "    }\n",
       "\n",
       "    .dataframe tbody tr th {\n",
       "        vertical-align: top;\n",
       "    }\n",
       "\n",
       "    .dataframe thead th {\n",
       "        text-align: right;\n",
       "    }\n",
       "</style>\n",
       "<table border=\"1\" class=\"dataframe\">\n",
       "  <thead>\n",
       "    <tr style=\"text-align: right;\">\n",
       "      <th></th>\n",
       "      <th>Color</th>\n",
       "      <th>Size</th>\n",
       "      <th>Material</th>\n",
       "      <th>Color_encoded</th>\n",
       "      <th>Size_encoded</th>\n",
       "      <th>Material_encoded</th>\n",
       "    </tr>\n",
       "  </thead>\n",
       "  <tbody>\n",
       "    <tr>\n",
       "      <th>0</th>\n",
       "      <td>red</td>\n",
       "      <td>small</td>\n",
       "      <td>wood</td>\n",
       "      <td>2</td>\n",
       "      <td>2</td>\n",
       "      <td>2</td>\n",
       "    </tr>\n",
       "    <tr>\n",
       "      <th>1</th>\n",
       "      <td>green</td>\n",
       "      <td>medium</td>\n",
       "      <td>metal</td>\n",
       "      <td>1</td>\n",
       "      <td>1</td>\n",
       "      <td>0</td>\n",
       "    </tr>\n",
       "    <tr>\n",
       "      <th>2</th>\n",
       "      <td>blue</td>\n",
       "      <td>medium</td>\n",
       "      <td>plastic</td>\n",
       "      <td>0</td>\n",
       "      <td>1</td>\n",
       "      <td>1</td>\n",
       "    </tr>\n",
       "    <tr>\n",
       "      <th>3</th>\n",
       "      <td>blue</td>\n",
       "      <td>large</td>\n",
       "      <td>wood</td>\n",
       "      <td>0</td>\n",
       "      <td>0</td>\n",
       "      <td>2</td>\n",
       "    </tr>\n",
       "    <tr>\n",
       "      <th>4</th>\n",
       "      <td>green</td>\n",
       "      <td>small</td>\n",
       "      <td>metal</td>\n",
       "      <td>1</td>\n",
       "      <td>2</td>\n",
       "      <td>0</td>\n",
       "    </tr>\n",
       "    <tr>\n",
       "      <th>5</th>\n",
       "      <td>red</td>\n",
       "      <td>large</td>\n",
       "      <td>plastic</td>\n",
       "      <td>2</td>\n",
       "      <td>0</td>\n",
       "      <td>1</td>\n",
       "    </tr>\n",
       "  </tbody>\n",
       "</table>\n",
       "</div>"
      ],
      "text/plain": [
       "   Color    Size Material  Color_encoded  Size_encoded  Material_encoded\n",
       "0    red   small     wood              2             2                 2\n",
       "1  green  medium    metal              1             1                 0\n",
       "2   blue  medium  plastic              0             1                 1\n",
       "3   blue   large     wood              0             0                 2\n",
       "4  green   small    metal              1             2                 0\n",
       "5    red   large  plastic              2             0                 1"
      ]
     },
     "execution_count": 3,
     "metadata": {},
     "output_type": "execute_result"
    }
   ],
   "source": [
    "from sklearn.preprocessing import LabelEncoder\n",
    "import pandas as pd\n",
    "\n",
    "# create a sample dataset\n",
    "data = {'Color': ['red', 'green', 'blue', 'blue', 'green', 'red'],\n",
    "        'Size': ['small', 'medium', 'medium', 'large', 'small', 'large'],\n",
    "        'Material': ['wood', 'metal', 'plastic', 'wood', 'metal', 'plastic']}\n",
    "df = pd.DataFrame(data)\n",
    "\n",
    "# create a label encoder object\n",
    "le = LabelEncoder()\n",
    "\n",
    "# apply label encoding to each categorical variable\n",
    "df['Color_encoded'] = le.fit_transform(df['Color'])\n",
    "df['Size_encoded'] = le.fit_transform(df['Size'])\n",
    "df['Material_encoded'] = le.fit_transform(df['Material'])\n",
    "\n",
    "df"
   ]
  },
  {
   "cell_type": "markdown",
   "id": "40ce64ad",
   "metadata": {},
   "source": [
    "## Q5. Calculate the covariance matrix for the following variables in a dataset: Age, Income, and Education level. Interpret the results."
   ]
  },
  {
   "cell_type": "code",
   "execution_count": 5,
   "id": "6b68e075",
   "metadata": {},
   "outputs": [],
   "source": [
    "data = {\n",
    "    \"Age\":[30,40,50,60,70],\n",
    "    \"Income\":[50000,60000,70000,80000,90000],\n",
    "    \"Education\":[\"HSLC\",\"B.A\",\"B.Sc\",\"B.TECH\",\"M.TECH\"]\n",
    "}"
   ]
  },
  {
   "cell_type": "code",
   "execution_count": 6,
   "id": "0439c42d",
   "metadata": {},
   "outputs": [
    {
     "data": {
      "text/html": [
       "<div>\n",
       "<style scoped>\n",
       "    .dataframe tbody tr th:only-of-type {\n",
       "        vertical-align: middle;\n",
       "    }\n",
       "\n",
       "    .dataframe tbody tr th {\n",
       "        vertical-align: top;\n",
       "    }\n",
       "\n",
       "    .dataframe thead th {\n",
       "        text-align: right;\n",
       "    }\n",
       "</style>\n",
       "<table border=\"1\" class=\"dataframe\">\n",
       "  <thead>\n",
       "    <tr style=\"text-align: right;\">\n",
       "      <th></th>\n",
       "      <th>Age</th>\n",
       "      <th>Income</th>\n",
       "      <th>Education</th>\n",
       "    </tr>\n",
       "  </thead>\n",
       "  <tbody>\n",
       "    <tr>\n",
       "      <th>0</th>\n",
       "      <td>30</td>\n",
       "      <td>50000</td>\n",
       "      <td>HSLC</td>\n",
       "    </tr>\n",
       "    <tr>\n",
       "      <th>1</th>\n",
       "      <td>40</td>\n",
       "      <td>60000</td>\n",
       "      <td>B.A</td>\n",
       "    </tr>\n",
       "    <tr>\n",
       "      <th>2</th>\n",
       "      <td>50</td>\n",
       "      <td>70000</td>\n",
       "      <td>B.Sc</td>\n",
       "    </tr>\n",
       "    <tr>\n",
       "      <th>3</th>\n",
       "      <td>60</td>\n",
       "      <td>80000</td>\n",
       "      <td>B.TECH</td>\n",
       "    </tr>\n",
       "    <tr>\n",
       "      <th>4</th>\n",
       "      <td>70</td>\n",
       "      <td>90000</td>\n",
       "      <td>M.TECH</td>\n",
       "    </tr>\n",
       "  </tbody>\n",
       "</table>\n",
       "</div>"
      ],
      "text/plain": [
       "   Age  Income Education\n",
       "0   30   50000      HSLC\n",
       "1   40   60000       B.A\n",
       "2   50   70000      B.Sc\n",
       "3   60   80000    B.TECH\n",
       "4   70   90000    M.TECH"
      ]
     },
     "execution_count": 6,
     "metadata": {},
     "output_type": "execute_result"
    }
   ],
   "source": [
    "pd.DataFrame(data)"
   ]
  },
  {
   "cell_type": "code",
   "execution_count": 7,
   "id": "bfab6338",
   "metadata": {},
   "outputs": [],
   "source": [
    "df =pd.DataFrame(data)"
   ]
  },
  {
   "cell_type": "code",
   "execution_count": 14,
   "id": "5944e1bf",
   "metadata": {},
   "outputs": [],
   "source": [
    "from sklearn.preprocessing import OrdinalEncoder\n",
    "encoder = OrdinalEncoder(categories=[['HSLC','B.A','B.Sc','B.TECH','M.TECH']])"
   ]
  },
  {
   "cell_type": "code",
   "execution_count": 16,
   "id": "4be81929",
   "metadata": {},
   "outputs": [
    {
     "data": {
      "text/html": [
       "<div>\n",
       "<style scoped>\n",
       "    .dataframe tbody tr th:only-of-type {\n",
       "        vertical-align: middle;\n",
       "    }\n",
       "\n",
       "    .dataframe tbody tr th {\n",
       "        vertical-align: top;\n",
       "    }\n",
       "\n",
       "    .dataframe thead th {\n",
       "        text-align: right;\n",
       "    }\n",
       "</style>\n",
       "<table border=\"1\" class=\"dataframe\">\n",
       "  <thead>\n",
       "    <tr style=\"text-align: right;\">\n",
       "      <th></th>\n",
       "      <th>Age</th>\n",
       "      <th>Income</th>\n",
       "      <th>Education</th>\n",
       "      <th>encoded_Education</th>\n",
       "    </tr>\n",
       "  </thead>\n",
       "  <tbody>\n",
       "    <tr>\n",
       "      <th>0</th>\n",
       "      <td>30</td>\n",
       "      <td>50000</td>\n",
       "      <td>HSLC</td>\n",
       "      <td>0.0</td>\n",
       "    </tr>\n",
       "    <tr>\n",
       "      <th>1</th>\n",
       "      <td>40</td>\n",
       "      <td>60000</td>\n",
       "      <td>B.A</td>\n",
       "      <td>1.0</td>\n",
       "    </tr>\n",
       "    <tr>\n",
       "      <th>2</th>\n",
       "      <td>50</td>\n",
       "      <td>70000</td>\n",
       "      <td>B.Sc</td>\n",
       "      <td>2.0</td>\n",
       "    </tr>\n",
       "    <tr>\n",
       "      <th>3</th>\n",
       "      <td>60</td>\n",
       "      <td>80000</td>\n",
       "      <td>B.TECH</td>\n",
       "      <td>3.0</td>\n",
       "    </tr>\n",
       "    <tr>\n",
       "      <th>4</th>\n",
       "      <td>70</td>\n",
       "      <td>90000</td>\n",
       "      <td>M.TECH</td>\n",
       "      <td>4.0</td>\n",
       "    </tr>\n",
       "  </tbody>\n",
       "</table>\n",
       "</div>"
      ],
      "text/plain": [
       "   Age  Income Education  encoded_Education\n",
       "0   30   50000      HSLC                0.0\n",
       "1   40   60000       B.A                1.0\n",
       "2   50   70000      B.Sc                2.0\n",
       "3   60   80000    B.TECH                3.0\n",
       "4   70   90000    M.TECH                4.0"
      ]
     },
     "execution_count": 16,
     "metadata": {},
     "output_type": "execute_result"
    }
   ],
   "source": [
    "df[\"encoded_Education\"] = encoder.fit_transform(df[[\"Education\"]])\n",
    "df"
   ]
  },
  {
   "cell_type": "code",
   "execution_count": 18,
   "id": "cf326533",
   "metadata": {},
   "outputs": [],
   "source": [
    "df.drop(columns=[\"Education\"],inplace =True)"
   ]
  },
  {
   "cell_type": "code",
   "execution_count": 19,
   "id": "b6a4a9ad",
   "metadata": {},
   "outputs": [
    {
     "data": {
      "text/html": [
       "<div>\n",
       "<style scoped>\n",
       "    .dataframe tbody tr th:only-of-type {\n",
       "        vertical-align: middle;\n",
       "    }\n",
       "\n",
       "    .dataframe tbody tr th {\n",
       "        vertical-align: top;\n",
       "    }\n",
       "\n",
       "    .dataframe thead th {\n",
       "        text-align: right;\n",
       "    }\n",
       "</style>\n",
       "<table border=\"1\" class=\"dataframe\">\n",
       "  <thead>\n",
       "    <tr style=\"text-align: right;\">\n",
       "      <th></th>\n",
       "      <th>Age</th>\n",
       "      <th>Income</th>\n",
       "      <th>encoded_Education</th>\n",
       "    </tr>\n",
       "  </thead>\n",
       "  <tbody>\n",
       "    <tr>\n",
       "      <th>0</th>\n",
       "      <td>30</td>\n",
       "      <td>50000</td>\n",
       "      <td>0.0</td>\n",
       "    </tr>\n",
       "    <tr>\n",
       "      <th>1</th>\n",
       "      <td>40</td>\n",
       "      <td>60000</td>\n",
       "      <td>1.0</td>\n",
       "    </tr>\n",
       "    <tr>\n",
       "      <th>2</th>\n",
       "      <td>50</td>\n",
       "      <td>70000</td>\n",
       "      <td>2.0</td>\n",
       "    </tr>\n",
       "    <tr>\n",
       "      <th>3</th>\n",
       "      <td>60</td>\n",
       "      <td>80000</td>\n",
       "      <td>3.0</td>\n",
       "    </tr>\n",
       "    <tr>\n",
       "      <th>4</th>\n",
       "      <td>70</td>\n",
       "      <td>90000</td>\n",
       "      <td>4.0</td>\n",
       "    </tr>\n",
       "  </tbody>\n",
       "</table>\n",
       "</div>"
      ],
      "text/plain": [
       "   Age  Income  encoded_Education\n",
       "0   30   50000                0.0\n",
       "1   40   60000                1.0\n",
       "2   50   70000                2.0\n",
       "3   60   80000                3.0\n",
       "4   70   90000                4.0"
      ]
     },
     "execution_count": 19,
     "metadata": {},
     "output_type": "execute_result"
    }
   ],
   "source": [
    "df"
   ]
  },
  {
   "cell_type": "code",
   "execution_count": 23,
   "id": "f9b935f7",
   "metadata": {},
   "outputs": [
    {
     "data": {
      "text/html": [
       "<div>\n",
       "<style scoped>\n",
       "    .dataframe tbody tr th:only-of-type {\n",
       "        vertical-align: middle;\n",
       "    }\n",
       "\n",
       "    .dataframe tbody tr th {\n",
       "        vertical-align: top;\n",
       "    }\n",
       "\n",
       "    .dataframe thead th {\n",
       "        text-align: right;\n",
       "    }\n",
       "</style>\n",
       "<table border=\"1\" class=\"dataframe\">\n",
       "  <thead>\n",
       "    <tr style=\"text-align: right;\">\n",
       "      <th></th>\n",
       "      <th>Age</th>\n",
       "      <th>Income</th>\n",
       "      <th>encoded_Education</th>\n",
       "    </tr>\n",
       "  </thead>\n",
       "  <tbody>\n",
       "    <tr>\n",
       "      <th>Age</th>\n",
       "      <td>250.0</td>\n",
       "      <td>250000.0</td>\n",
       "      <td>25.0</td>\n",
       "    </tr>\n",
       "    <tr>\n",
       "      <th>Income</th>\n",
       "      <td>250000.0</td>\n",
       "      <td>250000000.0</td>\n",
       "      <td>25000.0</td>\n",
       "    </tr>\n",
       "    <tr>\n",
       "      <th>encoded_Education</th>\n",
       "      <td>25.0</td>\n",
       "      <td>25000.0</td>\n",
       "      <td>2.5</td>\n",
       "    </tr>\n",
       "  </tbody>\n",
       "</table>\n",
       "</div>"
      ],
      "text/plain": [
       "                        Age       Income  encoded_Education\n",
       "Age                   250.0     250000.0               25.0\n",
       "Income             250000.0  250000000.0            25000.0\n",
       "encoded_Education      25.0      25000.0                2.5"
      ]
     },
     "execution_count": 23,
     "metadata": {},
     "output_type": "execute_result"
    }
   ],
   "source": [
    "df.cov()"
   ]
  },
  {
   "cell_type": "markdown",
   "id": "f568124a",
   "metadata": {},
   "source": [
    "Interpretation of the covariance:\n",
    "- A positive `covariance` between two variables indicates that the variables tend to increase or decrease together, while a negative covariance indicates that they tend to vary in opposite directions.\n",
    "- The magnitude of the `covariance` indicates the strength of the relationship between the variables. In this case, the highest covariance is between `Age` and `Income`, with a negative covariance of `250000`. This indicates a strong negative relationship between `Age` and `Income`, meaning that as Age increases, Income tends to increase.\n",
    "- The `covariance` between `Age` and `encoded_Education` is positive, but relatively small (2.5), indicating a weak positive relationship between these variables.\n",
    "- The `covariance` between `Income` and `encoded_Education` is positive and relatively large `(10000)`, indicating a moderate positive relationship between these variables."
   ]
  },
  {
   "cell_type": "markdown",
   "id": "f811b06b",
   "metadata": {},
   "source": [
    "## Q6. You are working on a machine learning project with a dataset containing several categorical variables, including \"Gender\" (Male/Female), \"Education Level\" (High School/Bachelor's/Master's/PhD), and \"Employment Status\" (Unemployed/Part-Time/Full-Time). Which encoding method would you use for each variable, and why?"
   ]
  },
  {
   "cell_type": "markdown",
   "id": "90c9d16e",
   "metadata": {},
   "source": [
    "There are different encoding methods that can be used for categorical variables depending on the nature of the data and the requirements of the machine learning algorithm being used. Here are some common encoding methods and their potential applications for the three categorical variables:\n",
    "\n",
    "1. Gender (Male/Female): Since there are only two categories in this variable, one-hot encoding can be used to represent the gender as a binary variable, for example, \"Male\" can be encoded as [1, 0] and \"Female\" can be encoded as [0, 1]. This encoding method is simple and can be useful for linear models.\n",
    "\n",
    "2. Education Level (High School/Bachelor's/Master's/PhD): One common approach is to use ordinal encoding, which assigns a numerical value to each category based on their order, for example, \"High School\" can be assigned a value of 1, \"Bachelor's\" a value of 2, \"Master's\" a value of 3, and \"PhD\" a value of 4. This method can be useful for decision tree models or logistic regression.\n",
    "\n",
    "3. Employment Status (Unemployed/Part-Time/Full-Time): Similar to education level, one-hot encoding can be used to represent each employment status as a separate binary variable. For example, \"Unemployed\" can be encoded as [1, 0, 0], \"Part-Time\" as [0, 1, 0], and \"Full-Time\" as [0, 0, 1]. This encoding method can be useful for neural network models"
   ]
  },
  {
   "cell_type": "markdown",
   "id": "190cf12b",
   "metadata": {},
   "source": [
    "## Q7. You are analyzing a dataset with two continuous variables, \"Temperature\" and \"Humidity\", and two categorical variables, \"Weather Condition\" (Sunny/Cloudy/Rainy) and \"Wind Direction\" (North/South/ East/West). Calculate the covariance between each pair of variables and interpret the results."
   ]
  },
  {
   "cell_type": "code",
   "execution_count": 26,
   "id": "7049e216",
   "metadata": {},
   "outputs": [],
   "source": [
    "data = {\n",
    "    \"Temperature\":[41,31,30,29,42,43],\n",
    "    \"Humidity\":[30,50,56,60,29,25],\n",
    "    \"Weather_Condition\":[\"Sunny\",\"Cloudy\",\"Rainy\",\"Rainy\",\"Sunny\",\"Sunny\"],\n",
    "    \"Wind_Direction\":[\"East\",\"North\",\"South\",\"West\",\"East\",\"East\"]\n",
    "}"
   ]
  },
  {
   "cell_type": "code",
   "execution_count": 27,
   "id": "15c5c987",
   "metadata": {},
   "outputs": [
    {
     "data": {
      "text/html": [
       "<div>\n",
       "<style scoped>\n",
       "    .dataframe tbody tr th:only-of-type {\n",
       "        vertical-align: middle;\n",
       "    }\n",
       "\n",
       "    .dataframe tbody tr th {\n",
       "        vertical-align: top;\n",
       "    }\n",
       "\n",
       "    .dataframe thead th {\n",
       "        text-align: right;\n",
       "    }\n",
       "</style>\n",
       "<table border=\"1\" class=\"dataframe\">\n",
       "  <thead>\n",
       "    <tr style=\"text-align: right;\">\n",
       "      <th></th>\n",
       "      <th>Temperature</th>\n",
       "      <th>Humidity</th>\n",
       "      <th>Weather_Condition</th>\n",
       "      <th>Wind_Direction</th>\n",
       "    </tr>\n",
       "  </thead>\n",
       "  <tbody>\n",
       "    <tr>\n",
       "      <th>0</th>\n",
       "      <td>41</td>\n",
       "      <td>30</td>\n",
       "      <td>Sunny</td>\n",
       "      <td>East</td>\n",
       "    </tr>\n",
       "    <tr>\n",
       "      <th>1</th>\n",
       "      <td>31</td>\n",
       "      <td>50</td>\n",
       "      <td>Cloudy</td>\n",
       "      <td>North</td>\n",
       "    </tr>\n",
       "    <tr>\n",
       "      <th>2</th>\n",
       "      <td>30</td>\n",
       "      <td>56</td>\n",
       "      <td>Rainy</td>\n",
       "      <td>South</td>\n",
       "    </tr>\n",
       "    <tr>\n",
       "      <th>3</th>\n",
       "      <td>29</td>\n",
       "      <td>60</td>\n",
       "      <td>Rainy</td>\n",
       "      <td>West</td>\n",
       "    </tr>\n",
       "    <tr>\n",
       "      <th>4</th>\n",
       "      <td>42</td>\n",
       "      <td>29</td>\n",
       "      <td>Sunny</td>\n",
       "      <td>East</td>\n",
       "    </tr>\n",
       "    <tr>\n",
       "      <th>5</th>\n",
       "      <td>43</td>\n",
       "      <td>25</td>\n",
       "      <td>Sunny</td>\n",
       "      <td>East</td>\n",
       "    </tr>\n",
       "  </tbody>\n",
       "</table>\n",
       "</div>"
      ],
      "text/plain": [
       "   Temperature  Humidity Weather_Condition Wind_Direction\n",
       "0           41        30             Sunny           East\n",
       "1           31        50            Cloudy          North\n",
       "2           30        56             Rainy          South\n",
       "3           29        60             Rainy           West\n",
       "4           42        29             Sunny           East\n",
       "5           43        25             Sunny           East"
      ]
     },
     "execution_count": 27,
     "metadata": {},
     "output_type": "execute_result"
    }
   ],
   "source": [
    "pd.DataFrame(data)"
   ]
  },
  {
   "cell_type": "code",
   "execution_count": 28,
   "id": "5911f977",
   "metadata": {},
   "outputs": [],
   "source": [
    "df =pd.DataFrame(data)"
   ]
  },
  {
   "cell_type": "markdown",
   "id": "9de2cdb1",
   "metadata": {},
   "source": [
    "### To calculate the covariance between each pair of dataset, we need to encode the `Weather_condition` feature by Ordinal encoding and `Wind_Direction` feature by label encoding."
   ]
  },
  {
   "cell_type": "code",
   "execution_count": 40,
   "id": "0ac00a8a",
   "metadata": {},
   "outputs": [],
   "source": [
    "from sklearn.preprocessing import LabelEncoder, OrdinalEncoder"
   ]
  },
  {
   "cell_type": "code",
   "execution_count": 41,
   "id": "95b93c01",
   "metadata": {},
   "outputs": [],
   "source": [
    "lbl_encoding = LabelEncoder()"
   ]
  },
  {
   "cell_type": "code",
   "execution_count": 54,
   "id": "1f99617a",
   "metadata": {},
   "outputs": [],
   "source": [
    "import warnings\n",
    "warnings.filterwarnings(\"ignore\")"
   ]
  },
  {
   "cell_type": "code",
   "execution_count": 55,
   "id": "5c02602b",
   "metadata": {},
   "outputs": [],
   "source": [
    "encoder = OrdinalEncoder(categories=[[\"Sunny\",\"Cloudy\",\"Rainy\"]])"
   ]
  },
  {
   "cell_type": "code",
   "execution_count": 56,
   "id": "69f867c0",
   "metadata": {},
   "outputs": [
    {
     "data": {
      "text/html": [
       "<div>\n",
       "<style scoped>\n",
       "    .dataframe tbody tr th:only-of-type {\n",
       "        vertical-align: middle;\n",
       "    }\n",
       "\n",
       "    .dataframe tbody tr th {\n",
       "        vertical-align: top;\n",
       "    }\n",
       "\n",
       "    .dataframe thead th {\n",
       "        text-align: right;\n",
       "    }\n",
       "</style>\n",
       "<table border=\"1\" class=\"dataframe\">\n",
       "  <thead>\n",
       "    <tr style=\"text-align: right;\">\n",
       "      <th></th>\n",
       "      <th>Temperature</th>\n",
       "      <th>Humidity</th>\n",
       "      <th>Weather_Condition</th>\n",
       "      <th>Wind_Direction</th>\n",
       "      <th>encoded_weather_condition</th>\n",
       "      <th>encoded_wind_direction</th>\n",
       "    </tr>\n",
       "  </thead>\n",
       "  <tbody>\n",
       "    <tr>\n",
       "      <th>0</th>\n",
       "      <td>41</td>\n",
       "      <td>30</td>\n",
       "      <td>Sunny</td>\n",
       "      <td>East</td>\n",
       "      <td>0.0</td>\n",
       "      <td>0</td>\n",
       "    </tr>\n",
       "    <tr>\n",
       "      <th>1</th>\n",
       "      <td>31</td>\n",
       "      <td>50</td>\n",
       "      <td>Cloudy</td>\n",
       "      <td>North</td>\n",
       "      <td>1.0</td>\n",
       "      <td>1</td>\n",
       "    </tr>\n",
       "    <tr>\n",
       "      <th>2</th>\n",
       "      <td>30</td>\n",
       "      <td>56</td>\n",
       "      <td>Rainy</td>\n",
       "      <td>South</td>\n",
       "      <td>2.0</td>\n",
       "      <td>2</td>\n",
       "    </tr>\n",
       "    <tr>\n",
       "      <th>3</th>\n",
       "      <td>29</td>\n",
       "      <td>60</td>\n",
       "      <td>Rainy</td>\n",
       "      <td>West</td>\n",
       "      <td>2.0</td>\n",
       "      <td>3</td>\n",
       "    </tr>\n",
       "    <tr>\n",
       "      <th>4</th>\n",
       "      <td>42</td>\n",
       "      <td>29</td>\n",
       "      <td>Sunny</td>\n",
       "      <td>East</td>\n",
       "      <td>0.0</td>\n",
       "      <td>0</td>\n",
       "    </tr>\n",
       "    <tr>\n",
       "      <th>5</th>\n",
       "      <td>43</td>\n",
       "      <td>25</td>\n",
       "      <td>Sunny</td>\n",
       "      <td>East</td>\n",
       "      <td>0.0</td>\n",
       "      <td>0</td>\n",
       "    </tr>\n",
       "  </tbody>\n",
       "</table>\n",
       "</div>"
      ],
      "text/plain": [
       "   Temperature  Humidity Weather_Condition Wind_Direction  \\\n",
       "0           41        30             Sunny           East   \n",
       "1           31        50            Cloudy          North   \n",
       "2           30        56             Rainy          South   \n",
       "3           29        60             Rainy           West   \n",
       "4           42        29             Sunny           East   \n",
       "5           43        25             Sunny           East   \n",
       "\n",
       "   encoded_weather_condition  encoded_wind_direction  \n",
       "0                        0.0                       0  \n",
       "1                        1.0                       1  \n",
       "2                        2.0                       2  \n",
       "3                        2.0                       3  \n",
       "4                        0.0                       0  \n",
       "5                        0.0                       0  "
      ]
     },
     "execution_count": 56,
     "metadata": {},
     "output_type": "execute_result"
    }
   ],
   "source": [
    "df[\"encoded_weather_condition\"] = encoder.fit_transform(df[[\"Weather_Condition\"]])\n",
    "df[\"encoded_wind_direction\"] =  lbl_encoding.fit_transform(df[[\"Wind_Direction\"]])\n",
    "df"
   ]
  },
  {
   "cell_type": "code",
   "execution_count": 60,
   "id": "9fdae943",
   "metadata": {},
   "outputs": [
    {
     "data": {
      "text/html": [
       "<div>\n",
       "<style scoped>\n",
       "    .dataframe tbody tr th:only-of-type {\n",
       "        vertical-align: middle;\n",
       "    }\n",
       "\n",
       "    .dataframe tbody tr th {\n",
       "        vertical-align: top;\n",
       "    }\n",
       "\n",
       "    .dataframe thead th {\n",
       "        text-align: right;\n",
       "    }\n",
       "</style>\n",
       "<table border=\"1\" class=\"dataframe\">\n",
       "  <thead>\n",
       "    <tr style=\"text-align: right;\">\n",
       "      <th></th>\n",
       "      <th>Temperature</th>\n",
       "      <th>Humidity</th>\n",
       "      <th>encoded_weather_condition</th>\n",
       "      <th>encoded_wind_direction</th>\n",
       "    </tr>\n",
       "  </thead>\n",
       "  <tbody>\n",
       "    <tr>\n",
       "      <th>0</th>\n",
       "      <td>41</td>\n",
       "      <td>30</td>\n",
       "      <td>0.0</td>\n",
       "      <td>0</td>\n",
       "    </tr>\n",
       "    <tr>\n",
       "      <th>1</th>\n",
       "      <td>31</td>\n",
       "      <td>50</td>\n",
       "      <td>1.0</td>\n",
       "      <td>1</td>\n",
       "    </tr>\n",
       "    <tr>\n",
       "      <th>2</th>\n",
       "      <td>30</td>\n",
       "      <td>56</td>\n",
       "      <td>2.0</td>\n",
       "      <td>2</td>\n",
       "    </tr>\n",
       "    <tr>\n",
       "      <th>3</th>\n",
       "      <td>29</td>\n",
       "      <td>60</td>\n",
       "      <td>2.0</td>\n",
       "      <td>3</td>\n",
       "    </tr>\n",
       "    <tr>\n",
       "      <th>4</th>\n",
       "      <td>42</td>\n",
       "      <td>29</td>\n",
       "      <td>0.0</td>\n",
       "      <td>0</td>\n",
       "    </tr>\n",
       "    <tr>\n",
       "      <th>5</th>\n",
       "      <td>43</td>\n",
       "      <td>25</td>\n",
       "      <td>0.0</td>\n",
       "      <td>0</td>\n",
       "    </tr>\n",
       "  </tbody>\n",
       "</table>\n",
       "</div>"
      ],
      "text/plain": [
       "   Temperature  Humidity  encoded_weather_condition  encoded_wind_direction\n",
       "0           41        30                        0.0                       0\n",
       "1           31        50                        1.0                       1\n",
       "2           30        56                        2.0                       2\n",
       "3           29        60                        2.0                       3\n",
       "4           42        29                        0.0                       0\n",
       "5           43        25                        0.0                       0"
      ]
     },
     "execution_count": 60,
     "metadata": {},
     "output_type": "execute_result"
    }
   ],
   "source": [
    "df[['Temperature', 'Humidity','encoded_weather_condition', 'encoded_wind_direction']]"
   ]
  },
  {
   "cell_type": "code",
   "execution_count": 61,
   "id": "972cc51a",
   "metadata": {},
   "outputs": [
    {
     "data": {
      "text/html": [
       "<div>\n",
       "<style scoped>\n",
       "    .dataframe tbody tr th:only-of-type {\n",
       "        vertical-align: middle;\n",
       "    }\n",
       "\n",
       "    .dataframe tbody tr th {\n",
       "        vertical-align: top;\n",
       "    }\n",
       "\n",
       "    .dataframe thead th {\n",
       "        text-align: right;\n",
       "    }\n",
       "</style>\n",
       "<table border=\"1\" class=\"dataframe\">\n",
       "  <thead>\n",
       "    <tr style=\"text-align: right;\">\n",
       "      <th></th>\n",
       "      <th>Temperature</th>\n",
       "      <th>Humidity</th>\n",
       "      <th>encoded_weather_condition</th>\n",
       "      <th>encoded_wind_direction</th>\n",
       "    </tr>\n",
       "  </thead>\n",
       "  <tbody>\n",
       "    <tr>\n",
       "      <th>Temperature</th>\n",
       "      <td>44.0</td>\n",
       "      <td>-101.400000</td>\n",
       "      <td>-6.200000</td>\n",
       "      <td>-7.6</td>\n",
       "    </tr>\n",
       "    <tr>\n",
       "      <th>Humidity</th>\n",
       "      <td>-101.4</td>\n",
       "      <td>237.066667</td>\n",
       "      <td>14.733333</td>\n",
       "      <td>18.4</td>\n",
       "    </tr>\n",
       "    <tr>\n",
       "      <th>encoded_weather_condition</th>\n",
       "      <td>-6.2</td>\n",
       "      <td>14.733333</td>\n",
       "      <td>0.966667</td>\n",
       "      <td>1.2</td>\n",
       "    </tr>\n",
       "    <tr>\n",
       "      <th>encoded_wind_direction</th>\n",
       "      <td>-7.6</td>\n",
       "      <td>18.400000</td>\n",
       "      <td>1.200000</td>\n",
       "      <td>1.6</td>\n",
       "    </tr>\n",
       "  </tbody>\n",
       "</table>\n",
       "</div>"
      ],
      "text/plain": [
       "                           Temperature    Humidity  encoded_weather_condition  \\\n",
       "Temperature                       44.0 -101.400000                  -6.200000   \n",
       "Humidity                        -101.4  237.066667                  14.733333   \n",
       "encoded_weather_condition         -6.2   14.733333                   0.966667   \n",
       "encoded_wind_direction            -7.6   18.400000                   1.200000   \n",
       "\n",
       "                           encoded_wind_direction  \n",
       "Temperature                                  -7.6  \n",
       "Humidity                                     18.4  \n",
       "encoded_weather_condition                     1.2  \n",
       "encoded_wind_direction                        1.6  "
      ]
     },
     "execution_count": 61,
     "metadata": {},
     "output_type": "execute_result"
    }
   ],
   "source": [
    "df[['Temperature', 'Humidity','encoded_weather_condition', 'encoded_wind_direction']].cov()"
   ]
  },
  {
   "cell_type": "markdown",
   "id": "1944a49c",
   "metadata": {},
   "source": [
    "From the matrix, we can see that:\n",
    "\n",
    "- `Temperature` and `Humidity` have a negative correlation, which means that as Temperature goes up, Humidity tends to go down.\n",
    "\n",
    "- `The encoded weather condition` and `encoded wind direction` have a positive correlation, which means that as the encoded weather condition goes up, the encoded wind direction tends to go up as well.\n",
    "\n",
    "- `Temperature and encoded weather condition`, as well as Temperature and encoded wind direction, have a negative correlation.\n",
    "\n",
    "Humidity and encoded weather condition, as well as Humidity and encoded wind direction, have a positive correlation.\n",
    "The values in the matrix represent the covariance between the variables. The covariance measures how two variables vary together. A positive covariance indicates that the two variables tend to vary in the same direction, while a negative covariance indicates that the two variables tend to vary in opposite directions."
   ]
  },
  {
   "cell_type": "code",
   "execution_count": null,
   "id": "e5b40a47",
   "metadata": {},
   "outputs": [],
   "source": []
  },
  {
   "cell_type": "code",
   "execution_count": null,
   "id": "0c708cdd",
   "metadata": {},
   "outputs": [],
   "source": []
  },
  {
   "cell_type": "code",
   "execution_count": null,
   "id": "922c9ed8",
   "metadata": {},
   "outputs": [],
   "source": []
  },
  {
   "cell_type": "code",
   "execution_count": null,
   "id": "463fc3b4",
   "metadata": {},
   "outputs": [],
   "source": []
  }
 ],
 "metadata": {
  "kernelspec": {
   "display_name": "Python 3 (ipykernel)",
   "language": "python",
   "name": "python3"
  },
  "language_info": {
   "codemirror_mode": {
    "name": "ipython",
    "version": 3
   },
   "file_extension": ".py",
   "mimetype": "text/x-python",
   "name": "python",
   "nbconvert_exporter": "python",
   "pygments_lexer": "ipython3",
   "version": "3.10.9"
  }
 },
 "nbformat": 4,
 "nbformat_minor": 5
}
