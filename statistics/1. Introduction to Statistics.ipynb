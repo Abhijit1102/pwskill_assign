{
 "cells": [
  {
   "cell_type": "markdown",
   "id": "c87fd390",
   "metadata": {},
   "source": [
    "## Q1. What is Statistics?"
   ]
  },
  {
   "cell_type": "markdown",
   "id": "e8ab96d2",
   "metadata": {},
   "source": [
    "`Statistics` is a branch of mathematics that deals with the collection, analysis, interpretation, presentation, and organization of data. It involves using various methods and techniques to gather and analyze numerical and categorical data to identify patterns, trends, and relationships that can provide insights and inform decision-making.\n",
    "\n",
    "`Statistics` is used in various fields such as business, economics, social sciences, engineering, medicine, and many others. Some of the key concepts in statistics include probability, hypothesis testing, regression analysis, correlation, and sampling. The insights gained from statistical analysis can be used to make informed decisions and predictions, and to evaluate the validity of hypotheses and claims."
   ]
  },
  {
   "cell_type": "markdown",
   "id": "a35be99d",
   "metadata": {},
   "source": [
    "## Q2. Define the different types of statistics and give an example of when each type might be used."
   ]
  },
  {
   "cell_type": "markdown",
   "id": "9eb0e24b",
   "metadata": {},
   "source": [
    "There are two main types of statistics: `descriptive statistics` and `inferential statistics`.\n",
    "\n",
    "1. `Descriptive statistics`: This type of statistics deals with the collection, presentation, and summary of data. It describes the characteristics of a dataset using measures such as central tendency, variability, and frequency distribution. Descriptive statistics can be used to summarize and visualize data in a way that is easy to understand. Some examples of when descriptive statistics might be used include:\n",
    "   - A business wants to understand the sales performance of its products. Descriptive statistics can be used to summarize sales data by product, region, or time period to identify trends and patterns.\n",
    "   - A researcher wants to summarize the results of a survey. Descriptive statistics can be used to calculate the average response, the most common response, and the range of responses for each question.\n",
    "2. `Inferential statistics`: This type of statistics deals with making inferences or generalizations about a population based on a sample of data. It involves using probability theory to test hypotheses and draw conclusions from a sample about a larger population. Some examples of when inferential statistics might be used include:\n",
    "   - A medical researcher wants to test a new drug. Inferential statistics can be used to determine if the drug is significantly more effective than a placebo by comparing the outcomes of the treatment group to the control group.\n",
    "   - A pollster wants to estimate the percentage of voters who support a particular candidate. Inferential statistics can be used to calculate a margin of error that reflects the degree of uncertainty in the estimate due to sampling variability.\n",
    "\n",
    "\n"
   ]
  },
  {
   "cell_type": "markdown",
   "id": "6429dbfe",
   "metadata": {},
   "source": [
    "## Q3. What are the different types of data and how do they differ from each other? Provide an example of each type of data.\n",
    "## (i) Grading in exam: A+, A, B+, B, C+, C, D, E\n",
    "## (ii) Colour of mangoes: yellow, green, orange, red\n",
    "## (iii) Height data of a class: [178.9, 179, 179.5, 176, 177.2, 178.3, 175.8,...]\n",
    "## (iv) Number of mangoes exported by a farm: [500, 600, 478, 672, ...]"
   ]
  },
  {
   "cell_type": "markdown",
   "id": "8fe88715",
   "metadata": {},
   "source": [
    "`(i) Grading in exam: A+, A, B+, B, C+, C, D, E`\n",
    "\n",
    "- This is an example of ordinal data, which are data that have a natural order or ranking. In this case, the grades have a clear hierarchy from A+ (the highest grade) to E (the lowest grade). However, the differences between the grades are not necessarily equal.\n",
    "\n",
    "`(ii) Colour of mangoes: yellow, green, orange, red`\n",
    "\n",
    "- This is an example of nominal data, which are data that represent categories or labels with no inherent order. In this case, the colors of mangoes are distinct categories with no inherent ranking or order.\n",
    "\n",
    "`(iii) Height data of a class: [178.9, 179, 179.5, 176, 177.2, 178.3, 175.8,...]`\n",
    "\n",
    "- This is an example of interval data, which are data that have equal intervals between the values, but do not have a true zero point. In this case, the differences between the heights are equal, but zero does not represent the absence of height. Temperature is another example of interval data.\n",
    "\n",
    "`(iv) Number of mangoes exported by a farm: [500, 600, 478, 672, ...]`\n",
    "\n",
    "- This is an example of ratio data, which are data that have equal intervals between the values and a true zero point. In this case, zero represents the absence of mangoes, and the differences between the numbers of mangoes are equal. Other examples of ratio data include weight, height, and age."
   ]
  },
  {
   "cell_type": "markdown",
   "id": "4fa3ff4c",
   "metadata": {},
   "source": [
    "## Q5. Explain the concept of levels of measurement and give an example of a variable for each level."
   ]
  },
  {
   "cell_type": "markdown",
   "id": "85424ec0",
   "metadata": {},
   "source": [
    "Levels of measurement refer to the different ways that variables can be measured or categorized. There are four main levels of measurement: nominal, ordinal, interval, and ratio.\n",
    "\n",
    "1. `Nominal Level`: This is the simplest level of measurement, which involves categorizing variables into discrete groups. Nominal data do not have any order, magnitude or size associated with them, but are just used for naming or labeling the categories. \n",
    "     - Examples of variables measured at nominal level include: Gender (male, female), Marital status (single, married, divorced, widowed),Eye color (blue, green, brown, etc.).\n",
    "\n",
    "2. `Ordinal Level`: Variables measured at this level can be categorized and ordered, but the differences between the categories are not necessarily equal. \n",
    "    - Examples of variables measured at ordinal level include: Educational level (high school diploma, associate’s degree, bachelor’s degree, master’s degree, doctorate), Military ranks (private, sergeant, lieutenant, captain, major),Levels of customer satisfaction (very satisfied, somewhat satisfied, neutral, somewhat dissatisfied, very dissatisfied).\n",
    "\n",
    "3. `Interval Level`: Variables measured at this level have equal intervals between the values, but there is no true zero point. \n",
    "   - Examples of variables measured at interval level include: Temperature measured in Celsius or Fahrenheit (0°C or 32°F does not indicate the absence of temperature),Year of birth (0 does not indicate the absence of birth year), IQ score.\n",
    "\n",
    "4. `Ratio Level`: Variables measured at this level have equal intervals between the values and a true zero point, which indicates the absence of the variable being measured.\n",
    "   - Examples of variables measured at ratio level include: Weight, Height, Age ,Income ,Sales revenue, Number of employees"
   ]
  },
  {
   "cell_type": "markdown",
   "id": "bbb4bc6c",
   "metadata": {},
   "source": [
    "## Q6. Why is it important to understand the level of measurement when analyzing data? Provide an example to illustrate your answer."
   ]
  },
  {
   "cell_type": "markdown",
   "id": "863450bb",
   "metadata": {},
   "source": [
    "Understanding the level of measurement is important when analyzing data because it determines the types of statistical methods that can be used and the interpretations that can be made. Different levels of measurement have different characteristics, and therefore require different analytical approaches.\n",
    "\n",
    "For example, if you have data on the income of individuals, the level of measurement would be ratio. This means that you can use more advanced statistical methods, such as correlation and regression analysis, to analyze the relationships between income and other variables. However, if you have data on the favorite colors of individuals, the level of measurement would be nominal. This means that you can only use descriptive statistics, such as frequency distributions and percentages, to summarize the data.\n",
    "\n",
    "Similarly, if you have data on the rankings of different brands of cars by consumers, the level of measurement would be ordinal. This means that you can use statistical methods such as rank correlation and non-parametric tests to analyze the data. But if you have data on the temperature in different cities, the level of measurement would be interval. This means that you can use measures such as means, standard deviations, and t-tests to analyze the data."
   ]
  },
  {
   "cell_type": "markdown",
   "id": "b0e2e2a5",
   "metadata": {},
   "source": [
    "## Q7. How nominal data type is different from ordinal data type."
   ]
  },
  {
   "cell_type": "markdown",
   "id": "52e1b0d0",
   "metadata": {},
   "source": [
    "Nominal data and ordinal data are both types of categorical data, but they differ in terms of the nature of the categories and the extent to which they can be ordered or ranked.\n",
    "\n",
    "Nominal data refer to categorical data where the categories are unordered and have no numerical significance. Nominal categories represent different types or classes of the variable being measured. For example, nominal data can be used to categorize animals by species, colors of cars, or types of food. There is no inherent order or ranking among the categories in nominal data.\n",
    "\n",
    "Ordinal data, on the other hand, refer to categorical data where the categories are ordered or ranked in some way. Ordinal categories represent different levels or degrees of the variable being measured. For example, ordinal data can be used to rank the levels of education (e.g. high school, college, postgraduate), or the levels of customer satisfaction (e.g. very satisfied, somewhat satisfied, neutral, somewhat dissatisfied, very dissatisfied). The order of the categories in ordinal data reflects the relative magnitude or intensity of the variable being measured, but the differences between the categories may not be equally spaced."
   ]
  },
  {
   "cell_type": "markdown",
   "id": "6fea74d8",
   "metadata": {},
   "source": [
    "## Q8. Which type of plot can be used to display data in terms of range?"
   ]
  },
  {
   "cell_type": "markdown",
   "id": "2fcf617f",
   "metadata": {},
   "source": [
    "A box plot provides a visual summary of the distribution of a dataset, by indicating the median, quartiles, and any outliers or extreme values. The box represents the middle 50% of the data, with the bottom of the box indicating the first quartile (25th percentile) and the top of the box indicating the third quartile (75th percentile). The whiskers extend from the box to the minimum and maximum values, excluding any outliers or extreme values. Outliers or extreme values are represented as individual data points beyond the whiskers.\n",
    "\n",
    "By displaying the range of the data using a box plot, it becomes easy to see the spread of the data and any outliers that may exist. Box plots can be particularly useful for comparing the ranges of different datasets or for identifying any differences in the ranges of subsets of dat"
   ]
  },
  {
   "cell_type": "markdown",
   "id": "cb901e5a",
   "metadata": {},
   "source": [
    "## Q9. Describe the difference between descriptive and inferential statistics. Give an example of each type of statistics and explain how they are used."
   ]
  },
  {
   "cell_type": "markdown",
   "id": "80c691bc",
   "metadata": {},
   "source": [
    "`Descriptive statistics` are used to summarize and describe the main features of a dataset, such as its central tendency, variability, and distribution. Descriptive statistics provide a way to summarize and communicate the key characteristics of a dataset to a general audience. \n",
    "- Some common examples of descriptive statistics include measures such as the mean, median, mode, range, standard deviation, and frequency distributions. For example, if we have a dataset that includes the ages of a group of people, we could use descriptive statistics to calculate the average age, the range of ages, and the proportion of people in different age categories.\n",
    "\n",
    "`Inferential statistics`, on the other hand, are used to make inferences or predictions about a larger population based on a sample of data. Inferential statistics involve using probability theory and hypothesis testing to determine the likelihood of certain outcomes or relationships in a population based on the characteristics of a sample. Some common examples of inferential statistics include hypothesis testing, confidence intervals, and regression analysis.\n",
    "- For example, if we want to know whether a new medication is effective in treating a particular condition, we could conduct a randomized controlled trial with a sample of patients and use inferential statistics to determine whether the results of the trial can be generalized to the larger population of people with the condition."
   ]
  },
  {
   "cell_type": "markdown",
   "id": "2661da6a",
   "metadata": {},
   "source": [
    "## Q10. What are some common measures of central tendency and variability used in statistics? Explain how each measure can be used to describe a dataset."
   ]
  },
  {
   "cell_type": "markdown",
   "id": "141966c5",
   "metadata": {},
   "source": [
    "Measures of central tendency are used to describe the center or typical value of a dataset. There are three common measures of central tendency:\n",
    "\n",
    "1. `Mean`: The mean is the average value of the dataset and is calculated by adding up all the values and dividing by the total number of values. The mean is a useful measure of central tendency when the data are normally distributed or symmetrical.\n",
    "\n",
    "2. `Median`: The median is the middle value of the dataset, which separates the data into two equal halves. The median is a useful measure of central tendency when the data are skewed or contain extreme values that would affect the mean.\n",
    "\n",
    "3. `Mode`: The mode is the value that occurs most frequently in the dataset. The mode is a useful measure of central tendency when the data are categorical or nominal."
   ]
  }
 ],
 "metadata": {
  "kernelspec": {
   "display_name": "Python 3 (ipykernel)",
   "language": "python",
   "name": "python3"
  },
  "language_info": {
   "codemirror_mode": {
    "name": "ipython",
    "version": 3
   },
   "file_extension": ".py",
   "mimetype": "text/x-python",
   "name": "python",
   "nbconvert_exporter": "python",
   "pygments_lexer": "ipython3",
   "version": "3.10.9"
  }
 },
 "nbformat": 4,
 "nbformat_minor": 5
}
