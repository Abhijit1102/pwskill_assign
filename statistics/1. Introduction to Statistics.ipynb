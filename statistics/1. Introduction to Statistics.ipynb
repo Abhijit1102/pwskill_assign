{
 "cells": [
  {
   "cell_type": "markdown",
   "id": "c87fd390",
   "metadata": {},
   "source": [
    "## Q1. What is Statistics?"
   ]
  },
  {
   "cell_type": "markdown",
   "id": "e8ab96d2",
   "metadata": {},
   "source": [
    "`Statistics` is a branch of mathematics that deals with the collection, analysis, interpretation, presentation, and organization of data. It involves using various methods and techniques to gather and analyze numerical and categorical data to identify patterns, trends, and relationships that can provide insights and inform decision-making.\n",
    "\n",
    "`Statistics` is used in various fields such as business, economics, social sciences, engineering, medicine, and many others. Some of the key concepts in statistics include probability, hypothesis testing, regression analysis, correlation, and sampling. The insights gained from statistical analysis can be used to make informed decisions and predictions, and to evaluate the validity of hypotheses and claims."
   ]
  },
  {
   "cell_type": "markdown",
   "id": "a35be99d",
   "metadata": {},
   "source": [
    "## Q2. Define the different types of statistics and give an example of when each type might be used."
   ]
  },
  {
   "cell_type": "markdown",
   "id": "9eb0e24b",
   "metadata": {},
   "source": [
    "There are two main types of statistics: `descriptive statistics` and `inferential statistics`.\n",
    "\n",
    "1. `Descriptive statistics`: This type of statistics deals with the collection, presentation, and summary of data. It describes the characteristics of a dataset using measures such as central tendency, variability, and frequency distribution. Descriptive statistics can be used to summarize and visualize data in a way that is easy to understand. Some examples of when descriptive statistics might be used include:\n",
    "   - A business wants to understand the sales performance of its products. Descriptive statistics can be used to summarize sales data by product, region, or time period to identify trends and patterns.\n",
    "   - A researcher wants to summarize the results of a survey. Descriptive statistics can be used to calculate the average response, the most common response, and the range of responses for each question.\n",
    "2. `Inferential statistics`: This type of statistics deals with making inferences or generalizations about a population based on a sample of data. It involves using probability theory to test hypotheses and draw conclusions from a sample about a larger population. Some examples of when inferential statistics might be used include:\n",
    "   - A medical researcher wants to test a new drug. Inferential statistics can be used to determine if the drug is significantly more effective than a placebo by comparing the outcomes of the treatment group to the control group.\n",
    "   - A pollster wants to estimate the percentage of voters who support a particular candidate. Inferential statistics can be used to calculate a margin of error that reflects the degree of uncertainty in the estimate due to sampling variability.\n",
    "\n",
    "\n"
   ]
  },
  {
   "cell_type": "markdown",
   "id": "6429dbfe",
   "metadata": {},
   "source": [
    "## Q3. What are the different types of data and how do they differ from each other? Provide an example of each type of data."
   ]
  },
  {
   "cell_type": "code",
   "execution_count": null,
   "id": "bcb18f5f",
   "metadata": {},
   "outputs": [],
   "source": []
  },
  {
   "cell_type": "code",
   "execution_count": null,
   "id": "9359d3bf",
   "metadata": {},
   "outputs": [],
   "source": []
  },
  {
   "cell_type": "code",
   "execution_count": null,
   "id": "59945880",
   "metadata": {},
   "outputs": [],
   "source": []
  },
  {
   "cell_type": "code",
   "execution_count": null,
   "id": "aed4e0c0",
   "metadata": {},
   "outputs": [],
   "source": []
  },
  {
   "cell_type": "code",
   "execution_count": null,
   "id": "41400aba",
   "metadata": {},
   "outputs": [],
   "source": []
  }
 ],
 "metadata": {
  "kernelspec": {
   "display_name": "Python 3 (ipykernel)",
   "language": "python",
   "name": "python3"
  },
  "language_info": {
   "codemirror_mode": {
    "name": "ipython",
    "version": 3
   },
   "file_extension": ".py",
   "mimetype": "text/x-python",
   "name": "python",
   "nbconvert_exporter": "python",
   "pygments_lexer": "ipython3",
   "version": "3.10.9"
  }
 },
 "nbformat": 4,
 "nbformat_minor": 5
}
