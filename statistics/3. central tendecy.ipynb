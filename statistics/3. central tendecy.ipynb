{
 "cells": [
  {
   "cell_type": "markdown",
   "id": "58cd9482",
   "metadata": {},
   "source": [
    "## Q1. What are the three measures of central tendency?"
   ]
  },
  {
   "cell_type": "markdown",
   "id": "ef109012",
   "metadata": {},
   "source": [
    "The three measures of central tendency are:\n",
    "\n",
    "1. `Mean`: It is the arithmetic average of all the values in a dataset. It is calculated by adding up all the values in the dataset and dividing by the total number of values.\n",
    "\n",
    "2. `Median`: It is the middle value in a dataset when the values are arranged in order. It is calculated by taking the value that is exactly in the middle of the dataset. If there are an even number of values, then the median is the average of the two middle values.\n",
    "\n",
    "3. `Mode`: It is the most frequently occurring value in a dataset. It is calculated by finding the value that appears most often in the dataset. A dataset can have one or more modes, or it can have no mode if no value appears more than once."
   ]
  },
  {
   "cell_type": "markdown",
   "id": "3f0b4d7c",
   "metadata": {},
   "source": [
    "## Q2. What is the difference between the mean, median, and mode? How are they used to measure the central tendency of a dataset?"
   ]
  },
  {
   "cell_type": "markdown",
   "id": "4f6cb65d",
   "metadata": {},
   "source": [
    "The `mean`, `median`, and ` mode` are three measures of central tendency used to describe the central or typical value of a dataset.\n",
    "\n",
    "- The `mean` is calculated by adding up all the values in the dataset and dividing by the total number of values. It is sensitive to extreme values or outliers and can be influenced by them, making it sometimes not representative of the dataset.\n",
    "\n",
    "- The `median` is the middle value in a dataset when the values are arranged in order. It is less sensitive to extreme values or outliers than the mean, making it more representative of the dataset in skewed distributions.\n",
    "\n",
    "- The `mode`is the most frequently occurring value in a dataset. It is useful when the goal is to determine the most common value in the dataset.\n",
    "\n",
    "- The selection of a measure of central tendency depends on the nature of the dataset and the research question. If the dataset is symmetrical, then the `mean`, `median`, and `mode` will be close to each other. In skewed distributions, the `median` is often preferred as a measure of central tendency as it is less affected by `outliers`."
   ]
  },
  {
   "cell_type": "markdown",
   "id": "4859f871",
   "metadata": {},
   "source": [
    "## Q3. Measure the three measures of central tendency for the given height data:\n",
    "## [178,177,176,177,178.2,178,175,179,180,175,178.9,176.2,177,172.5,178,176.5]"
   ]
  },
  {
   "cell_type": "code",
   "execution_count": 5,
   "id": "f35b7eaa",
   "metadata": {},
   "outputs": [],
   "source": [
    "data = [178,177,176,177,178.2,178,175,179,180,175,178.9,176.2,177,172.5,178,176.5]"
   ]
  },
  {
   "cell_type": "code",
   "execution_count": 8,
   "id": "2a7559ca",
   "metadata": {},
   "outputs": [],
   "source": [
    "import warnings\n",
    "warnings.filterwarnings(\"ignore\")"
   ]
  },
  {
   "cell_type": "code",
   "execution_count": 3,
   "id": "e9847001",
   "metadata": {},
   "outputs": [],
   "source": [
    "from scipy import stats\n",
    "import numpy as np"
   ]
  },
  {
   "cell_type": "code",
   "execution_count": 9,
   "id": "2192f612",
   "metadata": {},
   "outputs": [
    {
     "name": "stdout",
     "output_type": "stream",
     "text": [
      "Mean of the data: 177.01875\n",
      "Median of the data: 177.0\n",
      "Mode of the data: [177.]\n"
     ]
    }
   ],
   "source": [
    "# calculate the mean\n",
    "mean = np.mean(data)\n",
    "print(\"Mean of the data:\", mean)\n",
    "\n",
    "# calculate the median\n",
    "median = np.median(data)\n",
    "print(\"Median of the data:\", median)\n",
    "\n",
    "# calculate the mode\n",
    "mode = stats.mode(data)\n",
    "print(\"Mode of the data:\", mode.mode)"
   ]
  },
  {
   "cell_type": "markdown",
   "id": "e8df3a50",
   "metadata": {},
   "source": [
    "## Q4. Find the standard deviation for the given data:\n",
    "## [178,177,176,177,178.2,178,175,179,180,175,178.9,176.2,177,172.5,178,176.5]"
   ]
  },
  {
   "cell_type": "code",
   "execution_count": 13,
   "id": "53d0cde0",
   "metadata": {},
   "outputs": [],
   "source": [
    "data =[178,177,176,177,178.2,178,175,179,180,175,178.9,176.2,177,172.5,178,176.5]"
   ]
  },
  {
   "cell_type": "code",
   "execution_count": 14,
   "id": "c45c2ba3",
   "metadata": {},
   "outputs": [
    {
     "name": "stdout",
     "output_type": "stream",
     "text": [
      "The Standard Deviation of given Data : 1.7885814036548633\n"
     ]
    }
   ],
   "source": [
    "print(\"The Standard Deviation of given Data :\", np.std(data))"
   ]
  },
  {
   "cell_type": "markdown",
   "id": "9da3a985",
   "metadata": {},
   "source": [
    "## Q5. How are measures of dispersion such as range, variance, and standard deviation used to describe the spread of a dataset? Provide an example."
   ]
  },
  {
   "cell_type": "markdown",
   "id": "6a39bf18",
   "metadata": {},
   "source": [
    "`Measures of dispersion`, such as `range`, `variance`, and `standard deviation`, are used to describe the spread or variability of a dataset. They help to provide information about how far the data points are from the central tendency of the dataset.\n",
    "\n",
    "- 1. `Range` is a simple measure of dispersion that represents the difference between the largest and smallest values in a dataset. It is easy to calculate but can be sensitive to outliers. For example, if we have a dataset of test scores ranging from 60 to 100, the range would be 40.\n",
    "\n",
    "- 2. `Variance` is a more robust measure of dispersion that takes into account the deviation of each data point from the mean of the dataset. It is calculated by squaring the difference between each data point and the mean, summing these values, and dividing by the number of data points minus one. Variance is useful because it gives a sense of how much the data points deviate from the mean. For example, if we have a dataset of test scores with a mean of 80 and a variance of 100, we know that the scores are more spread out than a dataset with a variance of 25.\n",
    "\n",
    "- 3. `Standard deviation` is the square root of the variance and is also a measure of how much the data points deviate from the mean. It is used more often than variance because it is expressed in the same units as the original data and is easier to interpret. For example, if we have a dataset of test scores with a mean of 80 and a standard deviation of 10, we can say that most of the scores fall within 10 points of the mean."
   ]
  },
  {
   "cell_type": "markdown",
   "id": "217b2554",
   "metadata": {},
   "source": [
    "## Q6. What is a Venn diagram?"
   ]
  },
  {
   "cell_type": "markdown",
   "id": "281705a1",
   "metadata": {},
   "source": [
    "A `Venn diagram` is a visual representation of sets or groups of data that helps to show their relationships and overlaps. The diagram consists of circles, each representing a set or group, with the size of the circle proportional to the number of elements in the set. The circles are placed in such a way that their intersections show the elements that belong to both sets or all sets. Venn diagrams are commonly used in mathematics, statistics, logic, and other fields to illustrate concepts such as set operations, logical relationships, and data analysis."
   ]
  },
  {
   "cell_type": "markdown",
   "id": "3fbf061a",
   "metadata": {},
   "source": [
    "### Q7. For the two given sets A = (2,3,4,5,6,7) & B = (0,2,6,8,10).\n",
    "## Find:\n",
    "## $$ (i)  A \\cap B $$\n",
    "## $$ (ii) A \\bigcap B $$"
   ]
  },
  {
   "cell_type": "markdown",
   "id": "691a9aa5",
   "metadata": {},
   "source": [
    " ## $$ (i) A \\cap B  =(2,6) $$\n",
    " \n",
    " ## $$ (ii) A \\cap B = (0,2,3,4,5,6,7,8,10) $$"
   ]
  },
  {
   "cell_type": "markdown",
   "id": "d62cac33",
   "metadata": {},
   "source": [
    "## Q8. What do you understand about skewness in data?"
   ]
  },
  {
   "cell_type": "markdown",
   "id": "1f73d5db",
   "metadata": {},
   "source": [
    "`Skewness` in data refers to the degree of asymmetry of the probability distribution of the data. In a symmetrical distribution, the data is evenly distributed around the mean, with equal frequencies on either side. However, in a skewed distribution, the data is not evenly distributed around the mean, and the tail of the distribution is longer on one side than the other. Skewness can be positive or right-skewed, negative or left-skewed, or zero, indicating no skewness. Positive skewness means that the tail of the distribution is longer on the right side, while negative skewness means that the tail of the distribution is longer on the left side. Skewness is an important measure in data analysis as it helps to understand the shape of the distribution and the degree of variability in the data."
   ]
  },
  {
   "cell_type": "markdown",
   "id": "2457d500",
   "metadata": {},
   "source": [
    "## Q9. If a data is right skewed then what will be the position of median with respect to mean?"
   ]
  },
  {
   "cell_type": "markdown",
   "id": "7481cde4",
   "metadata": {},
   "source": [
    "If a data is right-skewed, then the median will be less than the mean. This is because in a right-skewed distribution, the tail of the distribution is longer on the right side, which pulls the mean in that direction, making it greater than the median. The median is the value that divides the data into two equal halves, while the mean is the arithmetic average of all the values. In a right-skewed distribution, there are some extreme values on the right side of the distribution, which increase the mean, but not the median, as the median is not affected by extreme values. Therefore, the mean will be higher than the median in a right-skewed distribution."
   ]
  },
  {
   "cell_type": "markdown",
   "id": "6262e665",
   "metadata": {},
   "source": [
    "## Q10. Explain the difference between covariance and correlation. How are these measures used in statistical analysis?"
   ]
  },
  {
   "cell_type": "markdown",
   "id": "869bef51",
   "metadata": {},
   "source": [
    "`Covariance` and `correlation` are both measures of the relationship between two variables, but they have some important differences.\n",
    "\n",
    "`Covariance` measures how much two variables change together. It is a measure of the strength and direction of the linear relationship between two variables. Covariance can be positive, negative, or zero. A positive covariance indicates a positive relationship, meaning that as one variable increases, the other variable tends to increase as well. A negative covariance indicates a negative relationship, meaning that as one variable increases, the other variable tends to decrease. A covariance of zero indicates that there is no relationship between the two variables.\n",
    "\n",
    "`Correlation`, on the other hand, measures the strength and direction of the linear relationship between two variables, but it does so by standardizing the data. This means that correlation is a unitless measure that ranges from -1 to 1. A correlation of +1 indicates a perfect positive relationship, a correlation of -1 indicates a perfect negative relationship, and a correlation of 0 indicates no relationship. Correlation is a more informative measure of the relationship between two variables than covariance because it is not affected by the scale of the variables.\n",
    "\n",
    "In `statistical analysis`, `covariance` and `correlation` are used to study the relationship between two variables. `Covariance` is used to determine the direction of the relationship between two variables and to calculate the degree to which they change together. `Correlation` is used to measure the strength and direction of the linear relationship between two variables, and to determine the degree to which one variable can be predicted from the other variable. `Correlation` is preferred over `covariance` when the scale of the variables is different or when the researcher wants to compare the relationship between two different pairs of variables."
   ]
  },
  {
   "cell_type": "markdown",
   "id": "afd94b8f",
   "metadata": {},
   "source": [
    "## Q11. What is the formula for calculating the sample mean? Provide an example calculation for a dataset."
   ]
  },
  {
   "cell_type": "markdown",
   "id": "3ece61dc",
   "metadata": {},
   "source": [
    "The formula for calculating the sample mean is:\n",
    "\n",
    "mean = (sum of all the values in the dataset) / (number of values in the dataset)\n",
    "\n",
    "For example, let's calculate the sample mean for the following dataset:\n",
    "\n",
    "[10, 12, 15, 18, 20]\n",
    "\n",
    "mean = (10 + 12 + 15 + 18 + 20) / 5\n",
    "= 75 / 5\n",
    "= 15\n",
    "\n",
    "Therefore, the sample mean for this dataset is 15."
   ]
  },
  {
   "cell_type": "markdown",
   "id": "3eea37e0",
   "metadata": {},
   "source": [
    "## Q12. For a normal distribution data what is the relationship between its measure of central tendency?"
   ]
  },
  {
   "cell_type": "markdown",
   "id": "bf0eb11e",
   "metadata": {},
   "source": [
    "For a `normal distribution`, the `mean`, `median`, and `mode` are all equal. This is because a normal distribution is symmetric around its mean, and the mean is the point around which the data are balanced. The median is also at this point, since it is the middle value of a sorted dataset. And since the data are symmetric, the mode is also at the same point as the mean and median. Therefore, for a normal distribution, the measure of central tendency (mean, median, and mode) are all equal"
   ]
  },
  {
   "cell_type": "markdown",
   "id": "9774bdf9",
   "metadata": {},
   "source": [
    "## Q13. How is covariance different from correlation?"
   ]
  },
  {
   "cell_type": "markdown",
   "id": "7c48f2d5",
   "metadata": {},
   "source": [
    "`Covariance` and `correlation` are both measures of the relationship between two variables, but they are different in their interpretation and scale.\n",
    "\n",
    "`Covariance` is a measure of how two variables vary together. It measures the direction of the relationship (positive or negative) and the magnitude of the relationship. However, covariance is affected by the scale of the variables, which makes it difficult to compare the strength of relationships between variables with different scales. A positive covariance indicates that the variables tend to increase or decrease together, while a negative covariance indicates that one variable tends to increase when the other decreases.\n",
    "\n",
    "`Correlation`, on the other hand, is a standardized measure of the linear relationship between two variables. It is expressed on a scale from -1 to 1, where -1 indicates a perfect negative correlation, 0 indicates no correlation, and 1 indicates a perfect positive correlation. Correlation is not affected by the scale of the variables, which makes it easier to compare the strength of relationships between variables with different scales.\n",
    "\n",
    "In `summary`, covariance measures the direction and strength of the relationship between two variables, but it is difficult to interpret and compare due to its dependence on the scale of the variables. Correlation, on the other hand, measures the linear relationship between two variables on a standardized scale, which makes it easier to interpret and compare."
   ]
  },
  {
   "cell_type": "markdown",
   "id": "fe21b61f",
   "metadata": {},
   "source": [
    "## Q14. How do outliers affect measures of central tendency and dispersion? Provide an example."
   ]
  },
  {
   "cell_type": "markdown",
   "id": "72de0425",
   "metadata": {},
   "source": [
    "`Outliers` can significantly affect measures of central tendency and dispersion in a dataset.\n",
    "\n",
    "For example, consider a dataset of ages of employees in a company: [22, 25, 23, 24, 27, 28, 30, 35, 40, 45, 65]. The mean age is 32.36 and the standard deviation is 12.88. However, if we add an outlier value of 100 to the dataset, the mean age increases to 41.45 and the standard deviation increases to 29.87. This shows that the presence of an outlier can greatly affect the measures of central tendency and dispersion.\n",
    "\n",
    "Outliers can also affect the interpretation of results obtained from statistical tests. For example, if we are testing the hypothesis that the mean age of employees in the company is less than 30, the outlier value of 100 can lead to an incorrect rejection of the null hypothesis, since it greatly inflates the mean age. Therefore, it is important to identify and handle outliers appropriately in statistical analysis."
   ]
  }
 ],
 "metadata": {
  "kernelspec": {
   "display_name": "Python 3 (ipykernel)",
   "language": "python",
   "name": "python3"
  },
  "language_info": {
   "codemirror_mode": {
    "name": "ipython",
    "version": 3
   },
   "file_extension": ".py",
   "mimetype": "text/x-python",
   "name": "python",
   "nbconvert_exporter": "python",
   "pygments_lexer": "ipython3",
   "version": "3.10.9"
  }
 },
 "nbformat": 4,
 "nbformat_minor": 5
}
