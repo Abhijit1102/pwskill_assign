{
 "cells": [
  {
   "cell_type": "markdown",
   "id": "59fbdb2e",
   "metadata": {},
   "source": [
    "## Q1. Write a Python function that takes in two arrays of data and calculates the F-value for a variance ratiotest. The function should return the F-value and the corresponding p-value for the test."
   ]
  },
  {
   "cell_type": "code",
   "execution_count": 1,
   "id": "12388a06",
   "metadata": {},
   "outputs": [],
   "source": [
    "import numpy as np\n",
    "from scipy.stats import f\n",
    "\n",
    "def calculate_f_value(data1, data2):\n",
    "    # Calculate the variances\n",
    "    var1 = np.var(data1, ddof=1)\n",
    "    var2 = np.var(data2, ddof=1)\n",
    "    \n",
    "    # Calculate the F-value\n",
    "    f_value = var1 / var2\n",
    "    \n",
    "    # Calculate the degrees of freedom\n",
    "    df1 = len(data1) - 1\n",
    "    df2 = len(data2) - 1\n",
    "    \n",
    "    # Calculate the p-value\n",
    "    p_value = 1 - f.cdf(f_value, df1, df2)\n",
    "    \n",
    "    return f_value, p_value\n"
   ]
  },
  {
   "cell_type": "code",
   "execution_count": null,
   "id": "e81d102d",
   "metadata": {},
   "outputs": [],
   "source": []
  },
  {
   "cell_type": "code",
   "execution_count": null,
   "id": "7ad3090c",
   "metadata": {},
   "outputs": [],
   "source": []
  },
  {
   "cell_type": "markdown",
   "id": "9af26f21",
   "metadata": {},
   "source": [
    "## Q2. Given a significance level of 0.05 and the degrees of freedom for the numerator and denominator of an F-distribution, write a Python function that returns the critical F-value for a two-tailed test."
   ]
  },
  {
   "cell_type": "code",
   "execution_count": 2,
   "id": "29d08309",
   "metadata": {},
   "outputs": [],
   "source": [
    "from scipy.stats import f\n",
    "\n",
    "def calculate_critical_f_value(alpha, df1, df2):\n",
    "    # Calculate the critical F-value\n",
    "    critical_f_value = f.ppf(1 - alpha / 2, df1, df2)\n",
    "    \n",
    "    return critical_f_value\n"
   ]
  },
  {
   "cell_type": "markdown",
   "id": "0ed5fb1d",
   "metadata": {},
   "source": [
    "## Q3. Write a Python program that generates random samples from two normal distributions with known variances and uses an F-test to determine if the variances are equal. The program should output the F- value, degrees of freedom, and p-value for the test."
   ]
  },
  {
   "cell_type": "code",
   "execution_count": 3,
   "id": "ef1bb546",
   "metadata": {},
   "outputs": [
    {
     "name": "stdout",
     "output_type": "stream",
     "text": [
      "F-value: 0.4008947160081145\n",
      "Degrees of freedom: 99 , 99\n",
      "p-value: 8.171095628763641e-06\n"
     ]
    }
   ],
   "source": [
    "import numpy as np\n",
    "from scipy.stats import f\n",
    "\n",
    "def perform_f_test(sample1, sample2):\n",
    "    # Calculate the variances\n",
    "    var1 = np.var(sample1, ddof=1)\n",
    "    var2 = np.var(sample2, ddof=1)\n",
    "    \n",
    "    # Calculate the F-value\n",
    "    f_value = var1 / var2\n",
    "    \n",
    "    # Calculate the degrees of freedom\n",
    "    df1 = len(sample1) - 1\n",
    "    df2 = len(sample2) - 1\n",
    "    \n",
    "    # Calculate the p-value\n",
    "    p_value = 2 * min(f.cdf(f_value, df1, df2), 1 - f.cdf(f_value, df1, df2))\n",
    "    \n",
    "    return f_value, df1, df2, p_value\n",
    "\n",
    "# Generate random samples from two normal distributions\n",
    "np.random.seed(1)\n",
    "sample1 = np.random.normal(0, 1, 100)  # Sample 1 from N(0, 1)\n",
    "sample2 = np.random.normal(0, 1.5, 100)  # Sample 2 from N(0, 1.5)\n",
    "\n",
    "# Perform F-test\n",
    "f_value, df1, df2, p_value = perform_f_test(sample1, sample2)\n",
    "\n",
    "# Print the results\n",
    "print(\"F-value:\", f_value)\n",
    "print(\"Degrees of freedom:\", df1, \",\", df2)\n",
    "print(\"p-value:\", p_value)\n"
   ]
  },
  {
   "cell_type": "markdown",
   "id": "73d133d4",
   "metadata": {},
   "source": [
    "## Q4.The variances of two populations are known to be 10 and 15. A sample of 12 observations is taken from each population. Conduct an F-test at the 5% significance level to determine if the variances are significantly different."
   ]
  },
  {
   "cell_type": "code",
   "execution_count": 4,
   "id": "4a7d7f2a",
   "metadata": {},
   "outputs": [
    {
     "name": "stdout",
     "output_type": "stream",
     "text": [
      "The variances are not significantly different.\n",
      "F-value: 0.6666666666666666\n",
      "Degrees of freedom: 11 , 11\n",
      "p-value: 0.5123897987357999\n"
     ]
    }
   ],
   "source": [
    "import scipy.stats as stats\n",
    "\n",
    "# Define the known variances and sample sizes\n",
    "variance1 = 10\n",
    "variance2 = 15\n",
    "n1 = 12\n",
    "n2 = 12\n",
    "\n",
    "# Calculate the F-statistic\n",
    "f_value = variance1 / variance2\n",
    "\n",
    "# Calculate the degrees of freedom\n",
    "df1 = n1 - 1\n",
    "df2 = n2 - 1\n",
    "\n",
    "# Calculate the p-value\n",
    "p_value = 2 * min(stats.f.cdf(f_value, df1, df2), 1 - stats.f.cdf(f_value, df1, df2))\n",
    "\n",
    "# Compare p-value to significance level\n",
    "alpha = 0.05\n",
    "if p_value < alpha:\n",
    "    print(\"The variances are significantly different.\")\n",
    "else:\n",
    "    print(\"The variances are not significantly different.\")\n",
    "\n",
    "print(\"F-value:\", f_value)\n",
    "print(\"Degrees of freedom:\", df1, \",\", df2)\n",
    "print(\"p-value:\", p_value)\n"
   ]
  },
  {
   "cell_type": "markdown",
   "id": "9a124ed9",
   "metadata": {},
   "source": [
    "## Q5. A manufacturer claims that the variance of the diameter of a certain product is 0.005. A sample of 25 products is taken, and the sample variance is found to be 0.006. Conduct an F-test at the 1% significance level to determine."
   ]
  },
  {
   "cell_type": "code",
   "execution_count": 5,
   "id": "acad3658",
   "metadata": {},
   "outputs": [
    {
     "name": "stdout",
     "output_type": "stream",
     "text": [
      "The sample variance is not significantly different from the claimed population variance.\n",
      "F-value: 1.2\n",
      "Degrees of freedom: 24 , 24\n",
      "p-value: 0.6587309365634488\n"
     ]
    }
   ],
   "source": [
    "import scipy.stats as stats\n",
    "\n",
    "# Define the claimed population variance and sample variance\n",
    "claimed_variance = 0.005\n",
    "sample_variance = 0.006\n",
    "sample_size = 25\n",
    "\n",
    "# Calculate the F-statistic\n",
    "f_value = sample_variance / claimed_variance\n",
    "\n",
    "# Calculate the degrees of freedom\n",
    "df1 = sample_size - 1\n",
    "df2 = sample_size - 1\n",
    "\n",
    "# Calculate the p-value\n",
    "p_value = 2 * min(stats.f.cdf(f_value, df1, df2), 1 - stats.f.cdf(f_value, df1, df2))\n",
    "\n",
    "# Compare p-value to significance level\n",
    "alpha = 0.01\n",
    "if p_value < alpha/2 or p_value > 1 - alpha/2:\n",
    "    print(\"The sample variance is significantly different from the claimed population variance.\")\n",
    "else:\n",
    "    print(\"The sample variance is not significantly different from the claimed population variance.\")\n",
    "\n",
    "print(\"F-value:\", f_value)\n",
    "print(\"Degrees of freedom:\", df1, \",\", df2)\n",
    "print(\"p-value:\", p_value)\n"
   ]
  },
  {
   "cell_type": "markdown",
   "id": "fe7721e6",
   "metadata": {},
   "source": [
    "## Q6. Write a Python function that takes in the degrees of freedom for the numerator and denominator of an F-distribution and calculates the mean and variance of the distribution. The function should return the mean and variance as a tuple."
   ]
  },
  {
   "cell_type": "code",
   "execution_count": 6,
   "id": "b7d9c300",
   "metadata": {},
   "outputs": [],
   "source": [
    "def calculate_fdistribution_mean_variance(dfn, dfd):\n",
    "    \"\"\"\n",
    "    Calculates the mean and variance of an F-distribution.\n",
    "\n",
    "    Args:\n",
    "        dfn (int): Degrees of freedom for the numerator.\n",
    "        dfd (int): Degrees of freedom for the denominator.\n",
    "\n",
    "    Returns:\n",
    "        tuple: Mean and variance of the F-distribution.\n",
    "    \"\"\"\n",
    "    mean = dfd / (dfd - 2)\n",
    "    variance = (2 * (dfd**2) * (dfn + dfd - 2)) / ((dfn * (dfd - 2)**2 * (dfd - 4)))\n",
    "\n",
    "    return mean, variance\n"
   ]
  },
  {
   "cell_type": "code",
   "execution_count": 7,
   "id": "4f4ad9b5",
   "metadata": {},
   "outputs": [
    {
     "name": "stdout",
     "output_type": "stream",
     "text": [
      "Mean: 1.25\n",
      "Variance: 1.3541666666666667\n"
     ]
    }
   ],
   "source": [
    "mean, variance = calculate_fdistribution_mean_variance(5, 10)\n",
    "print(\"Mean:\", mean)\n",
    "print(\"Variance:\", variance)\n"
   ]
  },
  {
   "cell_type": "markdown",
   "id": "bd6d5575",
   "metadata": {},
   "source": [
    "## Q7. A random sample of 10 measurements is taken from a normal population with unknown variance. The sample variance is found to be 25. Another random sample of 15 measurements is taken from another normal population with unknown variance, and the sample variance is found to be 20. Conduct an F-test at the 10% significance level to determine if the variances are significantly different."
   ]
  },
  {
   "cell_type": "code",
   "execution_count": 8,
   "id": "ed5aebfa",
   "metadata": {},
   "outputs": [
    {
     "name": "stdout",
     "output_type": "stream",
     "text": [
      "The variances are not significantly different.\n",
      "F-value: 1.25\n",
      "Degrees of freedom: 9 , 14\n",
      "p-value: 0.6832194382585952\n"
     ]
    }
   ],
   "source": [
    "import scipy.stats as stats\n",
    "\n",
    "# Define the sample variances and sample sizes\n",
    "sample_variance_1 = 25\n",
    "sample_variance_2 = 20\n",
    "sample_size_1 = 10\n",
    "sample_size_2 = 15\n",
    "\n",
    "# Calculate the F-statistic\n",
    "f_value = sample_variance_1 / sample_variance_2\n",
    "\n",
    "# Calculate the degrees of freedom\n",
    "df1 = sample_size_1 - 1\n",
    "df2 = sample_size_2 - 1\n",
    "\n",
    "# Calculate the p-value\n",
    "p_value = 2 * min(stats.f.cdf(f_value, df1, df2), 1 - stats.f.cdf(f_value, df1, df2))\n",
    "\n",
    "# Compare p-value to significance level\n",
    "alpha = 0.10\n",
    "if p_value < alpha/2 or p_value > 1 - alpha/2:\n",
    "    print(\"The variances are significantly different.\")\n",
    "else:\n",
    "    print(\"The variances are not significantly different.\")\n",
    "\n",
    "print(\"F-value:\", f_value)\n",
    "print(\"Degrees of freedom:\", df1, \",\", df2)\n",
    "print(\"p-value:\", p_value)\n"
   ]
  },
  {
   "cell_type": "markdown",
   "id": "c2c4e818",
   "metadata": {},
   "source": [
    "## Q8. The following data represent the waiting times in minutes at two different restaurants on a Saturday night: Restaurant A: 24, 25, 28, 23, 22, 20, 27; Restaurant B: 31, 33, 35, 30, 32, 36. Conduct an F-test at the 5% significance level to determine if the variances are significantly different."
   ]
  },
  {
   "cell_type": "code",
   "execution_count": 9,
   "id": "c0f555c2",
   "metadata": {},
   "outputs": [
    {
     "name": "stdout",
     "output_type": "stream",
     "text": [
      "The variances are not significantly different.\n",
      "F-value: 1.4551907719609583\n",
      "Degrees of freedom: 6 , 5\n",
      "p-value: 0.6974815747937484\n"
     ]
    }
   ],
   "source": [
    "import scipy.stats as stats\n",
    "import numpy as np\n",
    "\n",
    "# Define the data for each restaurant\n",
    "data_a = np.array([24, 25, 28, 23, 22, 20, 27])\n",
    "data_b = np.array([31, 33, 35, 30, 32, 36])\n",
    "\n",
    "# Calculate the sample variances\n",
    "sample_variance_a = np.var(data_a, ddof=1)\n",
    "sample_variance_b = np.var(data_b, ddof=1)\n",
    "\n",
    "# Determine the larger and smaller sample variances\n",
    "larger_variance = max(sample_variance_a, sample_variance_b)\n",
    "smaller_variance = min(sample_variance_a, sample_variance_b)\n",
    "\n",
    "# Calculate the degrees of freedom\n",
    "df1 = len(data_a) - 1\n",
    "df2 = len(data_b) - 1\n",
    "\n",
    "# Calculate the F-statistic\n",
    "f_value = larger_variance / smaller_variance\n",
    "\n",
    "# Calculate the p-value\n",
    "p_value = 2 * min(stats.f.cdf(f_value, df1, df2), 1 - stats.f.cdf(f_value, df1, df2))\n",
    "\n",
    "# Compare p-value to significance level\n",
    "alpha = 0.05\n",
    "if p_value < alpha/2 or p_value > 1 - alpha/2:\n",
    "    print(\"The variances are significantly different.\")\n",
    "else:\n",
    "    print(\"The variances are not significantly different.\")\n",
    "\n",
    "print(\"F-value:\", f_value)\n",
    "print(\"Degrees of freedom:\", df1, \",\", df2)\n",
    "print(\"p-value:\", p_value)\n"
   ]
  },
  {
   "cell_type": "markdown",
   "id": "0a13ca97",
   "metadata": {},
   "source": [
    "## Q9. The following data represent the test scores of two groups of students: Group A: 80, 85, 90, 92, 87, 83; Group B: 75, 78, 82, 79, 81, 84. Conduct an F-test at the 1% significance level to determine if the variances are significantly different."
   ]
  },
  {
   "cell_type": "code",
   "execution_count": 10,
   "id": "640bc190",
   "metadata": {},
   "outputs": [
    {
     "name": "stdout",
     "output_type": "stream",
     "text": [
      "The variances are not significantly different.\n",
      "F-value: 1.9442622950819677\n",
      "Degrees of freedom: 5 , 5\n",
      "p-value: 0.4831043549070688\n"
     ]
    }
   ],
   "source": [
    "import scipy.stats as stats\n",
    "import numpy as np\n",
    "\n",
    "# Define the data for each group\n",
    "group_a = np.array([80, 85, 90, 92, 87, 83])\n",
    "group_b = np.array([75, 78, 82, 79, 81, 84])\n",
    "\n",
    "# Calculate the sample variances\n",
    "sample_variance_a = np.var(group_a, ddof=1)\n",
    "sample_variance_b = np.var(group_b, ddof=1)\n",
    "\n",
    "# Determine the larger and smaller sample variances\n",
    "larger_variance = max(sample_variance_a, sample_variance_b)\n",
    "smaller_variance = min(sample_variance_a, sample_variance_b)\n",
    "\n",
    "# Calculate the degrees of freedom\n",
    "df1 = len(group_a) - 1\n",
    "df2 = len(group_b) - 1\n",
    "\n",
    "# Calculate the F-statistic\n",
    "f_value = larger_variance / smaller_variance\n",
    "\n",
    "# Calculate the p-value\n",
    "p_value = 2 * min(stats.f.cdf(f_value, df1, df2), 1 - stats.f.cdf(f_value, df1, df2))\n",
    "\n",
    "# Compare p-value to significance level\n",
    "alpha = 0.01\n",
    "if p_value < alpha/2 or p_value > 1 - alpha/2:\n",
    "    print(\"The variances are significantly different.\")\n",
    "else:\n",
    "    print(\"The variances are not significantly different.\")\n",
    "\n",
    "print(\"F-value:\", f_value)\n",
    "print(\"Degrees of freedom:\", df1, \",\", df2)\n",
    "print(\"p-value:\", p_value)\n"
   ]
  },
  {
   "cell_type": "code",
   "execution_count": null,
   "id": "665464c3",
   "metadata": {},
   "outputs": [],
   "source": []
  }
 ],
 "metadata": {
  "kernelspec": {
   "display_name": "Python 3 (ipykernel)",
   "language": "python",
   "name": "python3"
  },
  "language_info": {
   "codemirror_mode": {
    "name": "ipython",
    "version": 3
   },
   "file_extension": ".py",
   "mimetype": "text/x-python",
   "name": "python",
   "nbconvert_exporter": "python",
   "pygments_lexer": "ipython3",
   "version": "3.10.10"
  }
 },
 "nbformat": 4,
 "nbformat_minor": 5
}
