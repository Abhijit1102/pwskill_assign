{
 "cells": [
  {
   "cell_type": "markdown",
   "id": "a7ed6bc0",
   "metadata": {},
   "source": [
    "# Assignment \n",
    "Q1. Explain Class and Object with respect to Object-Oriented Programming. Give a suitable example.\n"
   ]
  },
  {
   "cell_type": "markdown",
   "id": "fda9fb89",
   "metadata": {},
   "source": [
    "Class and object are the two fundamental concepts in Object-Oriented Programming (OOP).\n",
    "\n",
    "A class can be defined as a blueprint for creating objects. It contains variables (properties or attributes) and methods (functions or behaviors) that define the characteristics and actions of objects.\n",
    "\n",
    "An object is an instance of a class. It is a unique entity that contains its own set of data and functions that operate on that data. Each object has its own attributes and behaviors that are defined by the class from which it was created.\n",
    "\n",
    "For example: consider a class 'Car'. This class can have properties such as model, make, year, color, and speed. It can have methods such as start, stop, accelerate, and brake that control the actions of the car.\n",
    "\n",
    "An object is a specific car instance such as a 2019 red Honda Civic. It has its own set of data such as make = \"Honda\", model = \"Civic\", year = 2019, color = \"red\", and speed = 0. And it can use the methods of the class to change its properties, such as accelerating its speed by using the accelerate method."
   ]
  },
  {
   "cell_type": "code",
   "execution_count": null,
   "id": "a938f7fa",
   "metadata": {},
   "outputs": [],
   "source": [
    " Q2. Name the four pillars of OOPs."
   ]
  },
  {
   "cell_type": "markdown",
   "id": "c5780815",
   "metadata": {},
   "source": [
    "The four pillars of Object Oriented Programming (OOP) are:\n",
    "\n",
    "- Encapsulation: It refers to the bundling of data and functions into a single unit, or object.\n",
    "\n",
    "- Abstraction: It refers to the act of hiding implementation details and exposing only the necessary information to the user.\n",
    "\n",
    "- Inheritance: It refers to the mechanism of acquiring properties and behavior of one class by another class.\n",
    "\n",
    "- Polymorphism: It refers to the ability of an object to take multiple forms. In OOP, polymorphism refers to the ability of an object to be manipulated in different ways, depending on the context in which it is used."
   ]
  },
  {
   "cell_type": "markdown",
   "id": "e9955c48",
   "metadata": {},
   "source": [
    "Q3. Explain why the `__init__()` function is used. Give a suitable example."
   ]
  },
  {
   "cell_type": "markdown",
   "id": "aed568b8",
   "metadata": {},
   "source": [
    "The` __init__` method is a special method in Python classes that is called automatically when an object is created from a class. It is used to initialize the attributes of the class. The `__init__` method is commonly referred to as the constructor."
   ]
  },
  {
   "cell_type": "code",
   "execution_count": 5,
   "id": "9a08c9db",
   "metadata": {},
   "outputs": [
    {
     "name": "stdout",
     "output_type": "stream",
     "text": [
      "Toyota\n",
      "Camry\n",
      "2020\n"
     ]
    }
   ],
   "source": [
    "class Car:\n",
    "    def __init__(self, make, model, year):\n",
    "        self.make = make\n",
    "        self.model = model\n",
    "        self.year = year\n",
    "\n",
    "my_car = Car(\"Toyota\", \"Camry\", 2020)\n",
    "print(my_car.make)\n",
    "print(my_car.model)\n",
    "print(my_car.year) \n"
   ]
  },
  {
   "cell_type": "markdown",
   "id": "5f7be3dd",
   "metadata": {},
   "source": [
    "Q4. Why self is used in OOPs? "
   ]
  },
  {
   "cell_type": "markdown",
   "id": "5bb34cc6",
   "metadata": {},
   "source": [
    "In object-oriented programming, `self` is a reference to the instance of the class that is being executed. It is a convention in Python to use `self` as the first parameter in class methods to refer to the instance that the method is being called on. This allows each instance to maintain its own unique state, separate from other instances of the same class.\n",
    "\n",
    "By using `self`, we can access instance variables and methods within a class method and assign values to those variables. This allows us to define the behavior of each instance of a class individually."
   ]
  },
  {
   "cell_type": "markdown",
   "id": "68c864e7",
   "metadata": {},
   "source": [
    "Q5. What is inheritance? Give an example for each type of inheritance"
   ]
  },
  {
   "cell_type": "markdown",
   "id": "6a2894f2",
   "metadata": {},
   "source": [
    "Inheritance is a mechanism in object-oriented programming (OOP) where one class can inherit the attributes and methods from another class. It allows creating a new class that reuses, extends, or modifies the behaviors of an existing class. This allows creating a hierarchy of classes and making a relationship between them.\n",
    "\n",
    "There are five types of inheritance:\n",
    "\n",
    "- Single inheritance: It is a simple inheritance where one class inherits from another class. For example, class Student inherits from class Person.\n",
    "\n",
    "- Multiple inheritance: It is a type of inheritance where a single class inherits from multiple classes. For example, class Manager inherits from class Employee and class Project.\n",
    "\n",
    "- Multi-level inheritance: It is a type of inheritance where a class inherits from another class, which in turn inherits from another class. For example, class GraduateStudent inherits from class Student, which inherits from class Person.\n",
    "\n",
    "- Hierarchical inheritance: It is a type of inheritance where multiple classes inherit from a single class. For example, class Engineer, class Scientist, and class Researcher inherit from class Employee.\n",
    "\n",
    "- Hybrid inheritance: It is a type of inheritance where multiple inheritance and multi-level inheritance are combined. For example, class AssistantProfessor inherits from class Professor and class Assistant, where class Professor inherits from class Teacher, and class Assistant inherits from class Employee."
   ]
  }
 ],
 "metadata": {
  "kernelspec": {
   "display_name": "Python 3 (ipykernel)",
   "language": "python",
   "name": "python3"
  },
  "language_info": {
   "codemirror_mode": {
    "name": "ipython",
    "version": 3
   },
   "file_extension": ".py",
   "mimetype": "text/x-python",
   "name": "python",
   "nbconvert_exporter": "python",
   "pygments_lexer": "ipython3",
   "version": "3.10.9"
  }
 },
 "nbformat": 4,
 "nbformat_minor": 5
}
