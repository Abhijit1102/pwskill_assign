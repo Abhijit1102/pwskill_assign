{
 "cells": [
  {
   "cell_type": "markdown",
   "id": "6ca8160a",
   "metadata": {},
   "source": [
    "## Assignment \n",
    "Q1. What are the characteristics of the tuples? Is tuple immutable? "
   ]
  },
  {
   "cell_type": "markdown",
   "id": "7eb490d2",
   "metadata": {},
   "source": [
    "**Some of the characteristics of tuples are:**\n",
    "\n",
    "- Ordered: The elements in a tuple have a defined order, and this order is preserved.\n",
    "\n",
    "- Immutable: Once created, a tuple cannot be modified. Attempts to modify a tuple will result in an error.\n",
    "\n",
    "- Heterogeneous: Tuples can contain elements of different data types, such as numbers, strings, and other objects.\n",
    "\n",
    "- Indexed: The elements in a tuple can be accessed using an index, starting from 0.\n",
    "\n",
    "Yes, tuple is immutable."
   ]
  },
  {
   "cell_type": "code",
   "execution_count": null,
   "id": "5bf2df74",
   "metadata": {},
   "outputs": [],
   "source": []
  },
  {
   "cell_type": "code",
   "execution_count": null,
   "id": "ac694115",
   "metadata": {},
   "outputs": [],
   "source": []
  },
  {
   "cell_type": "code",
   "execution_count": null,
   "id": "a61dbe83",
   "metadata": {},
   "outputs": [],
   "source": []
  },
  {
   "cell_type": "code",
   "execution_count": null,
   "id": "333f07d5",
   "metadata": {},
   "outputs": [],
   "source": []
  }
 ],
 "metadata": {
  "kernelspec": {
   "display_name": "Python 3 (ipykernel)",
   "language": "python",
   "name": "python3"
  },
  "language_info": {
   "codemirror_mode": {
    "name": "ipython",
    "version": 3
   },
   "file_extension": ".py",
   "mimetype": "text/x-python",
   "name": "python",
   "nbconvert_exporter": "python",
   "pygments_lexer": "ipython3",
   "version": "3.10.9"
  }
 },
 "nbformat": 4,
 "nbformat_minor": 5
}
