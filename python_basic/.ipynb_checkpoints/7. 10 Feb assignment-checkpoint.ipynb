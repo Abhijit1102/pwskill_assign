{
 "cells": [
  {
   "cell_type": "markdown",
   "id": "4b1a4a9d",
   "metadata": {},
   "source": [
    "# Assignment \n",
    "## Q1. Which function is used to open a file? What are the different modes of opening a file? Explain each mode  of file opening.\n"
   ]
  },
  {
   "cell_type": "markdown",
   "id": "ad210388",
   "metadata": {},
   "source": [
    "#### The Python function used to open a file is `open()`.\n",
    "\n",
    "#### There are several modes to open a file in Python, each of which provides different functionality:\n",
    "\n",
    "- `'r'` (Read Only) - This mode opens the file for reading. If the file does not exist, an error is raised.\n",
    "\n",
    "- `'w'` (Write Only) - This mode opens the file for writing. If the file already exists, its contents are truncated, and if it does not exist, a new file is created.\n",
    "\n",
    "- `'a'` (Append Only) - This mode opens the file for writing, but unlike 'w', it does not truncate the file. Instead, it appends the data to the end of the file. If the file does not exist, a new file is created.\n",
    "\n",
    "- `'x'` (Exclusive Creation) - This mode opens the file for exclusive creation. If the file already exists, an error is raised. This mode is used to create a new file that is not yet available for reading or writing.\n",
    "\n",
    "- `'b'` (Binary) - This mode is used to open the file in binary mode. In binary mode, data is read and written as a sequence of bytes. This mode is usually used when reading or writing binary files such as images or audio files.\n",
    "\n",
    "- `'t'` (Text) - This mode is used to open the file in text mode. In text mode, data is read and written as strings. This mode is the default mode and is usually used when reading or writing text files."
   ]
  },
  {
   "cell_type": "markdown",
   "id": "ea760c3a",
   "metadata": {},
   "source": [
    "## Q2. Why close() function is used? Why is it important to close a file? "
   ]
  },
  {
   "cell_type": "markdown",
   "id": "c2c27615",
   "metadata": {},
   "source": [
    "#### The close() function is used to close a file after it has been opened. Closing a file is important for several reasons:\n",
    "\n",
    "- Releasing Resources: When a file is opened, the operating system allocates memory and other resources to handle the file. Closing the file frees up these resources, allowing them to be used by other programs or processes.\n",
    "\n",
    "- Preventing Data Corruption: If a file is not closed properly, the data that is written to the file may be incomplete or inconsistent. Closing the file ensures that all data is written to the file and that the file is in a consistent state.\n",
    "\n",
    "- Improving Performance: Keeping a large number of files open can have a negative impact on the performance of your program. Closing files that are no longer needed frees up resources, improving the performance of your program.\n",
    "\n",
    "- Preventing Conflicts: If multiple programs or processes try to access the same file at the same time, conflicts can arise. Closing a file after it has been used ensures that other programs or processes can access the file without conflict."
   ]
  },
  {
   "cell_type": "markdown",
   "id": "155a82e1",
   "metadata": {},
   "source": [
    "## Q3. Write a python program to create a text file. Write ‘I want to become a Data Scientist’ in that file. Then  close the file. Open this file and read the content of the file."
   ]
  },
  {
   "cell_type": "code",
   "execution_count": 1,
   "id": "17ebb6e2",
   "metadata": {},
   "outputs": [
    {
     "name": "stdout",
     "output_type": "stream",
     "text": [
      "I want to become a Data Scientist\n"
     ]
    }
   ],
   "source": [
    "# Open the file in write mode\n",
    "file = open(\"file.txt\", \"w\")\n",
    "\n",
    "# Write the string to the file\n",
    "file.write(\"I want to become a Data Scientist\")\n",
    "\n",
    "# Close the file\n",
    "file.close()\n",
    "\n",
    "# Open the file in read mode\n",
    "file = open(\"file.txt\", \"r\")\n",
    "\n",
    "# Read the contents of the file\n",
    "contents = file.read()\n",
    "\n",
    "# Print the contents of the file\n",
    "print(contents)\n",
    "\n",
    "# Close the file\n",
    "file.close()\n"
   ]
  },
  {
   "cell_type": "markdown",
   "id": "1349da0a",
   "metadata": {},
   "source": [
    "## Q4. Explain the following with python code: read(), readline() and readlines(). "
   ]
  },
  {
   "cell_type": "markdown",
   "id": "1b44e576",
   "metadata": {},
   "source": [
    "`read()`: This method reads the entire contents of the file as a single strings."
   ]
  },
  {
   "cell_type": "code",
   "execution_count": 6,
   "id": "6041f8a3",
   "metadata": {},
   "outputs": [
    {
     "name": "stdout",
     "output_type": "stream",
     "text": [
      "I love pwskills\n"
     ]
    }
   ],
   "source": [
    "# Open the file in read mode\n",
    "file = open(\"file.txt\", \"r\")\n",
    "\n",
    "# Read the contents of the file\n",
    "contents = file.read()\n",
    "\n",
    "# Print the contents of the file\n",
    "print(contents)\n",
    "\n",
    "# Close the file\n",
    "file.close()\n"
   ]
  },
  {
   "cell_type": "markdown",
   "id": "5d698b2c",
   "metadata": {},
   "source": [
    "- `readline()`: This method reads a single line from the file. Each time the method is called, it reads the next line in the file."
   ]
  },
  {
   "cell_type": "code",
   "execution_count": 7,
   "id": "1535f5ec",
   "metadata": {},
   "outputs": [
    {
     "name": "stdout",
     "output_type": "stream",
     "text": [
      "I love pwskills\n",
      "\n"
     ]
    }
   ],
   "source": [
    "# Open the file in read mode\n",
    "file = open(\"file.txt\", \"r\")\n",
    "\n",
    "# Read the first line of the file\n",
    "line = file.readline()\n",
    "\n",
    "# Print the first line\n",
    "print(line)\n",
    "\n",
    "# Read the second line of the file\n",
    "line = file.readline()\n",
    "\n",
    "# Print the second line\n",
    "print(line)\n",
    "\n",
    "# Close the file\n",
    "file.close()\n"
   ]
  },
  {
   "cell_type": "markdown",
   "id": "81b05231",
   "metadata": {},
   "source": [
    "`readlines()`: This method reads all the lines of the file and returns them as a list of strings, where each string represents a line in the file."
   ]
  },
  {
   "cell_type": "code",
   "execution_count": 9,
   "id": "4e8045f1",
   "metadata": {},
   "outputs": [
    {
     "name": "stdout",
     "output_type": "stream",
     "text": [
      "I love pwskills\n"
     ]
    }
   ],
   "source": [
    "# Open the file in read mode\n",
    "file = open(\"file.txt\", \"r\")\n",
    "\n",
    "# Read all the lines of the file\n",
    "lines = file.readlines()\n",
    "\n",
    "# Print the lines\n",
    "for line in lines:\n",
    "    print(line)\n",
    "\n",
    "# Close the file\n",
    "file.close()\n"
   ]
  },
  {
   "cell_type": "markdown",
   "id": "c448140c",
   "metadata": {},
   "source": [
    "## Q5. Explain why with statement is used with open(). What is the advantage of using with statement and  open() together? "
   ]
  },
  {
   "cell_type": "markdown",
   "id": "a145777b",
   "metadata": {},
   "source": [
    "The `with` statement is often used with the `open()` function in Python to ensure that a file is closed properly after it has been used. The `with` statement provides a convenient and concise way to open and close a file, and it automatically closes the file when the block of code that follows the `with` statement is finished.\n",
    "\n",
    "Here's an example of how to use the with statement with the open() function:"
   ]
  },
  {
   "cell_type": "code",
   "execution_count": 10,
   "id": "b57d4624",
   "metadata": {},
   "outputs": [
    {
     "name": "stdout",
     "output_type": "stream",
     "text": [
      "I love pwskills\n"
     ]
    }
   ],
   "source": [
    "with open(\"file.txt\", \"r\") as file:\n",
    "    contents = file.read()\n",
    "    print(contents)\n"
   ]
  },
  {
   "cell_type": "markdown",
   "id": "65a7f2e9",
   "metadata": {},
   "source": [
    "In this example, the `with` statement opens the file \"file.txt\" in read mode and assigns the `file` object to the variable file. The contents of the file are read and printed to the screen, and then the file is automatically closed when the block of code is finished.\n",
    "\n",
    "The advantage of using the `with` statement with `open()` is that it ensures that the file is closed properly, even if an exception occurs while the file is being used. If an exception occurs, the `with` statement will automatically close the file, freeing up any resources that were being used. This is especially useful in cases where a large number of files are being used, as it can help to prevent resource leaks and improve the overall performance of your program."
   ]
  },
  {
   "cell_type": "markdown",
   "id": "cfce58a2",
   "metadata": {},
   "source": [
    "## Q6. Explain the write() and writelines() functions. Give a suitable example. "
   ]
  },
  {
   "cell_type": "markdown",
   "id": "b345aae7",
   "metadata": {},
   "source": [
    "`write()`: This function writes a single string to the file. The string must be specified as an argument when calling the function."
   ]
  },
  {
   "cell_type": "code",
   "execution_count": 11,
   "id": "e9ec6ad8",
   "metadata": {},
   "outputs": [],
   "source": [
    "# Open the file in write mode\n",
    "file = open(\"file.txt\", \"w\")\n",
    "\n",
    "# Write a string to the file\n",
    "file.write(\"I want to become a Data Scientist\")\n",
    "\n",
    "# Close the file\n",
    "file.close()\n"
   ]
  },
  {
   "cell_type": "markdown",
   "id": "8ed2611a",
   "metadata": {},
   "source": [
    "`writelines()`: This function writes a list of strings to the file. The list of strings must be specified as an argument when calling the function."
   ]
  },
  {
   "cell_type": "code",
   "execution_count": 15,
   "id": "17cb5d10",
   "metadata": {},
   "outputs": [],
   "source": [
    "# Create a list of strings\n",
    "lines = [\"I want to become a Data Scientist\", \"\\nData Science is my passion\"]\n",
    "\n",
    "# Open the file in write mode\n",
    "file = open(\"file.txt\", \"w\")\n",
    "\n",
    "# Write the list of strings to the file\n",
    "file.writelines(lines)\n",
    "\n",
    "# Close the file\n",
    "file.close()\n"
   ]
  },
  {
   "cell_type": "code",
   "execution_count": 16,
   "id": "ec3c7565",
   "metadata": {},
   "outputs": [
    {
     "name": "stdout",
     "output_type": "stream",
     "text": [
      "I want to become a Data Scientist\n",
      "Data Science is my passion\n"
     ]
    }
   ],
   "source": [
    "# Open the file in read mode\n",
    "file = open(\"file.txt\", \"r\")\n",
    "\n",
    "# Read the contents of the file\n",
    "contents = file.read()\n",
    "\n",
    "# Print the contents of the file\n",
    "print(contents)\n",
    "\n",
    "# Close the file\n",
    "file.close()\n"
   ]
  }
 ],
 "metadata": {
  "kernelspec": {
   "display_name": "Python 3 (ipykernel)",
   "language": "python",
   "name": "python3"
  },
  "language_info": {
   "codemirror_mode": {
    "name": "ipython",
    "version": 3
   },
   "file_extension": ".py",
   "mimetype": "text/x-python",
   "name": "python",
   "nbconvert_exporter": "python",
   "pygments_lexer": "ipython3",
   "version": "3.10.9"
  }
 },
 "nbformat": 4,
 "nbformat_minor": 5
}
