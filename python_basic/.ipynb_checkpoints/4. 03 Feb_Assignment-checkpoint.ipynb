{
 "cells": [
  {
   "cell_type": "markdown",
   "id": "c6f7e7cd",
   "metadata": {},
   "source": [
    "# Assignment\n",
    "\n",
    "Q1. Which keyword is used to create a function? Create a function to return a list of odd numbers in the  range of 1 to 25. "
   ]
  },
  {
   "cell_type": "markdown",
   "id": "52ea4297",
   "metadata": {},
   "source": [
    "The `def` keyword is used to create a function in Python."
   ]
  },
  {
   "cell_type": "code",
   "execution_count": 1,
   "id": "1ef562fc",
   "metadata": {},
   "outputs": [
    {
     "name": "stdout",
     "output_type": "stream",
     "text": [
      "[1, 3, 5, 7, 9, 11, 13, 15, 17, 19, 21, 23, 25]\n"
     ]
    }
   ],
   "source": [
    "def odd_numbers():\n",
    "    odd_list = []\n",
    "    for i in range(1, 26):\n",
    "        if i % 2 != 0:\n",
    "            odd_list.append(i)\n",
    "    return odd_list\n",
    "\n",
    "print(odd_numbers())"
   ]
  },
  {
   "cell_type": "markdown",
   "id": "948deadd",
   "metadata": {},
   "source": [
    "Q2. Why `*args` and `**kwargs` is used in some functions? Create a function each for *args and `**kwarg`s to  demonstrate their use."
   ]
  },
  {
   "cell_type": "markdown",
   "id": "d5b24176",
   "metadata": {},
   "source": [
    "`*args` and `**kwargs` are used in some functions in Python to allow for a flexible number of arguments to be passed to the function.\n",
    "\n",
    "`*args` is used to pass a non-keyworded, variable-length argument list to a function. It allows you to pass multiple arguments to the function as a tuple."
   ]
  },
  {
   "cell_type": "code",
   "execution_count": 2,
   "id": "a2245dd7",
   "metadata": {},
   "outputs": [
    {
     "name": "stdout",
     "output_type": "stream",
     "text": [
      "Hello\n",
      "World\n",
      "42\n"
     ]
    }
   ],
   "source": [
    "def print_args(*args):\n",
    "    for arg in args:\n",
    "        print(arg)\n",
    "\n",
    "print_args(\"Hello\", \"World\", 42)\n"
   ]
  },
  {
   "cell_type": "markdown",
   "id": "9699d592",
   "metadata": {},
   "source": [
    "`**kwargs` is used to pass keyworded, variable-length argument list to a function. It allows you to pass multiple keyword arguments to the function as a dictionary"
   ]
  },
  {
   "cell_type": "code",
   "execution_count": 4,
   "id": "7be2345f",
   "metadata": {},
   "outputs": [
    {
     "name": "stdout",
     "output_type": "stream",
     "text": [
      "first_name: John\n",
      "last_name: Doe\n",
      "age: 42\n"
     ]
    }
   ],
   "source": [
    "def print_kwargs(**kwargs):\n",
    "    for key, value in kwargs.items():\n",
    "        print(f\"{key}: {value}\")\n",
    "\n",
    "print_kwargs(first_name=\"John\", last_name=\"Doe\", age=42)"
   ]
  },
  {
   "cell_type": "markdown",
   "id": "2887587e",
   "metadata": {},
   "source": [
    "Q3.  What is an iterator in python? Name the method used to initialise the iterator object and the method  used for iteration. Use these methods to print the first five elements of the given list [2, 4, 6, 8, 10, 12, 14, 16,  18, 20]. "
   ]
  },
  {
   "cell_type": "markdown",
   "id": "4fb3076f",
   "metadata": {},
   "source": [
    "In Python, an iterator is an object that implements the iterator protocol, which consists of two methods: `__iter__`and `__next__`. The `__iter__` method returns the iterator object, and the`__next__` method returns the next item from the iterator.\n",
    "\n",
    "An iterator can be created for any iterable object, such as a list, tuple, string, or set. An iterator allows you to traverse the elements of an iterable object one by one, without having to load all the elements into memory at once."
   ]
  },
  {
   "cell_type": "markdown",
   "id": "3578a6da",
   "metadata": {},
   "source": [
    "To initialize the iterator object, the `iter()` method is used, which takes an iterable object as an argument and returns the iterator object.\n",
    "\n",
    "To iterate over the elements of the iterator, the `next()` method is used. This method returns the next item in the iterator each time it is called, until the iterator is exhausted and raises a `StopIteration` exception."
   ]
  },
  {
   "cell_type": "code",
   "execution_count": 6,
   "id": "a863fbd6",
   "metadata": {
    "scrolled": true
   },
   "outputs": [
    {
     "name": "stdout",
     "output_type": "stream",
     "text": [
      "2\n",
      "4\n",
      "6\n",
      "8\n",
      "10\n"
     ]
    }
   ],
   "source": [
    "numbers = [2, 4, 6, 8, 10, 12, 14, 16, 18, 20]\n",
    "\n",
    "# Initialize the iterator object\n",
    "numbers_iter = iter(numbers)\n",
    "\n",
    "# Print the first five elements of the list\n",
    "for i in range(5):\n",
    "    print(next(numbers_iter))"
   ]
  },
  {
   "cell_type": "markdown",
   "id": "41ea7fa1",
   "metadata": {},
   "source": [
    "Q4. What is a generator function in python? Why yield keyword is used? Give an example of a generator  function. "
   ]
  },
  {
   "cell_type": "markdown",
   "id": "6e678943",
   "metadata": {},
   "source": [
    "Python Generator functions allow you to declare a function that behaves likes an iterator, allowing programmers to make an iterator in a fast, easy, and clean way. An iterator is an object that can be iterated or looped upon. It is used to abstract a container of data to make it behave like an iterable object.\n",
    "\n",
    "The `yield` keyword is used in a generator function to return a value, but unlike a normal function return, the execution of the generator function is not terminated. Instead, it pauses and can be resumed later from where it left off."
   ]
  },
  {
   "cell_type": "code",
   "execution_count": 9,
   "id": "1e7e10a8",
   "metadata": {},
   "outputs": [
    {
     "name": "stdout",
     "output_type": "stream",
     "text": [
      "1\n",
      "3\n",
      "5\n",
      "7\n",
      "9\n",
      "11\n",
      "13\n",
      "15\n",
      "17\n",
      "19\n",
      "21\n",
      "23\n",
      "25\n"
     ]
    }
   ],
   "source": [
    "# example of Generator\n",
    "\n",
    "def generate_odd_numbers(n):\n",
    "    for i in range(1, n+1, 2):\n",
    "        yield i\n",
    "\n",
    "odd_numbers = generate_odd_numbers(25)\n",
    "for num in odd_numbers:\n",
    "    print(num)\n"
   ]
  },
  {
   "cell_type": "markdown",
   "id": "c1a542e9",
   "metadata": {},
   "source": [
    "Q5. Create a generator function for prime numbers less than 1000. Use the `next()` method to print the  first 20 prime numbers. "
   ]
  },
  {
   "cell_type": "code",
   "execution_count": 22,
   "id": "fb9b9908",
   "metadata": {},
   "outputs": [
    {
     "name": "stdout",
     "output_type": "stream",
     "text": [
      "1 : 2\n",
      "2 : 3\n",
      "3 : 5\n",
      "4 : 7\n",
      "5 : 11\n",
      "6 : 13\n",
      "7 : 17\n",
      "8 : 19\n",
      "9 : 23\n",
      "10 : 29\n",
      "11 : 31\n",
      "12 : 37\n",
      "13 : 41\n",
      "14 : 43\n",
      "15 : 47\n",
      "16 : 53\n",
      "17 : 59\n",
      "18 : 61\n",
      "19 : 67\n",
      "20 : 71\n"
     ]
    }
   ],
   "source": [
    "def prime_numbers(limit):\n",
    "    for num in range(2, limit):\n",
    "        for i in range(2, num):\n",
    "            if (num % i) == 0:\n",
    "                break\n",
    "        else:\n",
    "            yield num\n",
    "\n",
    "prime_gen = prime_numbers(1000)\n",
    "\n",
    "for i in range(20):\n",
    "    print(i+1,\":\",next(prime_gen))\n"
   ]
  },
  {
   "cell_type": "code",
   "execution_count": null,
   "id": "86270e75",
   "metadata": {},
   "outputs": [],
   "source": []
  }
 ],
 "metadata": {
  "kernelspec": {
   "display_name": "Python 3 (ipykernel)",
   "language": "python",
   "name": "python3"
  },
  "language_info": {
   "codemirror_mode": {
    "name": "ipython",
    "version": 3
   },
   "file_extension": ".py",
   "mimetype": "text/x-python",
   "name": "python",
   "nbconvert_exporter": "python",
   "pygments_lexer": "ipython3",
   "version": "3.10.9"
  }
 },
 "nbformat": 4,
 "nbformat_minor": 5
}
