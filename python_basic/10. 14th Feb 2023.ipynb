{
 "cells": [
  {
   "cell_type": "markdown",
   "id": "3455eb77",
   "metadata": {},
   "source": [
    "# Assignment"
   ]
  },
  {
   "cell_type": "markdown",
   "id": "d97389df",
   "metadata": {},
   "source": [
    "### Q1. What is multithreading in python? why is it used? Name the module used to handle threads in python."
   ]
  },
  {
   "cell_type": "markdown",
   "id": "b1e2e4d6",
   "metadata": {},
   "source": [
    "`Multithreading` in Python refers to the execution of multiple threads concurrently within a single process. Each thread represents a separate path of execution and can run simultaneously with other threads in the same program.\n",
    "\n",
    "Multithreading is used to improve the performance of programs that involve heavy I/O or CPU-bound tasks. By running multiple threads in parallel, it's possible to utilize the available system resources more efficiently and reduce the time required to complete the task.\n",
    "\n",
    "The `threading` module is used to handle threads in Python. It provides a simple and intuitive interface for creating, starting, and managing threads, as well as for synchronizing their execution and communication between them."
   ]
  },
  {
   "cell_type": "markdown",
   "id": "2a4b95e1",
   "metadata": {},
   "source": [
    "## Q2. Why threading module used? Write the use of the following functions\n",
    "1. activeCount()\n",
    "2. currentThread()\n",
    "3. enumerate()"
   ]
  },
  {
   "cell_type": "markdown",
   "id": "62579576",
   "metadata": {},
   "source": [
    "The `threading` module in Python is used to create and manage threads. It provides a simple and intuitive interface for creating, starting, and synchronizing threads.\n",
    "\n",
    "The following are the use of the mentioned functions of the `threading` module:\n",
    "\n",
    "1. `activeCount()`: This function returns the number of currently active threads in the current process. It can be useful for monitoring the status of running threads and for determining if any threads are still executing.\n",
    "\n",
    "2. `currentThread()`: This function returns a reference to the currently executing thread object. It can be useful for getting information about the current thread, such as its name, ID, or other attributes.\n",
    "\n",
    "3. `enumerate()`: This function returns a list of all currently active thread objects in the current process. It can be useful for monitoring the status of all running threads and for performing operations on them, such as joining or terminating them. The enumerate() function can also take an optional group parameter, which allows you to filter the list of threads based on a specific thread group."
   ]
  },
  {
   "cell_type": "markdown",
   "id": "82ff6083",
   "metadata": {},
   "source": [
    "## Q3. Explain the following functions:\n",
    "1. run()\n",
    "2. start()\n",
    "3. join()\n",
    "4. isAlive()"
   ]
  },
  {
   "cell_type": "markdown",
   "id": "1c6b77ed",
   "metadata": {},
   "source": [
    "- 1.`run()`: This is the method that represents the activity that the thread performs. It's called when the thread's start() method is invoked and defines the behavior of the thread.\n",
    "\n",
    "- 2.`start()`: This method is used to start the execution of a thread. When this method is called, the run() method of the thread is executed in a separate thread of execution.\n",
    "\n",
    "- 3.`join()`: This method is used to wait for a thread to terminate. When the join() method is called on a thread, the calling thread is blocked until the target thread completes its execution. This is useful for ensuring that all threads have finished their execution before continuing with the main program.\n",
    "\n",
    "- 4.`isAlive()`: This method is used to check whether a thread is still executing. When called on a thread object, it returns a boolean value indicating whether the thread is still running or has completed its execution."
   ]
  },
  {
   "cell_type": "markdown",
   "id": "a5e3e8f6",
   "metadata": {},
   "source": [
    "## Q4.Write a python program to create two threads. Thread one must print the list of squares and thread two must print the list of cubes."
   ]
  },
  {
   "cell_type": "code",
   "execution_count": 1,
   "id": "abea1f4d",
   "metadata": {},
   "outputs": [
    {
     "name": "stdout",
     "output_type": "stream",
     "text": [
      "List of squares: [1, 4, 9, 16, 25, 36, 49, 64, 81, 100]\n",
      "List of cubes: [1, 8, 27, 64, 125, 216, 343, 512, 729, 1000]\n"
     ]
    }
   ],
   "source": [
    "import threading\n",
    "\n",
    "# Define a function to print the list of squares\n",
    "def print_squares():\n",
    "    squares = [x**2 for x in range(1, 11)]\n",
    "    print(\"List of squares:\", squares)\n",
    "\n",
    "# Define a function to print the list of cubes\n",
    "def print_cubes():\n",
    "    cubes = [x**3 for x in range(1, 11)]\n",
    "    print(\"List of cubes:\", cubes)\n",
    "\n",
    "# Create the first thread to print squares\n",
    "t1 = threading.Thread(target=print_squares)\n",
    "\n",
    "# Create the second thread to print cubes\n",
    "t2 = threading.Thread(target=print_cubes)\n",
    "\n",
    "# Start the threads\n",
    "t1.start()\n",
    "t2.start()\n",
    "\n",
    "# Wait for the threads to finish\n",
    "t1.join()\n",
    "t2.join()\n"
   ]
  },
  {
   "cell_type": "markdown",
   "id": "713aa404",
   "metadata": {},
   "source": [
    "## Q5. State advantages and disadvantages of multithreading."
   ]
  },
  {
   "cell_type": "markdown",
   "id": "19711f76",
   "metadata": {},
   "source": [
    "#### Advantages of multithreading:\n",
    "\n",
    "- Increased performance: By utilizing multiple threads, it's possible to increase the overall performance of a program by taking advantage of the available system resources.\n",
    "\n",
    "- Improved responsiveness: Multithreading can improve the responsiveness of a program, as the user interface can remain active while other tasks are performed in the background.\n",
    "\n",
    "- Simplified code: In some cases, multithreading can simplify the code required to perform complex tasks, as it allows different parts of the program to be executed simultaneously.\n",
    "\n",
    "- Enhanced modularity: By dividing a program into multiple threads, it can be easier to maintain and modify, as each thread can focus on a specific task or functionality.\n",
    "\n",
    "### Disadvantages of multithreading:\n",
    "\n",
    "- Increased complexity: Multithreaded programs can be more complex to design, implement, and debug, as they require careful consideration of issues such as race conditions, deadlocks, and thread synchronization.\n",
    "\n",
    "- Reduced determinism: Multithreading can reduce the determinism of a program, as the order in which threads are executed can be unpredictable and lead to different results each time the program is run.\n",
    "\n",
    "- Increased resource usage: Multithreading can increase the resource usage of a program, as each thread requires its own memory and processing power.\n",
    "\n",
    "- Compatibility issues: Some programming languages or platforms may not support multithreading or may have limitations that can affect the performance or stability of a multithreaded program."
   ]
  },
  {
   "cell_type": "markdown",
   "id": "c07bb819",
   "metadata": {},
   "source": [
    "## Q6. Explain deadlocks and race conditions."
   ]
  },
  {
   "cell_type": "markdown",
   "id": "183c4929",
   "metadata": {},
   "source": [
    "Deadlocks and race conditions are two common issues that can arise in multithreaded programs.\n",
    "\n",
    "- Deadlock: A deadlock occurs when two or more threads are blocked and waiting for each other to release a resource, preventing any of them from making progress. For example, if Thread A is holding Resource X and waiting for Resource Y, while Thread B is holding Resource Y and waiting for Resource X, a deadlock will occur, as neither thread can proceed without the other releasing its resource. Deadlocks can be difficult to detect and resolve, and can cause a program to hang or crash.\n",
    "\n",
    "- Race condition: A race condition occurs when two or more threads access the same shared resource simultaneously, and the outcome of the program depends on the order or timing of their access. For example, if two threads try to update the same variable at the same time, the final value of the variable may depend on which thread finishes first. Race conditions can lead to unexpected or incorrect program behavior, as the outcome is unpredictable and may vary from one execution to another.\n",
    "\n",
    "To avoid deadlocks, it's important to ensure that threads acquire and release resources in a consistent and predictable order, and that locks are used to prevent multiple threads from accessing the same resource at the same time. To avoid race conditions, it's important to synchronize access to shared resources using locks or other mechanisms, and to ensure that different threads do not interfere with each other's operations. Proper synchronization and coordination of threads can help prevent both deadlocks and race conditions, and ensure that a multithreaded program runs correctly and efficiently."
   ]
  }
 ],
 "metadata": {
  "kernelspec": {
   "display_name": "Python 3 (ipykernel)",
   "language": "python",
   "name": "python3"
  },
  "language_info": {
   "codemirror_mode": {
    "name": "ipython",
    "version": 3
   },
   "file_extension": ".py",
   "mimetype": "text/x-python",
   "name": "python",
   "nbconvert_exporter": "python",
   "pygments_lexer": "ipython3",
   "version": "3.10.9"
  }
 },
 "nbformat": 4,
 "nbformat_minor": 5
}
