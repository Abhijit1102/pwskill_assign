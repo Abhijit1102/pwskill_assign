{
 "cells": [
  {
   "cell_type": "markdown",
   "id": "f43ada7e",
   "metadata": {},
   "source": [
    "## Assignment 2"
   ]
  },
  {
   "cell_type": "markdown",
   "id": "819ebae0",
   "metadata": {},
   "source": [
    "1. Write a program to accept percentage from the user and display the grade according to the following \n",
    "criteria: \n",
    "Marks \n",
    "Grade \n",
    ">90 \n",
    "A \n",
    ">80 and <=90 \n",
    "B \n",
    "> =60 and <=80 \n",
    "C\n",
    "below 60 \n",
    "D "
   ]
  },
  {
   "cell_type": "code",
   "execution_count": 45,
   "id": "296773a2",
   "metadata": {
    "scrolled": true
   },
   "outputs": [
    {
     "name": "stdout",
     "output_type": "stream",
     "text": [
      "Enter the Mark to Display Grade\n",
      "75\n",
      "C\n"
     ]
    }
   ],
   "source": [
    "mark = int(input(\"Enter the Mark to Display Grade\\n\"))\n",
    "\n",
    "if mark>90:\n",
    "    print(\"A\")\n",
    "    \n",
    "elif mark>80 and mark<=90:\n",
    "        print(\"B\")\n",
    "       \n",
    "elif mark>=60 and mark<=80:\n",
    "            print(\"C\")\n",
    "            \n",
    "else:\n",
    "    print(\"D\")\n",
    "    "
   ]
  },
  {
   "cell_type": "markdown",
   "id": "512da2ce",
   "metadata": {},
   "source": [
    "2. Write a program to accept the cost price of a bike and display the road tax to be paid according to the \n",
    "following criteria: \n",
    "Tax \n",
    "15% \n",
    "10% \n",
    "5% \n",
    "Cost Price(in Rs) \n",
    ">100000 \n",
    "50000 and <= 100000 \n",
    "<= 50000 \n"
   ]
  },
  {
   "cell_type": "code",
   "execution_count": 44,
   "id": "a77a4d85",
   "metadata": {},
   "outputs": [
    {
     "name": "stdout",
     "output_type": "stream",
     "text": [
      "Enter the cost price of bike (in Rs)\n",
      "145500\n",
      "The road Tax to be paid : Rs 21825.0\n"
     ]
    }
   ],
   "source": [
    "price = float(input(\"Enter the cost price of bike (in Rs)\\n\"))\n",
    "\n",
    "if price>100000:\n",
    "    print(f\"The road Tax to be paid : Rs {price*(.15)}\")\n",
    "\n",
    "elif price>50000 and price<=100000:\n",
    "    print(f\"The road Tax to be paid : Rs {price*(.10)}\")\n",
    "\n",
    "else:\n",
    "    print(f\"The road Tax to be paid : Rs {price*(.05)}\")"
   ]
  },
  {
   "cell_type": "code",
   "execution_count": 39,
   "id": "b722403d",
   "metadata": {},
   "outputs": [
    {
     "name": "stdout",
     "output_type": "stream",
     "text": [
      "Enter the City : \n",
      "Agra\n",
      "Taj Mahal\n"
     ]
    }
   ],
   "source": [
    "City = str(input(\"Enter the City : \\n\"))\n",
    "\n",
    "if City == \"Delhi\":\n",
    "    print(\"Red Fort\")\n",
    "    \n",
    "elif City == \"Agra\":\n",
    "    print(\"Taj Mahal\")\n",
    "\n",
    "elif City == \"Jaipur\":\n",
    "    print(\"Jal Mahal\")\n",
    "    \n",
    "else:\n",
    "    print(\"The given City is Not in the List\")"
   ]
  },
  {
   "cell_type": "markdown",
   "id": "70a422e1",
   "metadata": {},
   "source": [
    "4. Check how many times a given number can be divided by 3 before it is less than or equal to 10."
   ]
  },
  {
   "cell_type": "code",
   "execution_count": 9,
   "id": "c1f98434",
   "metadata": {},
   "outputs": [
    {
     "name": "stdout",
     "output_type": "stream",
     "text": [
      "Enter a  Number \n",
      "18\n",
      "Given Number is divided by 3 : 3 time\n"
     ]
    }
   ],
   "source": [
    "num = int(input(\"Enter a  Number \\n\"))\n",
    "\n",
    "count = 0\n",
    "while num >= 10:    \n",
    "    num = num-3\n",
    "    count += 1\n",
    "\n",
    "print(f\"Given Number is divided by 3 : {count} time\")"
   ]
  },
  {
   "cell_type": "markdown",
   "id": "cb1d9ccc",
   "metadata": {},
   "source": [
    "5. Why and When to Use while Loop in Python give a detailed description with example \n"
   ]
  },
  {
   "cell_type": "markdown",
   "id": "770fccd8",
   "metadata": {},
   "source": [
    "In Python, `while` loops are used to repeatedly execute a block of code as long as a given condition is true. The code inside the `while` loop will be executed as long as the condition remains true. Once the condition becomes false, the loop terminates and the program continues with the next line of code after the loop.\n",
    "\n",
    "In above, an example to illustrate the use of while loop in Python"
   ]
  },
  {
   "cell_type": "markdown",
   "id": "6fb4898e",
   "metadata": {},
   "source": [
    "6. Use nested while loop to print 3 different pattern."
   ]
  },
  {
   "cell_type": "code",
   "execution_count": 10,
   "id": "312c4e2b",
   "metadata": {},
   "outputs": [
    {
     "name": "stdout",
     "output_type": "stream",
     "text": [
      "*\n",
      "**\n",
      "***\n",
      "****\n",
      "*****\n"
     ]
    }
   ],
   "source": [
    "# pattern 1: Right Angle-Traingle\n",
    "row = 1\n",
    "while row <= 5:\n",
    "    col = 1\n",
    "    while col <= row:\n",
    "        print(\"*\", end=\"\")\n",
    "        col += 1\n",
    "    print()\n",
    "    row += 1"
   ]
  },
  {
   "cell_type": "code",
   "execution_count": 11,
   "id": "6059b40d",
   "metadata": {},
   "outputs": [
    {
     "name": "stdout",
     "output_type": "stream",
     "text": [
      "*****\n",
      "****\n",
      "***\n",
      "**\n",
      "*\n"
     ]
    }
   ],
   "source": [
    "# Pattern 2: Inverted Right-angled Triangle\n",
    "row = 5\n",
    "while row >= 1:\n",
    "    col = 1\n",
    "    while col <= row:\n",
    "        print(\"*\", end=\"\")\n",
    "        col += 1\n",
    "    print()\n",
    "    row -= 1\n"
   ]
  },
  {
   "cell_type": "code",
   "execution_count": 12,
   "id": "53c2db9e",
   "metadata": {},
   "outputs": [
    {
     "name": "stdout",
     "output_type": "stream",
     "text": [
      "    *\n",
      "   ***\n",
      "  *****\n",
      " *******\n",
      "*********\n",
      " *******\n",
      "  *****\n",
      "   ***\n",
      "    *\n"
     ]
    }
   ],
   "source": [
    "# Pattern 3: Diamond Shape\n",
    "row = 1\n",
    "n = 5\n",
    "while row <= n:\n",
    "    col = 1\n",
    "    while col <= n - row:\n",
    "        print(end=\" \")\n",
    "        col += 1\n",
    "    col = 1\n",
    "    while col <= 2 * row - 1:\n",
    "        print(\"*\", end=\"\")\n",
    "        col += 1\n",
    "    print()\n",
    "    row += 1\n",
    "row = n - 1\n",
    "while row >= 1:\n",
    "    col = 1\n",
    "    while col <= n - row:\n",
    "        print(end=\" \")\n",
    "        col += 1\n",
    "    col = 1\n",
    "    while col <= 2 * row - 1:\n",
    "        print(\"*\", end=\"\")\n",
    "        col += 1\n",
    "    print()\n",
    "    row -= 1\n"
   ]
  },
  {
   "cell_type": "markdown",
   "id": "9714ed25",
   "metadata": {},
   "source": [
    "7.Reverse a while loop to display numbers from 10 to 1. "
   ]
  },
  {
   "cell_type": "code",
   "execution_count": 13,
   "id": "4de122db",
   "metadata": {},
   "outputs": [
    {
     "name": "stdout",
     "output_type": "stream",
     "text": [
      "10\n",
      "9\n",
      "8\n",
      "7\n",
      "6\n",
      "5\n",
      "4\n",
      "3\n",
      "2\n",
      "1\n"
     ]
    }
   ],
   "source": [
    "count = 10\n",
    "while count >= 1:\n",
    "    print(count)\n",
    "    count -= 1"
   ]
  },
  {
   "cell_type": "markdown",
   "id": "7be23aa1",
   "metadata": {},
   "source": [
    "8. Reverse a while loop to display numbers from 10 to 1 "
   ]
  },
  {
   "cell_type": "code",
   "execution_count": 14,
   "id": "a748e5a0",
   "metadata": {},
   "outputs": [
    {
     "name": "stdout",
     "output_type": "stream",
     "text": [
      "10\n",
      "9\n",
      "8\n",
      "7\n",
      "6\n",
      "5\n",
      "4\n",
      "3\n",
      "2\n",
      "1\n"
     ]
    }
   ],
   "source": [
    "count = 10\n",
    "while count >= 1:\n",
    "    print(count)\n",
    "    count -= 1"
   ]
  },
  {
   "cell_type": "code",
   "execution_count": null,
   "id": "af95a2b0",
   "metadata": {},
   "outputs": [],
   "source": []
  },
  {
   "cell_type": "code",
   "execution_count": null,
   "id": "0045790c",
   "metadata": {},
   "outputs": [],
   "source": []
  }
 ],
 "metadata": {
  "kernelspec": {
   "display_name": "Python 3 (ipykernel)",
   "language": "python",
   "name": "python3"
  },
  "language_info": {
   "codemirror_mode": {
    "name": "ipython",
    "version": 3
   },
   "file_extension": ".py",
   "mimetype": "text/x-python",
   "name": "python",
   "nbconvert_exporter": "python",
   "pygments_lexer": "ipython3",
   "version": "3.10.9"
  }
 },
 "nbformat": 4,
 "nbformat_minor": 5
}
