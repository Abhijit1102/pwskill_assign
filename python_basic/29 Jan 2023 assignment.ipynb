{
 "cells": [
  {
   "cell_type": "markdown",
   "id": "61bddc01",
   "metadata": {},
   "source": [
    "## Assignment Questions and Answer"
   ]
  },
  {
   "cell_type": "markdown",
   "id": "38d071b7",
   "metadata": {},
   "source": [
    "1. Who developed Python Programming Language?\n",
    "- Python is a popular programming language. It was created by Guido van Rossum, and released in 1991.\n"
   ]
  },
  {
   "cell_type": "markdown",
   "id": "dc165db9",
   "metadata": {},
   "source": [
    "2. Which type of Programming does Python support?\n",
    "- Python support Object-oriented programming."
   ]
  },
  {
   "cell_type": "markdown",
   "id": "5b6f059e",
   "metadata": {},
   "source": [
    "3. Is Python case sensitive when dealing with identifiers? \n",
    "- Yes, Python case sensitive when dealing with identifiers."
   ]
  },
  {
   "cell_type": "markdown",
   "id": "cd653ee3",
   "metadata": {},
   "source": [
    "4. What is the correct extension of the Python file? \n",
    "- the correct extension of the Python file is py.\n"
   ]
  },
  {
   "cell_type": "markdown",
   "id": "ff14e26f",
   "metadata": {},
   "source": [
    "5. Is Python code compiled or interpreted? \n",
    "- Python is an interpreted language."
   ]
  },
  {
   "cell_type": "markdown",
   "id": "1f262d29",
   "metadata": {},
   "source": [
    "6. Name a few blocks of code used to define in Python language? "
   ]
  },
  {
   "cell_type": "code",
   "execution_count": 5,
   "id": "df2a58de",
   "metadata": {},
   "outputs": [
    {
     "name": "stdout",
     "output_type": "stream",
     "text": [
      "Hello World!\n"
     ]
    }
   ],
   "source": [
    "def main():\n",
    "    print(\"Hello World!\")\n",
    "    \n",
    "if __name__ == \"__main__\":\n",
    "    main()"
   ]
  },
  {
   "cell_type": "markdown",
   "id": "3c5c0d8f",
   "metadata": {},
   "source": [
    "7. State a character used to give single-line comments in Python? \n",
    "- '#' is character used to give single-line comments in Python."
   ]
  },
  {
   "cell_type": "markdown",
   "id": "8365f930",
   "metadata": {},
   "source": [
    "8. Mention functions which can help us to find the version of python that we are currently working on?\n"
   ]
  },
  {
   "cell_type": "code",
   "execution_count": 11,
   "id": "7d0923b5",
   "metadata": {},
   "outputs": [
    {
     "name": "stdout",
     "output_type": "stream",
     "text": [
      "Python 3.10.9\n"
     ]
    }
   ],
   "source": [
    "!python --version #This function can help you to find python version"
   ]
  },
  {
   "cell_type": "markdown",
   "id": "e0a14ae6",
   "metadata": {},
   "source": [
    "9. Python supports the creation of anonymous functions at runtime, using a construct called\n",
    "-  lambda"
   ]
  },
  {
   "cell_type": "markdown",
   "id": "7077adba",
   "metadata": {},
   "source": [
    "10. What does pip stand for python?\n",
    "- Preferred Installer Program"
   ]
  },
  {
   "cell_type": "markdown",
   "id": "6257c435",
   "metadata": {},
   "source": [
    "11. Mention a few built-in functions in python? \n",
    "- print(), type(), len() etc are few build-in function in python."
   ]
  },
  {
   "cell_type": "markdown",
   "id": "92bbced5",
   "metadata": {},
   "source": [
    "12. What is the maximum possible length of an identifier in Python? \n",
    "-  An identifier can have a maximum length of 79 characters"
   ]
  },
  {
   "cell_type": "markdown",
   "id": "e59c371b",
   "metadata": {},
   "source": [
    "13. What are the benefits of using Python? \n",
    "- Easy to Code\n",
    "- Easy to Read\n",
    "- Free and Open-Source\n",
    "- Robust Standard Library"
   ]
  },
  {
   "cell_type": "code",
   "execution_count": null,
   "id": "074d5cbb",
   "metadata": {},
   "outputs": [],
   "source": []
  },
  {
   "cell_type": "code",
   "execution_count": null,
   "id": "f9e374eb",
   "metadata": {},
   "outputs": [],
   "source": []
  },
  {
   "cell_type": "code",
   "execution_count": null,
   "id": "3b512c4e",
   "metadata": {},
   "outputs": [],
   "source": []
  }
 ],
 "metadata": {
  "kernelspec": {
   "display_name": "Python 3 (ipykernel)",
   "language": "python",
   "name": "python3"
  },
  "language_info": {
   "codemirror_mode": {
    "name": "ipython",
    "version": 3
   },
   "file_extension": ".py",
   "mimetype": "text/x-python",
   "name": "python",
   "nbconvert_exporter": "python",
   "pygments_lexer": "ipython3",
   "version": "3.10.9"
  }
 },
 "nbformat": 4,
 "nbformat_minor": 5
}
