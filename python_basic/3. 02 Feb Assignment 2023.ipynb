{
 "cells": [
  {
   "cell_type": "markdown",
   "id": "84df66f4",
   "metadata": {},
   "source": [
    "## Assignment \n",
    "Q1. What are the characteristics of the tuples? Is tuple immutable? "
   ]
  },
  {
   "cell_type": "markdown",
   "id": "78c12514",
   "metadata": {},
   "source": [
    "**Some of the characteristics of tuples are:**\n",
    "\n",
    "- Ordered: The elements in a tuple have a defined order, and this order is preserved.\n",
    "\n",
    "- Immutable: Once created, a tuple cannot be modified. Attempts to modify a tuple will result in an error.\n",
    "\n",
    "- Heterogeneous: Tuples can contain elements of different data types, such as numbers, strings, and other objects.\n",
    "\n",
    "- Indexed: The elements in a tuple can be accessed using an index, starting from 0.\n",
    "\n",
    "Yes, tuple is immutable."
   ]
  },
  {
   "cell_type": "markdown",
   "id": "9e4708be",
   "metadata": {},
   "source": [
    "Q2. What are the two tuple methods in python? Give an example of each method. Give a reason why  tuples have only two in-built methods as compared to Lists. "
   ]
  },
  {
   "cell_type": "markdown",
   "id": "d1cbdaf3",
   "metadata": {},
   "source": [
    "The two in-built tuple methods in Python are:\n",
    "\n",
    "     - `count()` method: returns the number of times a specific value appears in a tuple.\n",
    "     - `index()` method: returns the index of the first occurrence of a specific value in a tuple.\n",
    "  \n",
    "  Tuples have only two in-built methods compared to lists because tuples are immutable, meaning the elements of a tuple cannot be changed after it is created. The `count()` and `index()` methods are basic operations that do not modify the tuple. In contrast, lists are mutable and have many more in-built methods to manipulate the elements in a list. This is because lists are intended for dynamic data storage, where the data can be updated, inserted, or removed. Thus, lists have a larger set of methods to perform these operations.\n",
    "        "
   ]
  },
  {
   "cell_type": "markdown",
   "id": "2fc6ffeb",
   "metadata": {},
   "source": [
    "Q3.  Which collection datatypes in python do not allow duplicate items? Write a code using a set to remove  duplicates from the given list. \n",
    "List = [1, 1, 1, 2, 1, 3, 1, 4, 2, 1, 2, 2, 2, 3, 2, 4, 3, 1, 3, 2, 3, 3, 3, 4, 4, 1, 4, 2, 4, 3, 4, 4]"
   ]
  },
  {
   "cell_type": "markdown",
   "id": "2c78e29a",
   "metadata": {},
   "source": [
    "In Python, both sets and dictionaries do not allow duplicate items."
   ]
  },
  {
   "cell_type": "code",
   "execution_count": 2,
   "id": "e7e73e43",
   "metadata": {},
   "outputs": [
    {
     "name": "stdout",
     "output_type": "stream",
     "text": [
      "[1, 2, 3, 4]\n"
     ]
    }
   ],
   "source": [
    "List = [1, 1, 1, 2, 1, 3, 1, 4, 2, 1, 2, 2, 2, 3, 2, 4, 3, 1, 3, 2, 3, 3, 3, 4, 4, 1, 4, 2, 4, 3, 4, 4]\n",
    "unique_numbers = set(List)\n",
    "result = list(unique_numbers)\n",
    "print(result) "
   ]
  },
  {
   "cell_type": "markdown",
   "id": "a692bba8",
   "metadata": {},
   "source": [
    "Q4. Explain the difference between the union() and update() methods for a set. Give an example of  each method"
   ]
  },
  {
   "cell_type": "markdown",
   "id": "0cbaf788",
   "metadata": {},
   "source": [
    "`union()` method: returns a set that contains all the elements of the first set and all the elements of the second set, without any duplicates. The original sets are not modified"
   ]
  },
  {
   "cell_type": "code",
   "execution_count": 3,
   "id": "223d1413",
   "metadata": {},
   "outputs": [
    {
     "name": "stdout",
     "output_type": "stream",
     "text": [
      "{1, 2, 3, 4, 5, 6}\n"
     ]
    }
   ],
   "source": [
    "A = {1, 2, 3, 4}\n",
    "B = {3, 4, 5, 6}\n",
    "result = A.union(B)\n",
    "print(result)"
   ]
  },
  {
   "cell_type": "markdown",
   "id": "e51706c0",
   "metadata": {},
   "source": [
    "`update()` method: adds all the elements of the second set to the first set. The original set is modified."
   ]
  },
  {
   "cell_type": "code",
   "execution_count": 4,
   "id": "0d8d160b",
   "metadata": {},
   "outputs": [
    {
     "name": "stdout",
     "output_type": "stream",
     "text": [
      "{1, 2, 3, 4, 5, 6}\n"
     ]
    }
   ],
   "source": [
    "A = {1, 2, 3, 4}\n",
    "B = {3, 4, 5, 6}\n",
    "A.update(B)\n",
    "print(A)"
   ]
  },
  {
   "cell_type": "markdown",
   "id": "f3ad9fe1",
   "metadata": {},
   "source": [
    "Q5. What is a dictionary? Give an example. Also, state whether a dictionary is ordered or unordered. "
   ]
  },
  {
   "cell_type": "markdown",
   "id": "1e59479c",
   "metadata": {},
   "source": [
    "A dictionary in Python is an unordered collection of key-value pairs, where each key must be unique. Dictionaries are defined using curly braces `{}` and colons `:` to separate keys and values. The keys in a dictionary can be of any hashable data type, such as strings, numbers, or tuples, while the values can be of any data type."
   ]
  },
  {
   "cell_type": "code",
   "execution_count": 5,
   "id": "ee93923d",
   "metadata": {},
   "outputs": [
    {
     "name": "stdout",
     "output_type": "stream",
     "text": [
      "{'name': 'John', 'age': 30, 'city': 'New York'}\n"
     ]
    }
   ],
   "source": [
    "# Example\n",
    "person = {'name': 'John', 'age': 30, 'city': 'New York'}\n",
    "print(person)"
   ]
  },
  {
   "cell_type": "markdown",
   "id": "c9915a6e",
   "metadata": {},
   "source": [
    "Q6. Can we create a nested dictionary? If so, please give an example by creating a simple one-level  nested dictionary"
   ]
  },
  {
   "cell_type": "markdown",
   "id": "ede52e3e",
   "metadata": {},
   "source": [
    "Yes, we can create a nested dictionary in Python. A nested dictionary is a dictionary that contains one or more dictionaries as its values. This allows you to store and organize complex data structures."
   ]
  },
  {
   "cell_type": "code",
   "execution_count": 7,
   "id": "4e60a0e0",
   "metadata": {},
   "outputs": [
    {
     "name": "stdout",
     "output_type": "stream",
     "text": [
      "{'city': 'New York', 'zip': 10001}\n"
     ]
    }
   ],
   "source": [
    "person = {'name': 'John', 'age': 30, 'address': {'city': 'New York', 'zip': 10001}}\n",
    "print(person[\"address\"])"
   ]
  },
  {
   "cell_type": "markdown",
   "id": "e8db7253",
   "metadata": {},
   "source": [
    "Q7. Using setdefault() method, create key named topics in the given dictionary and also add the value of  the key as this list ['Python', 'Machine Learning’, 'Deep Learning'] \n",
    "dict1 = {'language' : 'Python', 'course': 'Data Science Masters'} "
   ]
  },
  {
   "cell_type": "code",
   "execution_count": 13,
   "id": "b4557e6a",
   "metadata": {},
   "outputs": [
    {
     "name": "stdout",
     "output_type": "stream",
     "text": [
      "{'language': 'Python', 'course': 'Data Science Masters', 'topics': ['Python', 'Machine Learning', 'Deep Learning']}\n"
     ]
    }
   ],
   "source": [
    "dict1 = {'language': 'Python', 'course': 'Data Science Masters'}\n",
    "dict1.setdefault('topics', []).extend(['Python', 'Machine Learning', 'Deep Learning'])\n",
    "print(dict1)"
   ]
  },
  {
   "cell_type": "markdown",
   "id": "c83dc053",
   "metadata": {},
   "source": [
    "Q8. What are the three view objects in dictionaries? Use the three in-built methods in python to display  these three view objects for the given dictionary. \n",
    "dict1 = {'Sport': 'Cricket' , 'Teams': ['India', 'Australia', 'England', 'South Africa', 'Sri Lanka', 'New Zealand']} "
   ]
  },
  {
   "cell_type": "markdown",
   "id": "5e5ee44d",
   "metadata": {},
   "source": [
    "In Python, dictionaries have three view objects:\n",
    "\n",
    "- keys(): This method returns a dict_keys object that displays all the keys in the dictionary.\n",
    "\n",
    "- values(): This method returns a dict_values object that displays all the values in the dictionary.\n",
    "\n",
    "- items(): This method returns a dict_items object that displays all the key-value pairs in the dictionary."
   ]
  },
  {
   "cell_type": "code",
   "execution_count": 14,
   "id": "0d88ab48",
   "metadata": {},
   "outputs": [
    {
     "name": "stdout",
     "output_type": "stream",
     "text": [
      "Dictionary keys: dict_keys(['Sport', 'Teams'])\n",
      "Dictionary values: dict_values(['Cricket', ['India', 'Australia', 'England', 'South Africa', 'Sri Lanka', 'New Zealand']])\n",
      "Dictionary items: dict_items([('Sport', 'Cricket'), ('Teams', ['India', 'Australia', 'England', 'South Africa', 'Sri Lanka', 'New Zealand'])])\n"
     ]
    }
   ],
   "source": [
    "dict1 = {'Sport': 'Cricket' , 'Teams': ['India', 'Australia', 'England', 'South Africa', 'Sri Lanka', 'New Zealand']}\n",
    "\n",
    "# View objects - keys\n",
    "keys = dict1.keys()\n",
    "print(\"Dictionary keys:\", keys)\n",
    "\n",
    "# View objects - values\n",
    "values = dict1.values()\n",
    "print(\"Dictionary values:\", values)\n",
    "\n",
    "# View objects - items\n",
    "items = dict1.items()\n",
    "print(\"Dictionary items:\", items)"
   ]
  }
 ],
 "metadata": {
  "kernelspec": {
   "display_name": "Python 3 (ipykernel)",
   "language": "python",
   "name": "python3"
  },
  "language_info": {
   "codemirror_mode": {
    "name": "ipython",
    "version": 3
   },
   "file_extension": ".py",
   "mimetype": "text/x-python",
   "name": "python",
   "nbconvert_exporter": "python",
   "pygments_lexer": "ipython3",
   "version": "3.10.9"
  }
 },
 "nbformat": 4,
 "nbformat_minor": 5
}
