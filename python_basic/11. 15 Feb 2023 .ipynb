{
 "cells": [
  {
   "cell_type": "markdown",
   "id": "f9dca257",
   "metadata": {},
   "source": [
    "# Assigment\n",
    "\n",
    "## Q1. What is multiprocessing in python? Why is it useful?"
   ]
  },
  {
   "cell_type": "markdown",
   "id": "d6382510",
   "metadata": {},
   "source": [
    "Multiprocessing is a way of achieving parallelism and concurrency in Python by using multiple processes instead of multiple threads. It is useful for performing CPU-bound tasks in parallel, as it allows multiple tasks to be executed simultaneously on multiple cores of a CPU.\n",
    "\n",
    "Multiprocessing in Python allows you to create and manage multiple processes in a way that is similar to creating and managing threads. However, unlike threads, processes run in separate memory spaces and are isolated from each other. This means that processes do not share memory and have their own independent memory space.\n",
    "\n",
    "Using multiprocessing in Python can help to speed up CPU-bound tasks and make your code more efficient. By distributing tasks across multiple processes, you can take advantage of the processing power of multiple cores, which can significantly reduce the time required to complete a task.\n",
    "\n",
    "Multiprocessing can also help to avoid some of the limitations of the Global Interpreter Lock (GIL), which restricts the use of threads for achieving parallelism in Python. Since processes do not share memory, they do not have to deal with the same locking and synchronization issues as threads."
   ]
  },
  {
   "cell_type": "markdown",
   "id": "a456cd4d",
   "metadata": {},
   "source": [
    "## Q2. What are the differences between multiprocessing and multithreading?"
   ]
  },
  {
   "cell_type": "markdown",
   "id": "08958946",
   "metadata": {},
   "source": [
    "Multiprocessing and multithreading are both techniques used to achieve parallelism and improve performance in Python. However, there are some key differences between the two:\n",
    "\n",
    "- `Processes vs. threads`: The fundamental difference between multiprocessing and multithreading is that multiprocessing involves spawning multiple processes, while multithreading involves spawning multiple threads within a single process.\n",
    "\n",
    "- `Isolation`: Since each process has its own memory space, they are isolated from each other. In contrast, threads within a process share the same memory space and can access each other's variables and data.\n",
    "\n",
    "- `Overhead`: Creating a new process is more resource-intensive than creating a new thread. This is because a new process requires a new memory space, while a new thread only requires a new stack within the same memory space.\n",
    "\n",
    "- `Concurrency`: Because of their isolation, processes can run truly concurrently on multi-core systems. On the other hand, threads can only run concurrently on a single core, since they share the same memory space and must take turns accessing the CPU.\n",
    "\n",
    "- `Synchronization`: Since threads share the same memory space, they can easily synchronize and communicate with each other using shared variables. In contrast, processes need to use inter-process communication (IPC) techniques such as pipes, queues, or shared memory to communicate and synchronize with each other."
   ]
  },
  {
   "cell_type": "markdown",
   "id": "855f6f2b",
   "metadata": {},
   "source": [
    "## Q3. Write a python code to create a process using the multiprocessing module."
   ]
  },
  {
   "cell_type": "code",
   "execution_count": 1,
   "id": "60b50ad0",
   "metadata": {},
   "outputs": [
    {
     "name": "stdout",
     "output_type": "stream",
     "text": [
      "Result: 1\n"
     ]
    }
   ],
   "source": [
    "import multiprocessing\n",
    "\n",
    "def square(n):\n",
    "    return n*n\n",
    "\n",
    "if __name__ == '__main__':\n",
    "    # Create a new process\n",
    "    p = multiprocessing.Process(target=square, args=(5,))\n",
    "\n",
    "    # Start the process\n",
    "    p.start()\n",
    "\n",
    "    # Wait for the process to finish\n",
    "    p.join()\n",
    "\n",
    "    # Print the result\n",
    "    print(\"Result:\", p.exitcode)\n"
   ]
  },
  {
   "cell_type": "markdown",
   "id": "43cd5336",
   "metadata": {},
   "source": [
    "## Q4. What is a multiprocessing pool in python? Why is it used?"
   ]
  },
  {
   "cell_type": "markdown",
   "id": "ea038649",
   "metadata": {},
   "source": [
    "A multiprocessing pool in Python is a way to execute a function in parallel on a large number of input values using multiple processes. It is used to distribute the workload across multiple processors and reduce the overall execution time.\n",
    "\n",
    "The pool module of the multiprocessing library provides a simple interface for parallel execution of a function across multiple input values. The Pool class can be used to create a pool of worker processes, which can execute the given function with different input values in parallel. This can speed up the execution of the function and improve performance.\n",
    "\n",
    "The main advantage of using a multiprocessing pool is that it allows for easy parallelization of a task without having to manually create and manage multiple processes. It abstracts away the complexity of inter-process communication, synchronization, and process management, making it easier to parallelize code and take advantage of multi-core processors."
   ]
  },
  {
   "cell_type": "markdown",
   "id": "df51420e",
   "metadata": {},
   "source": [
    "## Q5. How can we create a pool of worker processes in python using the multiprocessing module?"
   ]
  },
  {
   "cell_type": "markdown",
   "id": "0db7039c",
   "metadata": {},
   "source": [
    "To create a pool of worker processes in Python using the multiprocessing module, you can use the Pool class. "
   ]
  },
  {
   "cell_type": "code",
   "execution_count": null,
   "id": "24451662",
   "metadata": {},
   "outputs": [],
   "source": [
    "import multiprocessing\n",
    "\n",
    "def worker(num):\n",
    "    \"\"\"A function to be executed by worker processes\"\"\"\n",
    "    print(\"Worker\", num, \"is executing\")\n",
    "\n",
    "if __name__ == \"__main__\":\n",
    "    with multiprocessing.Pool(processes=3) as pool:\n",
    "        # The Pool class automatically creates and manages a pool of worker processes\n",
    "        pool.map(worker, [1, 2, 3, 4, 5])\n"
   ]
  },
  {
   "cell_type": "markdown",
   "id": "f75a443a",
   "metadata": {},
   "source": [
    "## Q6. Write a python program to create 4 processes, each process should print a different number using the multiprocessing module in python."
   ]
  },
  {
   "cell_type": "code",
   "execution_count": 6,
   "id": "087996cb",
   "metadata": {},
   "outputs": [],
   "source": [
    "import multiprocessing\n",
    "\n",
    "def print_number(number):\n",
    "    print(\"Process ID: {}, Number: {}\".format(multiprocessing.current_process().pid, number))\n",
    "\n",
    "if __name__ == \"__main__\":\n",
    "    processes = []\n",
    "    for i in range(4):\n",
    "        p = multiprocessing.Process(target=print_number, args=(i,))\n",
    "        processes.append(p)\n",
    "        p.start()\n",
    "\n",
    "    for p in processes:\n",
    "        p.join()\n"
   ]
  },
  {
   "cell_type": "code",
   "execution_count": null,
   "id": "ad84da48",
   "metadata": {},
   "outputs": [],
   "source": []
  }
 ],
 "metadata": {
  "kernelspec": {
   "display_name": "Python 3 (ipykernel)",
   "language": "python",
   "name": "python3"
  },
  "language_info": {
   "codemirror_mode": {
    "name": "ipython",
    "version": 3
   },
   "file_extension": ".py",
   "mimetype": "text/x-python",
   "name": "python",
   "nbconvert_exporter": "python",
   "pygments_lexer": "ipython3",
   "version": "3.10.9"
  }
 },
 "nbformat": 4,
 "nbformat_minor": 5
}
