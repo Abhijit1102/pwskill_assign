{
 "cells": [
  {
   "cell_type": "markdown",
   "id": "8ceef380",
   "metadata": {},
   "source": [
    "## Exception handling-1\n",
    "### Assignment "
   ]
  },
  {
   "cell_type": "markdown",
   "id": "4d1c1c8d",
   "metadata": {},
   "source": [
    "### Q1. What isan Exception in python? Write the difference between Exceptions and Syntax errors."
   ]
  },
  {
   "cell_type": "markdown",
   "id": "dbfc08e4",
   "metadata": {},
   "source": [
    "An exception in Python is an event that occurs during the execution of a program and disrupts the normal flow of the program's instructions. When an exception occurs, the program will raise (or throw) an exception, which can be caught and handled using a try-except statement. This allows the program to recover from the error and continue executing, rather than stopping abruptly.\n",
    "\n",
    "There are many built-in exceptions in Python, such as `ValueError`, `TypeError`, `IndexError`, etc. that you can use to handle specific types of errors. Additionally, you can also create your own custom exceptions by creating classes that derive from the `Exception class`.\n",
    "\n",
    "`Syntax` errors, on the other hand, occur when the Python interpreter encounters incorrect syntax in a program. Syntax errors are usually caused by typos, missing punctuation, or incorrect indentation. They are detected when the program is first parsed, before it begins execution. Unlike exceptions, syntax errors cannot be caught and handled at runtime, and they prevent the program from running at all.\n",
    "\n",
    "In a nutshell, exceptions occur during the execution of a program and are used to handle errors that occur at runtime. Syntax errors occur before the program begins execution and are caused by incorrect syntax in the code."
   ]
  },
  {
   "cell_type": "markdown",
   "id": "b16b603b",
   "metadata": {},
   "source": [
    "## Q2. What happens when an exception is not handled? Explain with an example?"
   ]
  },
  {
   "cell_type": "markdown",
   "id": "3b086cb1",
   "metadata": {},
   "source": [
    "When an exception is not handled in a program, it results in an uncaught exception error, which can cause the program to terminate abruptly. In other words, the program stops executing at the point where the exception occurs, and any subsequent code is not executed. This can lead to unpredictable results, and data loss in case the program was working with important information.\n",
    "\n",
    "For example, consider a program that tries to divide an integer by zero. In mathematics, dividing by zero is undefined, and it results in an error. In programming, this error can be represented as an exception."
   ]
  },
  {
   "cell_type": "code",
   "execution_count": 1,
   "id": "0e77edc1",
   "metadata": {},
   "outputs": [
    {
     "ename": "ZeroDivisionError",
     "evalue": "division by zero",
     "output_type": "error",
     "traceback": [
      "\u001b[1;31m---------------------------------------------------------------------------\u001b[0m",
      "\u001b[1;31mZeroDivisionError\u001b[0m                         Traceback (most recent call last)",
      "Cell \u001b[1;32mIn[1], line 2\u001b[0m\n\u001b[0;32m      1\u001b[0m a \u001b[38;5;241m=\u001b[39m \u001b[38;5;241m100\u001b[39m\n\u001b[1;32m----> 2\u001b[0m \u001b[43ma\u001b[49m\u001b[38;5;241;43m/\u001b[39;49m\u001b[38;5;241;43m0\u001b[39;49m\n",
      "\u001b[1;31mZeroDivisionError\u001b[0m: division by zero"
     ]
    }
   ],
   "source": [
    "a = 100\n",
    "a/0"
   ]
  },
  {
   "cell_type": "markdown",
   "id": "12159283",
   "metadata": {},
   "source": [
    "### Q3. Which Python statements are used to catch and handle exceptions? Explain with an example."
   ]
  },
  {
   "cell_type": "markdown",
   "id": "2ad6a0f4",
   "metadata": {},
   "source": [
    "In Python, exceptions are handled using the try and except statements. This basic syntax for handling exceptions in Python ."
   ]
  },
  {
   "cell_type": "code",
   "execution_count": 3,
   "id": "f5067aa5",
   "metadata": {},
   "outputs": [
    {
     "name": "stdout",
     "output_type": "stream",
     "text": [
      "Enter numerator: 5\n",
      "Enter denominator: 0\n",
      "Error: Cannot divide by zero.\n"
     ]
    }
   ],
   "source": [
    "try:\n",
    "    numerator = int(input(\"Enter numerator: \"))\n",
    "    denominator = int(input(\"Enter denominator: \"))\n",
    "    result = numerator / denominator\n",
    "except ZeroDivisionError:\n",
    "    print(\"Error: Cannot divide by zero.\")\n"
   ]
  },
  {
   "cell_type": "markdown",
   "id": "1cea3ff2",
   "metadata": {},
   "source": [
    "### Q4. Explain with an example:\n",
    "- a. try and else\n",
    "- b. finally\n",
    "- c. raise"
   ]
  },
  {
   "cell_type": "markdown",
   "id": "41642fd3",
   "metadata": {},
   "source": [
    "a. `try` and `else`:\n",
    "\n",
    "The `else` block in a try-except statement is executed when no exceptions are raised in the try block. In other words, the else block is executed when the code in the try block runs without errors."
   ]
  },
  {
   "cell_type": "code",
   "execution_count": 7,
   "id": "7893c2b2",
   "metadata": {},
   "outputs": [
    {
     "name": "stdout",
     "output_type": "stream",
     "text": [
      "Enter numerator: 1\n",
      "Enter denominator: 3\n",
      "The result is: 0.3333333333333333\n"
     ]
    }
   ],
   "source": [
    "try:\n",
    "    numerator = int(input(\"Enter numerator: \"))\n",
    "    denominator = int(input(\"Enter denominator: \"))\n",
    "    result = numerator / denominator\n",
    "except ZeroDivisionError:\n",
    "    print(\"Error: Cannot divide by zero.\")\n",
    "else:\n",
    "    print(\"The result is:\", result)\n"
   ]
  },
  {
   "cell_type": "markdown",
   "id": "f0a7ba78",
   "metadata": {},
   "source": [
    "b. `finally`:\n",
    "\n",
    "The `finally` block in a `try-except` statement is executed regardless of whether an exception is raised in the `try` block or not. This block is typically used to clean up resources that have been acquired in the `try` block, such as file handles, network connections, etc."
   ]
  },
  {
   "cell_type": "code",
   "execution_count": null,
   "id": "0d5c21de",
   "metadata": {},
   "outputs": [],
   "source": [
    "try:\n",
    "    file = open(\"myfile.txt\")\n",
    "    data = file.read()\n",
    "except FileNotFoundError:\n",
    "    print(\"Error: File not found.\")\n",
    "finally:\n",
    "    file.close()"
   ]
  },
  {
   "cell_type": "markdown",
   "id": "27087e31",
   "metadata": {},
   "source": [
    "c. `raise`:\n",
    "\n",
    "The `raise` statement is used to raise an exception in Python. You can raise an exception explicitly to indicate that a certain condition has not been met, or to interrupt the normal flow of the program."
   ]
  },
  {
   "cell_type": "code",
   "execution_count": 9,
   "id": "bea91552",
   "metadata": {},
   "outputs": [
    {
     "name": "stdout",
     "output_type": "stream",
     "text": [
      "Error: Cannot divide by zero.\n"
     ]
    }
   ],
   "source": [
    "def divide(numerator, denominator):\n",
    "    if denominator == 0:\n",
    "        raise ZeroDivisionError(\"Cannot divide by zero.\")\n",
    "    return numerator / denominator\n",
    "\n",
    "try:\n",
    "    result = divide(10, 0)\n",
    "except ZeroDivisionError as e:\n",
    "    print(\"Error:\", e)\n"
   ]
  },
  {
   "cell_type": "markdown",
   "id": "9675fc0b",
   "metadata": {},
   "source": [
    "### Q5. What are Custom Exaeptions in python? Why do we need Custom Exaeptions? Explain with an example."
   ]
  },
  {
   "cell_type": "markdown",
   "id": "8d6f330e",
   "metadata": {},
   "source": [
    "Custom exceptions in Python are user-defined exceptions that can be raised and caught in a similar way to built-in exceptions. The reason for using custom exceptions is to provide a more meaningful and specific error message for errors that are specific to your program. By using custom exceptions, you can communicate specific error conditions to the user or to the code that calls your program, and you can write more targeted error-handling code."
   ]
  },
  {
   "cell_type": "code",
   "execution_count": 10,
   "id": "65eeaec3",
   "metadata": {},
   "outputs": [
    {
     "name": "stdout",
     "output_type": "stream",
     "text": [
      "ZeroDivisionError: Cannot divide by zero.\n"
     ]
    }
   ],
   "source": [
    "class InvalidInputError(Exception):\n",
    "    pass\n",
    "\n",
    "def divide(numerator, denominator):\n",
    "    if denominator == 0:\n",
    "        raise ZeroDivisionError(\"Cannot divide by zero.\")\n",
    "    if type(numerator) not in (int, float) or type(denominator) not in (int, float):\n",
    "        raise InvalidInputError(\"Numerator and denominator must be numbers.\")\n",
    "    return numerator / denominator\n",
    "\n",
    "try:\n",
    "    result = divide(\"10\", 0)\n",
    "except ZeroDivisionError as e:\n",
    "    print(\"ZeroDivisionError:\", e)\n",
    "except InvalidInputError as e:\n",
    "    print(\"InvalidInputError:\", e)\n"
   ]
  },
  {
   "cell_type": "markdown",
   "id": "5cf3616c",
   "metadata": {},
   "source": [
    "### Q6. Create a Custom exception class. Use this class to handle an exception."
   ]
  },
  {
   "cell_type": "code",
   "execution_count": 11,
   "id": "c29515fd",
   "metadata": {},
   "outputs": [
    {
     "name": "stdout",
     "output_type": "stream",
     "text": [
      "Score cannot be greater than total score.\n"
     ]
    }
   ],
   "source": [
    "class CustomException(Exception):\n",
    "    def __init__(self, message):\n",
    "        self.message = message\n",
    "\n",
    "def calculate_percentage(score, total_score):\n",
    "    if score > total_score:\n",
    "        raise CustomException(\"Score cannot be greater than total score.\")\n",
    "    return (score / total_score) * 100\n",
    "\n",
    "try:\n",
    "    result = calculate_percentage(150, 100)\n",
    "except CustomException as e:\n",
    "    print(e.message)\n"
   ]
  }
 ],
 "metadata": {
  "kernelspec": {
   "display_name": "Python 3 (ipykernel)",
   "language": "python",
   "name": "python3"
  },
  "language_info": {
   "codemirror_mode": {
    "name": "ipython",
    "version": 3
   },
   "file_extension": ".py",
   "mimetype": "text/x-python",
   "name": "python",
   "nbconvert_exporter": "python",
   "pygments_lexer": "ipython3",
   "version": "3.10.9"
  }
 },
 "nbformat": 4,
 "nbformat_minor": 5
}
