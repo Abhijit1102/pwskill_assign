{
 "cells": [
  {
   "cell_type": "markdown",
   "id": "e81c3039",
   "metadata": {},
   "source": [
    "# Consider following code to answer further questions:\n",
    "# import pandas as pd  \n",
    "# course_name = [‘Data Science’, ‘Machine Learning’, ‘Big Data’, ‘Data Engineer’]  \n",
    "# duration = [2,3,6,4]  \n",
    "# df = pd.DataFrame(data = {‘course_name’ : course_name, ‘duration’ : duration})  \n",
    "\n",
    "# Q1. Write a code to print the data present in the second row of the dataframe, df."
   ]
  },
  {
   "cell_type": "code",
   "execution_count": 1,
   "id": "2dabfc98",
   "metadata": {},
   "outputs": [
    {
     "data": {
      "text/html": [
       "<div>\n",
       "<style scoped>\n",
       "    .dataframe tbody tr th:only-of-type {\n",
       "        vertical-align: middle;\n",
       "    }\n",
       "\n",
       "    .dataframe tbody tr th {\n",
       "        vertical-align: top;\n",
       "    }\n",
       "\n",
       "    .dataframe thead th {\n",
       "        text-align: right;\n",
       "    }\n",
       "</style>\n",
       "<table border=\"1\" class=\"dataframe\">\n",
       "  <thead>\n",
       "    <tr style=\"text-align: right;\">\n",
       "      <th></th>\n",
       "      <th>course_name</th>\n",
       "      <th>duration</th>\n",
       "    </tr>\n",
       "  </thead>\n",
       "  <tbody>\n",
       "    <tr>\n",
       "      <th>0</th>\n",
       "      <td>Data Science</td>\n",
       "      <td>2</td>\n",
       "    </tr>\n",
       "    <tr>\n",
       "      <th>1</th>\n",
       "      <td>Machine Learning</td>\n",
       "      <td>3</td>\n",
       "    </tr>\n",
       "    <tr>\n",
       "      <th>2</th>\n",
       "      <td>Big Data</td>\n",
       "      <td>6</td>\n",
       "    </tr>\n",
       "    <tr>\n",
       "      <th>3</th>\n",
       "      <td>Data Engineer</td>\n",
       "      <td>4</td>\n",
       "    </tr>\n",
       "  </tbody>\n",
       "</table>\n",
       "</div>"
      ],
      "text/plain": [
       "        course_name  duration\n",
       "0      Data Science         2\n",
       "1  Machine Learning         3\n",
       "2          Big Data         6\n",
       "3     Data Engineer         4"
      ]
     },
     "execution_count": 1,
     "metadata": {},
     "output_type": "execute_result"
    }
   ],
   "source": [
    "import pandas as pd\n",
    "course_name = ['Data Science', 'Machine Learning', 'Big Data', 'Data Engineer']\n",
    "duration = [2,3,6,4]\n",
    "df = pd.DataFrame(data = {'course_name' : course_name, 'duration' : duration})\n",
    "df"
   ]
  },
  {
   "cell_type": "code",
   "execution_count": 8,
   "id": "ca1c629e",
   "metadata": {},
   "outputs": [
    {
     "data": {
      "text/plain": [
       "course_name    Machine Learning\n",
       "duration                      3\n",
       "Name: 1, dtype: object"
      ]
     },
     "execution_count": 8,
     "metadata": {},
     "output_type": "execute_result"
    }
   ],
   "source": [
    "df.loc[1]"
   ]
  },
  {
   "cell_type": "markdown",
   "id": "9a97aba0",
   "metadata": {},
   "source": [
    "## Q2. What is the difference between the functions loc and iloc in pandas.DataFrame?"
   ]
  },
  {
   "cell_type": "markdown",
   "id": "8bc7095b",
   "metadata": {},
   "source": [
    "`loc` and `iloc` are both attributes of the pandas DataFrame used to retrieve data, but they differ in how they reference data.\n",
    "\n",
    "`loc` is used to retrieve data based on the labels of the rows or columns. For example, `df.loc[2, 'duration']` would retrieve the value in the duration column of the row labeled 2.\n",
    "\n",
    "On the other hand, `iloc` is used to retrieve data based on its integer location. For example, `df.iloc[2, 1]` would retrieve the value in the second column (index 1) of the third row (index 2)."
   ]
  },
  {
   "cell_type": "markdown",
   "id": "0c129286",
   "metadata": {},
   "source": [
    "## Q3. Reindex the given dataframe using a variable, reindex = [3,0,1,2] and store it in the variable, new_df then find the output for both new_df.loc[2] and new_df.iloc[2]. Did you observe any difference in both the outputs? If so then explain it.\n"
   ]
  },
  {
   "cell_type": "code",
   "execution_count": 9,
   "id": "1918ae3f",
   "metadata": {},
   "outputs": [
    {
     "name": "stdout",
     "output_type": "stream",
     "text": [
      "course_name    Big Data\n",
      "duration              6\n",
      "Name: 2, dtype: object\n",
      "course_name    Machine Learning\n",
      "duration                      3\n",
      "Name: 1, dtype: object\n"
     ]
    }
   ],
   "source": [
    "reindex = [3, 0, 1, 2]  # new index order\n",
    "new_df = df.reindex(reindex)  # reindex the dataframe\n",
    "\n",
    "print(new_df.loc[2])  # output row with label 2\n",
    "print(new_df.iloc[2])  # output row with integer location 2"
   ]
  },
  {
   "cell_type": "markdown",
   "id": "86aa3c58",
   "metadata": {},
   "source": [
    "Yes, there is a difference between the outputs of `new_df.loc[2]` and `new_df.iloc[2]` because they retrieve data using different methods of indexing.\n",
    "\n",
    "`new_df.loc[2]` retrieves the row with label 2 from the DataFrame new_df, while `new_df.iloc[2]` retrieves the row at integer location 2 (i.e., the third row) from new_df. Because the reindex operation changes the order of the rows in new_df, these two methods will retrieve different rows."
   ]
  },
  {
   "cell_type": "markdown",
   "id": "a7e7b9e1",
   "metadata": {},
   "source": [
    "## Consider the below code to answer further questions:\n",
    "import pandas as pd  \n",
    "import numpy as np  \n",
    "columns = ['column_1', 'column_2', 'column_3', 'column_4', 'column_5', 'column_6']  \n",
    "indices = [1,2,3,4,5,6]  \n",
    "#Creating a dataframe:  \n",
    "df1 = pd.DataFrame(np.random.rand(6,6), columns = columns, index = indices) "
   ]
  },
  {
   "cell_type": "code",
   "execution_count": 22,
   "id": "fce563c8",
   "metadata": {},
   "outputs": [
    {
     "data": {
      "text/html": [
       "<div>\n",
       "<style scoped>\n",
       "    .dataframe tbody tr th:only-of-type {\n",
       "        vertical-align: middle;\n",
       "    }\n",
       "\n",
       "    .dataframe tbody tr th {\n",
       "        vertical-align: top;\n",
       "    }\n",
       "\n",
       "    .dataframe thead th {\n",
       "        text-align: right;\n",
       "    }\n",
       "</style>\n",
       "<table border=\"1\" class=\"dataframe\">\n",
       "  <thead>\n",
       "    <tr style=\"text-align: right;\">\n",
       "      <th></th>\n",
       "      <th>column_1</th>\n",
       "      <th>column_2</th>\n",
       "      <th>column_3</th>\n",
       "      <th>column_4</th>\n",
       "      <th>column_5</th>\n",
       "      <th>column_6</th>\n",
       "    </tr>\n",
       "  </thead>\n",
       "  <tbody>\n",
       "    <tr>\n",
       "      <th>1</th>\n",
       "      <td>0.050633</td>\n",
       "      <td>0.803087</td>\n",
       "      <td>0.373720</td>\n",
       "      <td>0.887486</td>\n",
       "      <td>0.765799</td>\n",
       "      <td>0.292808</td>\n",
       "    </tr>\n",
       "    <tr>\n",
       "      <th>2</th>\n",
       "      <td>0.113492</td>\n",
       "      <td>0.095843</td>\n",
       "      <td>0.290102</td>\n",
       "      <td>0.411919</td>\n",
       "      <td>0.482426</td>\n",
       "      <td>0.672218</td>\n",
       "    </tr>\n",
       "    <tr>\n",
       "      <th>3</th>\n",
       "      <td>0.758921</td>\n",
       "      <td>0.071722</td>\n",
       "      <td>0.625429</td>\n",
       "      <td>0.752746</td>\n",
       "      <td>0.598811</td>\n",
       "      <td>0.493106</td>\n",
       "    </tr>\n",
       "    <tr>\n",
       "      <th>4</th>\n",
       "      <td>0.901386</td>\n",
       "      <td>0.202308</td>\n",
       "      <td>0.022286</td>\n",
       "      <td>0.158468</td>\n",
       "      <td>0.512169</td>\n",
       "      <td>0.668400</td>\n",
       "    </tr>\n",
       "    <tr>\n",
       "      <th>5</th>\n",
       "      <td>0.788031</td>\n",
       "      <td>0.476940</td>\n",
       "      <td>0.619007</td>\n",
       "      <td>0.915254</td>\n",
       "      <td>0.645875</td>\n",
       "      <td>0.731775</td>\n",
       "    </tr>\n",
       "    <tr>\n",
       "      <th>6</th>\n",
       "      <td>0.386964</td>\n",
       "      <td>0.835679</td>\n",
       "      <td>0.550345</td>\n",
       "      <td>0.404187</td>\n",
       "      <td>0.992080</td>\n",
       "      <td>0.949508</td>\n",
       "    </tr>\n",
       "  </tbody>\n",
       "</table>\n",
       "</div>"
      ],
      "text/plain": [
       "   column_1  column_2  column_3  column_4  column_5  column_6\n",
       "1  0.050633  0.803087  0.373720  0.887486  0.765799  0.292808\n",
       "2  0.113492  0.095843  0.290102  0.411919  0.482426  0.672218\n",
       "3  0.758921  0.071722  0.625429  0.752746  0.598811  0.493106\n",
       "4  0.901386  0.202308  0.022286  0.158468  0.512169  0.668400\n",
       "5  0.788031  0.476940  0.619007  0.915254  0.645875  0.731775\n",
       "6  0.386964  0.835679  0.550345  0.404187  0.992080  0.949508"
      ]
     },
     "execution_count": 22,
     "metadata": {},
     "output_type": "execute_result"
    }
   ],
   "source": [
    "import pandas as pd\n",
    "import numpy as np\n",
    "columns = ['column_1', 'column_2', 'column_3', 'column_4', 'column_5', 'column_6']\n",
    "indices = [1,2,3,4,5,6]\n",
    "#Creating a dataframe:\n",
    "df1 = pd.DataFrame(np.random.rand(6,6), columns = columns, index = indices)\n",
    "df1"
   ]
  },
  {
   "cell_type": "markdown",
   "id": "2d742723",
   "metadata": {},
   "source": [
    "## Q4. Write a code to find the following statistical measurements for the above dataframe df1:\n",
    "## (i) mean of each and every column present in the dataframe.\n",
    "## (ii) standard deviation of column, ‘column_2’"
   ]
  },
  {
   "cell_type": "code",
   "execution_count": 23,
   "id": "de516dc9",
   "metadata": {},
   "outputs": [
    {
     "data": {
      "text/plain": [
       "column_1    0.499904\n",
       "column_2    0.414263\n",
       "column_3    0.413481\n",
       "column_4    0.588343\n",
       "column_5    0.666193\n",
       "column_6    0.634636\n",
       "dtype: float64"
      ]
     },
     "execution_count": 23,
     "metadata": {},
     "output_type": "execute_result"
    }
   ],
   "source": [
    "df1.mean()"
   ]
  },
  {
   "cell_type": "code",
   "execution_count": 24,
   "id": "bf944766",
   "metadata": {},
   "outputs": [
    {
     "data": {
      "text/plain": [
       "0.34535608630190706"
      ]
     },
     "execution_count": 24,
     "metadata": {},
     "output_type": "execute_result"
    }
   ],
   "source": [
    "df1[\"column_2\"].std()"
   ]
  },
  {
   "cell_type": "markdown",
   "id": "c6419057",
   "metadata": {},
   "source": [
    "## Q5. Replace the data present in the second row of column, ‘column_2’ by a string variable then find the mean of column, column_2. If you are getting errors in executing it then explain why.\n",
    "**[Hint: To replace the data use df1.loc[] and equate this to string data of your choice.]**"
   ]
  },
  {
   "cell_type": "code",
   "execution_count": 18,
   "id": "2a911ff3",
   "metadata": {},
   "outputs": [],
   "source": [
    "string =[\"a\",\"b\",\"c\",\"d\",\"e\",\"f\"]"
   ]
  },
  {
   "cell_type": "code",
   "execution_count": 34,
   "id": "121a9439",
   "metadata": {},
   "outputs": [
    {
     "data": {
      "text/html": [
       "<div>\n",
       "<style scoped>\n",
       "    .dataframe tbody tr th:only-of-type {\n",
       "        vertical-align: middle;\n",
       "    }\n",
       "\n",
       "    .dataframe tbody tr th {\n",
       "        vertical-align: top;\n",
       "    }\n",
       "\n",
       "    .dataframe thead th {\n",
       "        text-align: right;\n",
       "    }\n",
       "</style>\n",
       "<table border=\"1\" class=\"dataframe\">\n",
       "  <thead>\n",
       "    <tr style=\"text-align: right;\">\n",
       "      <th></th>\n",
       "      <th>column_1</th>\n",
       "      <th>column_2</th>\n",
       "      <th>column_3</th>\n",
       "      <th>column_4</th>\n",
       "      <th>column_5</th>\n",
       "      <th>column_6</th>\n",
       "    </tr>\n",
       "  </thead>\n",
       "  <tbody>\n",
       "    <tr>\n",
       "      <th>1</th>\n",
       "      <td>0.050633</td>\n",
       "      <td>a</td>\n",
       "      <td>0.373720</td>\n",
       "      <td>0.887486</td>\n",
       "      <td>0.765799</td>\n",
       "      <td>0.292808</td>\n",
       "    </tr>\n",
       "    <tr>\n",
       "      <th>2</th>\n",
       "      <td>0.113492</td>\n",
       "      <td>b</td>\n",
       "      <td>0.290102</td>\n",
       "      <td>0.411919</td>\n",
       "      <td>0.482426</td>\n",
       "      <td>0.672218</td>\n",
       "    </tr>\n",
       "    <tr>\n",
       "      <th>3</th>\n",
       "      <td>0.758921</td>\n",
       "      <td>c</td>\n",
       "      <td>0.625429</td>\n",
       "      <td>0.752746</td>\n",
       "      <td>0.598811</td>\n",
       "      <td>0.493106</td>\n",
       "    </tr>\n",
       "    <tr>\n",
       "      <th>4</th>\n",
       "      <td>0.901386</td>\n",
       "      <td>d</td>\n",
       "      <td>0.022286</td>\n",
       "      <td>0.158468</td>\n",
       "      <td>0.512169</td>\n",
       "      <td>0.668400</td>\n",
       "    </tr>\n",
       "    <tr>\n",
       "      <th>5</th>\n",
       "      <td>0.788031</td>\n",
       "      <td>e</td>\n",
       "      <td>0.619007</td>\n",
       "      <td>0.915254</td>\n",
       "      <td>0.645875</td>\n",
       "      <td>0.731775</td>\n",
       "    </tr>\n",
       "    <tr>\n",
       "      <th>6</th>\n",
       "      <td>0.386964</td>\n",
       "      <td>f</td>\n",
       "      <td>0.550345</td>\n",
       "      <td>0.404187</td>\n",
       "      <td>0.992080</td>\n",
       "      <td>0.949508</td>\n",
       "    </tr>\n",
       "  </tbody>\n",
       "</table>\n",
       "</div>"
      ],
      "text/plain": [
       "   column_1 column_2  column_3  column_4  column_5  column_6\n",
       "1  0.050633        a  0.373720  0.887486  0.765799  0.292808\n",
       "2  0.113492        b  0.290102  0.411919  0.482426  0.672218\n",
       "3  0.758921        c  0.625429  0.752746  0.598811  0.493106\n",
       "4  0.901386        d  0.022286  0.158468  0.512169  0.668400\n",
       "5  0.788031        e  0.619007  0.915254  0.645875  0.731775\n",
       "6  0.386964        f  0.550345  0.404187  0.992080  0.949508"
      ]
     },
     "execution_count": 34,
     "metadata": {},
     "output_type": "execute_result"
    }
   ],
   "source": [
    "df1.loc[:,\"column_2\"] = string\n",
    "df1"
   ]
  },
  {
   "cell_type": "code",
   "execution_count": 37,
   "id": "6d9cf6e6",
   "metadata": {},
   "outputs": [
    {
     "name": "stdout",
     "output_type": "stream",
     "text": [
      "Could not convert abcdef to numeric\n"
     ]
    }
   ],
   "source": [
    "try:\n",
    "    df1.loc[:,\"column_2\"].mean()\n",
    "except Exception as e:\n",
    "    print(e)"
   ]
  },
  {
   "cell_type": "markdown",
   "id": "31d5e264",
   "metadata": {},
   "source": [
    "## Q6. What do you understand about the windows function in pandas and list the types of windows functions?"
   ]
  },
  {
   "cell_type": "markdown",
   "id": "7e0328a3",
   "metadata": {},
   "source": [
    "In pandas, the `window function` is used to perform calculations on a rolling window of data. It allows us to perform calculations on a specified number of rows, rather than the entire dataset. The `window function` is useful for analyzing time series data or for performing calculations that require a rolling window, such as moving averages.\n",
    "\n",
    "There are several types of window functions available in pandas:\n",
    "\n",
    "1. `Rolling`: This window function is used to apply a rolling calculation to a specified window of data. It calculates the values over a specified number of rows and can be used for calculating rolling averages, standard deviations, and other rolling statistics.\n",
    "\n",
    "2. `Expanding`: This window function is used to apply a calculation to an expanding window of data. It calculates the values over all rows up to and including the current row.\n",
    "\n",
    "3. `Exponentially weighted`: This window function is similar to the rolling window function, but it gives more weight to recent data points. This function is useful for analyzing time series data where recent data is more important than older data.\n",
    "\n",
    "4. `Rolling window aggregation`: This window function is used to apply an aggregation function (such as sum, mean, or max) to a rolling window of data. It calculates the values over a specified number of rows and returns a single value for each window.\n",
    "\n",
    "5. `Grouped window`: This window function is used to apply a rolling or expanding calculation to groups of data defined by a categorical variable. It can be used for analyzing data that is split into groups, such as by country or by product."
   ]
  },
  {
   "cell_type": "markdown",
   "id": "93a35d24",
   "metadata": {},
   "source": [
    "## Q7. Write a code to print only the current month and year at the time of answering this question.[Hint: Use pandas.datetime function]"
   ]
  },
  {
   "cell_type": "code",
   "execution_count": 4,
   "id": "6b7332d1",
   "metadata": {},
   "outputs": [
    {
     "name": "stdout",
     "output_type": "stream",
     "text": [
      "Current month :February, and year: 2023\n"
     ]
    }
   ],
   "source": [
    "\n",
    "# Get the current timestamp\n",
    "now = pd.Timestamp.now()\n",
    "\n",
    "# Extract the month and year from the timestamp\n",
    "current_month =  pd.to_datetime(str(now.month), format='%m').strftime('%B')\n",
    "current_year = now.year\n",
    "\n",
    "# Print the current month and year\n",
    "print(f\"Current month :{current_month}, and year: {current_year}\")"
   ]
  },
  {
   "cell_type": "markdown",
   "id": "3c9d2af6",
   "metadata": {},
   "source": [
    "### Q8. Write a Python program that takes in two dates as input (in the format YYYY-MM-DD) and calculates the difference between them in days, hours, and minutes using Pandas time delta. The program should prompt the user to enter the dates and display the result."
   ]
  },
  {
   "cell_type": "code",
   "execution_count": 39,
   "id": "a83b61ef",
   "metadata": {},
   "outputs": [
    {
     "name": "stdout",
     "output_type": "stream",
     "text": [
      "Enter the first date (YYYY-MM-DD): 1995-02-11\n",
      "Enter the second date (YYYY-MM-DD): 2023-02-26\n",
      "Time difference: 10242 days, 0 hours, 0 minutes\n"
     ]
    }
   ],
   "source": [
    "\n",
    "# Get the input dates from the user\n",
    "date1 = input(\"Enter the first date (YYYY-MM-DD): \")\n",
    "date2 = input(\"Enter the second date (YYYY-MM-DD): \")\n",
    "\n",
    "# Convert the input dates to Pandas datetime objects\n",
    "date1 = pd.to_datetime(date1)\n",
    "date2 = pd.to_datetime(date2)\n",
    "\n",
    "# Calculate the time difference between the two dates\n",
    "time_diff = date2 - date1\n",
    "\n",
    "# Extract the number of days, hours, and minutes from the time difference\n",
    "days = time_diff.days\n",
    "hours = time_diff.seconds // 3600\n",
    "minutes = (time_diff.seconds % 3600) // 60\n",
    "\n",
    "# Display the result\n",
    "print(\"Time difference: {} days, {} hours, {} minutes\".format(days, hours, minutes))\n"
   ]
  },
  {
   "cell_type": "markdown",
   "id": "f1a81a58",
   "metadata": {},
   "source": [
    "## Q9. Write a Python program that reads a CSV file containing categorical data and converts a specified column to a categorical data type. The program should prompt the user to enter the file path, column name, and category order, and then display the sorted data."
   ]
  },
  {
   "cell_type": "code",
   "execution_count": 10,
   "id": "4a8e9c38",
   "metadata": {},
   "outputs": [
    {
     "name": "stdout",
     "output_type": "stream",
     "text": [
      "Enter the file path: Data\\train.csv\n",
      "Enter the column name: Name\n",
      "Enter the category order (comma-separated list): 3\n"
     ]
    },
    {
     "data": {
      "text/plain": [
       "[NaN]\n",
       "Categories (1, object): ['3']"
      ]
     },
     "execution_count": 10,
     "metadata": {},
     "output_type": "execute_result"
    }
   ],
   "source": [
    "# Get the file path from the user\n",
    "file_path = input(\"Enter the file path: \")\n",
    "\n",
    "# Read the CSV file into a Pandas DataFrame\n",
    "df = pd.read_csv(file_path)\n",
    "\n",
    "# Get the column name from the user\n",
    "column_name = input(\"Enter the column name: \")\n",
    "\n",
    "# Get the category order from the user\n",
    "category_order = input(\"Enter the category order (comma-separated list): \")\n",
    "category_order = [x.strip() for x in category_order.split(\",\")]\n",
    "\n",
    "# Convert the specified column to a categorical data type with the specified category order\n",
    "df[column_name] = pd.Categorical(df[column_name], categories=category_order)\n",
    "\n",
    "# Sort the DataFrame by the specified column\n",
    "df_sorted = df.sort_values(by=column_name)\n",
    "\n",
    "# Display the sorted DataFrame\n",
    "df_sorted[column_name].unique()\n"
   ]
  },
  {
   "cell_type": "markdown",
   "id": "a386a763",
   "metadata": {},
   "source": [
    "### Q 10. Write a Python program that reads a CSV file containing sales data for different products and visualizes the data using a stacked bar chart to show the sales of each product category over time. The program should prompt the user to enter the file path and display the chart."
   ]
  },
  {
   "cell_type": "code",
   "execution_count": null,
   "id": "2e208e7d",
   "metadata": {},
   "outputs": [],
   "source": [
    "import pandas as pd\n",
    "\n",
    "# Prompt user for file path\n",
    "file_path = input(\"Enter the file path of the CSV file: \")\n",
    "\n",
    "# Read CSV file into a pandas DataFrame\n",
    "df = pd.read_csv(file_path)\n",
    "\n",
    "# Convert the 'date' column to a datetime format\n",
    "df['date'] = pd.to_datetime(df['date'])\n",
    "\n",
    "# Pivot the DataFrame to create a new DataFrame where columns are the product categories,\n",
    "# rows are the dates, and the values are the sales\n",
    "sales_by_category = df.pivot(index='date', columns='category', values='sales')\n",
    "\n",
    "# Create a stacked bar chart of the sales by category over time\n",
    "sales_by_category.plot(kind='bar', stacked=True,)\n"
   ]
  },
  {
   "cell_type": "markdown",
   "id": "89546ecb",
   "metadata": {},
   "source": [
    "### Q11. You are given a CSV file containing student data that includes the student ID and their test score. Write a Python program that reads the CSV file, calculates the mean, median, and mode of the test scores, and displays the results in a table.\n",
    "\n",
    "The program should do the following:  \n",
    "-  Prompt the user to enter the file path of the CSV file containing the student data.  \n",
    "- Read the CSV file into a Pandas DataFrame.  \n",
    " - Calculate the mean, median, and mode of the test scores using Pandas tools.  \n",
    "- Display the mean, median, and mode in a table. \n",
    "Assume the CSV file contains the following columns.  \n",
    "- Student ID: The ID of the student.  \n",
    "- Test Score: The score of the student's test.  "
   ]
  },
  {
   "cell_type": "code",
   "execution_count": 5,
   "id": "8a8fbbca",
   "metadata": {},
   "outputs": [],
   "source": [
    "mark =pd.DataFrame({\n",
    "    \"Student ID\":[1,2,3,4,5,6,7,8,9,10],\n",
    "    \"Test Score\":[85, 90, 80, 75, 85, 82, 78, 85, 90, 85]\n",
    "})"
   ]
  },
  {
   "cell_type": "code",
   "execution_count": 6,
   "id": "877f5670",
   "metadata": {},
   "outputs": [
    {
     "data": {
      "text/html": [
       "<div>\n",
       "<style scoped>\n",
       "    .dataframe tbody tr th:only-of-type {\n",
       "        vertical-align: middle;\n",
       "    }\n",
       "\n",
       "    .dataframe tbody tr th {\n",
       "        vertical-align: top;\n",
       "    }\n",
       "\n",
       "    .dataframe thead th {\n",
       "        text-align: right;\n",
       "    }\n",
       "</style>\n",
       "<table border=\"1\" class=\"dataframe\">\n",
       "  <thead>\n",
       "    <tr style=\"text-align: right;\">\n",
       "      <th></th>\n",
       "      <th>Student ID</th>\n",
       "      <th>Test Score</th>\n",
       "    </tr>\n",
       "  </thead>\n",
       "  <tbody>\n",
       "    <tr>\n",
       "      <th>0</th>\n",
       "      <td>1</td>\n",
       "      <td>85</td>\n",
       "    </tr>\n",
       "    <tr>\n",
       "      <th>1</th>\n",
       "      <td>2</td>\n",
       "      <td>90</td>\n",
       "    </tr>\n",
       "    <tr>\n",
       "      <th>2</th>\n",
       "      <td>3</td>\n",
       "      <td>80</td>\n",
       "    </tr>\n",
       "    <tr>\n",
       "      <th>3</th>\n",
       "      <td>4</td>\n",
       "      <td>75</td>\n",
       "    </tr>\n",
       "    <tr>\n",
       "      <th>4</th>\n",
       "      <td>5</td>\n",
       "      <td>85</td>\n",
       "    </tr>\n",
       "    <tr>\n",
       "      <th>5</th>\n",
       "      <td>6</td>\n",
       "      <td>82</td>\n",
       "    </tr>\n",
       "    <tr>\n",
       "      <th>6</th>\n",
       "      <td>7</td>\n",
       "      <td>78</td>\n",
       "    </tr>\n",
       "    <tr>\n",
       "      <th>7</th>\n",
       "      <td>8</td>\n",
       "      <td>85</td>\n",
       "    </tr>\n",
       "    <tr>\n",
       "      <th>8</th>\n",
       "      <td>9</td>\n",
       "      <td>90</td>\n",
       "    </tr>\n",
       "    <tr>\n",
       "      <th>9</th>\n",
       "      <td>10</td>\n",
       "      <td>85</td>\n",
       "    </tr>\n",
       "  </tbody>\n",
       "</table>\n",
       "</div>"
      ],
      "text/plain": [
       "   Student ID  Test Score\n",
       "0           1          85\n",
       "1           2          90\n",
       "2           3          80\n",
       "3           4          75\n",
       "4           5          85\n",
       "5           6          82\n",
       "6           7          78\n",
       "7           8          85\n",
       "8           9          90\n",
       "9          10          85"
      ]
     },
     "execution_count": 6,
     "metadata": {},
     "output_type": "execute_result"
    }
   ],
   "source": [
    "mark"
   ]
  },
  {
   "cell_type": "code",
   "execution_count": 7,
   "id": "e905d05e",
   "metadata": {},
   "outputs": [],
   "source": [
    "mark.to_csv(\"mark.csv\")"
   ]
  },
  {
   "cell_type": "code",
   "execution_count": 34,
   "id": "a2b90b65",
   "metadata": {
    "scrolled": true
   },
   "outputs": [
    {
     "name": "stdout",
     "output_type": "stream",
     "text": [
      "Enter the file path of the CSV file: mark.csv\n",
      "| Statistic   |   Value |\n",
      "|:------------|--------:|\n",
      "| Mean        |    83.5 |\n",
      "| Median      |    85   |\n",
      "| Mode        |    85   |\n"
     ]
    }
   ],
   "source": [
    "import pandas as pd\n",
    "\n",
    "# Prompt user for file path\n",
    "file_path = input(\"Enter the file path of the CSV file: \")\n",
    "\n",
    "# Read CSV file into a pandas DataFrame\n",
    "df = pd.read_csv(file_path)\n",
    "\n",
    "# Calculate the mean, median, and mode of the test scores\n",
    "mean = df['Test Score'].mean()\n",
    "median = df['Test Score'].median()\n",
    "mode = df['Test Score'].mode().values[0]\n",
    "\n",
    "from tabulate import tabulate\n",
    "\n",
    "# Example data\n",
    "data = {\n",
    "    'Statistic': ['Mean', 'Median', 'Mode'],\n",
    "    'Value': [mean, median, mode]\n",
    "}\n",
    "\n",
    "# Print table\n",
    "print(tabulate(data, headers='keys', tablefmt='pipe'))\n"
   ]
  },
  {
   "cell_type": "code",
   "execution_count": null,
   "id": "45335c7a",
   "metadata": {},
   "outputs": [],
   "source": []
  }
 ],
 "metadata": {
  "kernelspec": {
   "display_name": "Python 3 (ipykernel)",
   "language": "python",
   "name": "python3"
  },
  "language_info": {
   "codemirror_mode": {
    "name": "ipython",
    "version": 3
   },
   "file_extension": ".py",
   "mimetype": "text/x-python",
   "name": "python",
   "nbconvert_exporter": "python",
   "pygments_lexer": "ipython3",
   "version": "3.10.9"
  }
 },
 "nbformat": 4,
 "nbformat_minor": 5
}
