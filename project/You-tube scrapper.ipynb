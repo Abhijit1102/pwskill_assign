{
 "cells": [
  {
   "cell_type": "code",
   "execution_count": 22,
   "id": "94a7de92",
   "metadata": {},
   "outputs": [
    {
     "name": "stdout",
     "output_type": "stream",
     "text": [
      "['https://www.youtube.com/watch?v=TZQTL6pWOhY&pp=ygUNUFctRm91bmRhdGlvbg%3D%3D', 'https://www.youtube.com/watch?v=tvTvth3oehw&pp=ygUNUFctRm91bmRhdGlvbg%3D%3D', 'https://www.youtube.com/watch?v=nX5ONgCdLcc&pp=ygUNUFctRm91bmRhdGlvbg%3D%3D', 'https://www.youtube.com/watch?v=oNkwrrMT7ec&pp=ygUNUFctRm91bmRhdGlvbg%3D%3D', 'https://www.youtube.com/watch?v=vKxdTuOirnI&pp=ygUNUFctRm91bmRhdGlvbg%3D%3D', 'https://www.youtube.com/watch?v=7tbFH9i1yHQ&pp=ygUNUFctRm91bmRhdGlvbg%3D%3D', 'https://www.youtube.com/watch?v=Y3xK2Ot_bRs&pp=ygUNUFctRm91bmRhdGlvbg%3D%3D', 'https://www.youtube.com/watch?v=2Xhk5JdTmpo&pp=ygUNUFctRm91bmRhdGlvbg%3D%3D', 'https://www.youtube.com/shorts/HGOWI4KPHWo', 'https://www.youtube.com/shorts/8DS9WGaYRDU', 'https://www.youtube.com/watch?v=HDjR1Pxofuc&pp=ygUNUFctRm91bmRhdGlvbg%3D%3D', 'https://www.youtube.com/watch?v=j2LCJNJOhMw&pp=ygUNUFctRm91bmRhdGlvbg%3D%3D', 'https://www.youtube.com/watch?v=zmIoo_DuWkA&pp=ygUNUFctRm91bmRhdGlvbg%3D%3D', 'https://www.youtube.com/watch?v=AM2Dt7cNebw&pp=ygUNUFctRm91bmRhdGlvbg%3D%3D', 'https://www.youtube.com/watch?v=F2EkloI5EKM&pp=ygUNUFctRm91bmRhdGlvbg%3D%3D', 'https://www.youtube.com/watch?v=b2YQSPGZMUQ&pp=ygUNUFctRm91bmRhdGlvbg%3D%3D', 'https://www.youtube.com/watch?v=K0jogJhwxXE&pp=ygUNUFctRm91bmRhdGlvbg%3D%3D', 'https://www.youtube.com/watch?v=G4Kjp-PKo08&pp=ygUNUFctRm91bmRhdGlvbg%3D%3D', 'https://www.youtube.com/watch?v=Ir-skci9Ka0&pp=ygUNUFctRm91bmRhdGlvbg%3D%3D', 'https://www.youtube.com/watch?v=B2jSvV9dwNE&pp=ygUNUFctRm91bmRhdGlvbg%3D%3D', 'https://www.youtube.com/shorts/r9Tciy6xwJo']\n"
     ]
    }
   ],
   "source": [
    "from selenium import webdriver\n",
    "from selenium.webdriver.common.by import By\n",
    "from selenium.webdriver.firefox.service import Service\n",
    "from selenium.webdriver.firefox.options import Options\n",
    "import time\n",
    "\n",
    "options = Options()\n",
    "#options.headless = True\n",
    "service = Service('path/to/geckodriver.exe')\n",
    "driver = webdriver.Firefox(service=service, options=options)\n",
    "\n",
    "driver.implicitly_wait(5)\n",
    "baseUrl = \"https://www.youtube.com\"\n",
    "keywords = \"PW-Foundation\"\n",
    "\n",
    "def get_url():\n",
    "    driver.get(f\"{baseUrl}/search?q={keywords}\")\n",
    "    time.sleep(5)\n",
    "    allchannellist = driver.find_elements(By.CSS_SELECTOR, \"a#video-title\")\n",
    "    \n",
    "    links = list(dict.fromkeys(map(lambda a : a.get_attribute(\"href\"), allchannellist)))\n",
    "    driver.quit()\n",
    "    return links\n",
    "\n",
    "if __name__ == \"__main__\":\n",
    "    url = get_url()\n",
    "  \n",
    "\n",
    "    print(url)\n"
   ]
  },
  {
   "cell_type": "code",
   "execution_count": 25,
   "id": "78369631",
   "metadata": {},
   "outputs": [
    {
     "data": {
      "text/plain": [
       "'https://www.youtube.com/search?q=PW-Foundation'"
      ]
     },
     "execution_count": 25,
     "metadata": {},
     "output_type": "execute_result"
    }
   ],
   "source": [
    "f\"{baseUrl}/search?q={keywords}\""
   ]
  },
  {
   "cell_type": "code",
   "execution_count": 5,
   "id": "df37fe75",
   "metadata": {},
   "outputs": [
    {
     "name": "stdout",
     "output_type": "stream",
     "text": [
      "[]\n"
     ]
    }
   ],
   "source": [
    "from selenium import webdriver\n",
    "from selenium.webdriver.common.by import By\n",
    "from selenium.webdriver.firefox.service import Service\n",
    "from selenium.webdriver.firefox.options import Options\n",
    "import time\n",
    "\n",
    "options = Options()\n",
    "#options.headless = True\n",
    "service = Service('path/to/geckodriver.exe')\n",
    "driver = webdriver.Firefox(service=service, options=options)\n",
    "\n",
    "driver.implicitly_wait(5)\n",
    "baseUrl = \"https://www.youtube.com\"\n",
    "keywords = \"PW-Foundation\"\n",
    "\n",
    "def get_url():\n",
    "    driver.get(f\"{baseUrl}/search?q={keywords}\")\n",
    "    time.sleep(5)\n",
    "    allchannellist = driver.find_elements(By.XPATH, '//[@id=\"dismissible\"]/ytd-thumbnail/a/yt-img-/img')\n",
    "    links = list(dict.fromkeys(map(lambda a : a.get_attribute(\"src\"), allchannellist)))\n",
    "\n",
    "    driver.quit()\n",
    "    return links\n",
    "\n",
    "if __name__ == \"__main__\":\n",
    "    urls = get_url()\n",
    "    print(urls)\n"
   ]
  },
  {
   "cell_type": "code",
   "execution_count": null,
   "id": "a54d1ceb",
   "metadata": {},
   "outputs": [],
   "source": []
  },
  {
   "cell_type": "code",
   "execution_count": 38,
   "id": "d1941612",
   "metadata": {},
   "outputs": [
    {
     "data": {
      "text/plain": [
       "1"
      ]
     },
     "execution_count": 38,
     "metadata": {},
     "output_type": "execute_result"
    }
   ],
   "source": [
    "len(image_links)"
   ]
  },
  {
   "cell_type": "code",
   "execution_count": 33,
   "id": "3b425928",
   "metadata": {},
   "outputs": [
    {
     "data": {
      "text/plain": [
       "'https://www.youtube.com/search?q=PW-Foundation'"
      ]
     },
     "execution_count": 33,
     "metadata": {},
     "output_type": "execute_result"
    }
   ],
   "source": [
    "from selenium import webdriver\n",
    "from selenium.webdriver.common.by import By\n",
    "from selenium.webdriver.firefox.service import Service\n",
    "from selenium.webdriver.firefox.options import Options\n",
    "import time\n",
    "\n",
    "options = Options()\n",
    "#options.headless = True\n",
    "service = Service('path/to/geckodriver.exe')\n",
    "driver = webdriver.Firefox(service=service, options=options)\n",
    "\n",
    "driver.implicitly_wait(5)\n",
    "baseUrl = \"https://www.youtube.com\"\n",
    "keywords = \"PW-Foundation\"\n",
    "\n",
    "def geturl():\n",
    "    driver.get(f\"{baseUrl}/search?q={keywords}\")\n",
    "    time.sleep(5)\n",
    "    allchannellist = driver.find_elements(By.CSS_SELECTOR, \"a#video-title\")\n",
    "    \n",
    "    links = list(dict.fromkeys(map(lambda a : a.get_attribute(\"href\"), allchannellist)))\n",
    "    return links\n",
    "\n",
    "if __name__ == \"__main__\":\n",
    "    url = geturl()\n",
    "  \n",
    "\n",
    "    print(url)\n"
   ]
  },
  {
   "cell_type": "code",
   "execution_count": 41,
   "id": "3630bc7f",
   "metadata": {},
   "outputs": [
    {
     "name": "stdout",
     "output_type": "stream",
     "text": [
      "[]\n"
     ]
    }
   ],
   "source": [
    "from selenium import webdriver\n",
    "from selenium.webdriver.common.by import By\n",
    "\n",
    "driver = webdriver.Chrome()\n",
    "url = \"https://www.youtube.com/results?search_query=PW-Foundation\"\n",
    "driver.get(url)\n",
    "\n",
    "thumbnails = driver.find_elements(By.CSS_SELECTOR, 'div.yt-video-render div.ytd-thumbnail a #thumbnail yt-img-shadow img')\n",
    "\n",
    "image_links = [thumb.get_attribute('src') for thumb in thumbnails]\n",
    "\n",
    "print(image_links)\n",
    "\n",
    "driver.quit()\n"
   ]
  },
  {
   "cell_type": "code",
   "execution_count": 5,
   "id": "72259d1d",
   "metadata": {},
   "outputs": [
    {
     "name": "stdout",
     "output_type": "stream",
     "text": [
      "['How to Attempt English Board Exam ????', \"Follow This Plan To Score More Than 95% in Boards || Topper's Strategy\", 'Complete Physics in 1 Shot || ICSE Boards || Class-10th', 'CARBON AND ITS COMPOUNDS - in 1 Shot || Class -10th Board Exams', 'Best technique to attempt SST paper in Board exam || Class 10th', 'Science Practice Paper Discussion Session || Class-10th Boards', 'Complete Maths Part -1 || ICSE Boards || Class-10th', 'LIGHT - in 1 Shot || Class -10th Board Exams #physicswallah #class10', 'ELECTRICITY in 1 Shot || Class -10th Board Exams', 'HEREDITY AND EVOLUTION - in 1 Shot || Class -10th Board Exams', 'COMPLETE GRAMMAR REVISION - in 1 Shot || Class -10th Board Exams', 'COMPLETE LITERATURE REVISION - FOOT PRINT WITHOUT FEET in 1 Shot || Class -10th Board Exams', 'How to Become a Chartered Accountant 📈', 'HOW DO ORGANISMS REPRODUCE? in 1 Shot || Class -10th Board Exams', 'Maths Practice Paper Discussion Session || Class-10th Boards']\n"
     ]
    }
   ],
   "source": [
    "from selenium import webdriver\n",
    "from selenium.webdriver.common.by import By\n",
    "from selenium.webdriver.firefox.service import Service\n",
    "from selenium.webdriver.firefox.options import Options\n",
    "import time\n",
    "\n",
    "options = Options()\n",
    "#options.headless = True\n",
    "service = Service('path/to/geckodriver.exe')\n",
    "driver = webdriver.Firefox(service=service, options=options)\n",
    "\n",
    "driver.implicitly_wait(5)\n",
    "baseUrl = \"https://www.youtube.com\"\n",
    "keywords = \"PW-Foundation\"\n",
    "\n",
    "def get_titles():\n",
    "    driver.get(f\"{baseUrl}/search?q={keywords}\")\n",
    "    time.sleep(5)\n",
    "    all_titles = driver.find_elements(By.CSS_SELECTOR, \"a#video-title\")\n",
    "    titles = [title.get_attribute('title') for title in all_titles]\n",
    "    return titles\n",
    "\n",
    "if __name__ == \"__main__\":\n",
    "    titles = get_titles()\n",
    "    print(titles)\n"
   ]
  },
  {
   "cell_type": "code",
   "execution_count": 7,
   "id": "8edc6e1f",
   "metadata": {},
   "outputs": [
    {
     "data": {
      "text/plain": [
       "\"Follow This Plan To Score More Than 95% in Boards || Topper's Strategy\""
      ]
     },
     "execution_count": 7,
     "metadata": {},
     "output_type": "execute_result"
    }
   ],
   "source": [
    "titles[1]"
   ]
  },
  {
   "cell_type": "code",
   "execution_count": 8,
   "id": "1b9a7627",
   "metadata": {},
   "outputs": [
    {
     "name": "stdout",
     "output_type": "stream",
     "text": [
      "['15K views', '76K views', '100K views', '311K views', '115K views', '198K views', '122K views', '755K views', '67K views', '452K views', '53K views', '466K views', '260K views', '86K views', '580K views', '284K views', '610K views', '344K views', '51K views', '339K views']\n"
     ]
    }
   ],
   "source": [
    "from selenium import webdriver\n",
    "from selenium.webdriver.common.by import By\n",
    "from selenium.webdriver.firefox.service import Service\n",
    "from selenium.webdriver.firefox.options import Options\n",
    "import time\n",
    "\n",
    "options = Options()\n",
    "#options.headless = True\n",
    "service = Service('path/to/geckodriver.exe')\n",
    "driver = webdriver.Firefox(service=service, options=options)\n",
    "\n",
    "driver.implicitly_wait(5)\n",
    "baseUrl = \"https://www.youtube.com\"\n",
    "keywords = \"PW-Foundation\"\n",
    "\n",
    "def geturl():\n",
    "    driver.get(f\"{baseUrl}/search?q={keywords}\")\n",
    "    time.sleep(5)\n",
    "    allchannellist = driver.find_elements(By.CSS_SELECTOR, \"a#video-title\")\n",
    "    \n",
    "    links = list(dict.fromkeys(map(lambda a : a.get_attribute(\"href\"), allchannellist)))\n",
    "    return links\n",
    "\n",
    "def get_views():\n",
    "    driver.get(f\"{baseUrl}/search?q={keywords}\")\n",
    "    time.sleep(5)\n",
    "    allchannellist = driver.find_elements(By.CSS_SELECTOR, \"ytd-video-renderer div#metadata span.style-scope.ytd-video-meta-block\")\n",
    "    views = []\n",
    "    for item in allchannellist:\n",
    "        if \"views\" in item.text:\n",
    "            views.append(item.text)\n",
    "    return views\n",
    "\n",
    "\n",
    "if __name__ == \"__main__\":\n",
    "    views = get_views()\n",
    "    print(views)\n"
   ]
  },
  {
   "cell_type": "code",
   "execution_count": 10,
   "id": "5995833f",
   "metadata": {},
   "outputs": [
    {
     "name": "stdout",
     "output_type": "stream",
     "text": [
      "['16K views', 'Streamed 25 minutes ago', '76K views', 'Streamed 17 hours ago', '100K views', '22 hours ago', '311K views', '8 days ago', '24K views', '43K views', '52K views', '30K views', '116K views', 'Streamed 7 days ago', '396K views', 'Streamed 1 month ago', '55K views', '8 months ago', '966K views', '2 months ago', '94K views', 'Streamed 6 days ago', '452K views', 'Streamed 2 weeks ago', '53K views', '1 day ago', '27K views', '70K views', '215K views', '147K views', '15K views', '128K views', '466K views', 'Streamed 3 weeks ago', '86K views', 'Streamed 2 days ago', '261K views', 'Streamed 9 days ago', '580K views', '610K views', '284K views', 'Streamed 10 days ago', '344K views', '51K views', '339K views']\n"
     ]
    }
   ],
   "source": [
    "from selenium import webdriver\n",
    "from selenium.webdriver.common.by import By\n",
    "from selenium.webdriver.firefox.service import Service\n",
    "from selenium.webdriver.firefox.options import Options\n",
    "import time\n",
    "\n",
    "options = Options()\n",
    "#options.headless = True\n",
    "service = Service('path/to/geckodriver.exe')\n",
    "driver = webdriver.Firefox(service=service, options=options)\n",
    "\n",
    "driver.implicitly_wait(5)\n",
    "baseUrl = \"https://www.youtube.com\"\n",
    "keywords = \"PW-Foundation\"\n",
    "\n",
    "def get_posted_time():\n",
    "    driver.get(f\"{baseUrl}/search?q={keywords}\")\n",
    "    time.sleep(5)\n",
    "    allchannellist = driver.find_elements(By.CSS_SELECTOR, \"span.style-scope.ytd-video-meta-block\")\n",
    "    times = list(dict.fromkeys(map(lambda a : a.get_attribute(\"innerHTML\"), allchannellist)))\n",
    "    return times\n",
    "\n",
    "if __name__ == \"__main__\":\n",
    "    times = get_posted_time()\n",
    "    print(times)\n"
   ]
  },
  {
   "cell_type": "code",
   "execution_count": null,
   "id": "0be96916",
   "metadata": {},
   "outputs": [],
   "source": []
  }
 ],
 "metadata": {
  "kernelspec": {
   "display_name": "Python 3 (ipykernel)",
   "language": "python",
   "name": "python3"
  },
  "language_info": {
   "codemirror_mode": {
    "name": "ipython",
    "version": 3
   },
   "file_extension": ".py",
   "mimetype": "text/x-python",
   "name": "python",
   "nbconvert_exporter": "python",
   "pygments_lexer": "ipython3",
   "version": "3.10.9"
  }
 },
 "nbformat": 4,
 "nbformat_minor": 5
}
