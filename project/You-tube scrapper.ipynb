{
 "cells": [
  {
   "cell_type": "code",
   "execution_count": 1,
   "id": "94a7de92",
   "metadata": {},
   "outputs": [
    {
     "name": "stdout",
     "output_type": "stream",
     "text": [
      "['https://www.youtube.com/watch?v=7T1Dsi3oR-A', 'https://www.youtube.com/watch?v=SP39yW1oFg8', 'https://www.youtube.com/watch?v=nX5ONgCdLcc', 'https://www.youtube.com/watch?v=vKxdTuOirnI', 'https://www.youtube.com/watch?v=oNkwrrMT7ec', 'https://www.youtube.com/shorts/sLvyvqRNYk0', 'https://www.youtube.com/watch?v=Y3xK2Ot_bRs', 'https://www.youtube.com/watch?v=Mrgh4N0Tjow', 'https://www.youtube.com/watch?v=2Xhk5JdTmpo', 'https://www.youtube.com/watch?v=HDjR1Pxofuc', 'https://www.youtube.com/watch?v=AM2Dt7cNebw', 'https://www.youtube.com/watch?v=b2YQSPGZMUQ', 'https://www.youtube.com/watch?v=zmIoo_DuWkA', 'https://www.youtube.com/watch?v=F2EkloI5EKM', 'https://www.youtube.com/watch?v=K0jogJhwxXE', 'https://www.youtube.com/watch?v=Ir-skci9Ka0', 'https://www.youtube.com/watch?v=B2jSvV9dwNE', 'https://www.youtube.com/watch?v=G4Kjp-PKo08', 'https://www.youtube.com/watch?v=-LSL5180TFs', 'https://www.youtube.com/watch?v=5FhIabsREOw', 'https://www.youtube.com/watch?v=pE2E4kxkKSw']\n"
     ]
    }
   ],
   "source": [
    "from selenium import webdriver\n",
    "from selenium.webdriver.common.by import By\n",
    "from selenium.webdriver.firefox.service import Service\n",
    "from selenium.webdriver.firefox.options import Options\n",
    "import time\n",
    "\n",
    "options = Options()\n",
    "#options.headless = True\n",
    "service = Service('path/to/geckodriver.exe')\n",
    "driver = webdriver.Firefox(service=service, options=options)\n",
    "\n",
    "driver.implicitly_wait(5)\n",
    "baseUrl = \"https://www.youtube.com\"\n",
    "keywords = \"PW-Foundation\"\n",
    "\n",
    "def get_thumbnails():\n",
    "    driver.get(f\"{baseUrl}/search?q={keywords}\")\n",
    "    time.sleep(5)\n",
    "    allchannellist = driver.find_elements(By.CSS_SELECTOR, \"a#video-title\")\n",
    "    \n",
    "    links = list(dict.fromkeys(map(lambda a : a.get_attribute(\"href\"), allchannellist)))\n",
    "    driver.quit()\n",
    "    return links\n",
    "\n",
    "if __name__ == \"__main__\":\n",
    "    url = geturl()\n",
    "  \n",
    "\n",
    "    print(url)\n"
   ]
  },
  {
   "cell_type": "code",
   "execution_count": 37,
   "id": "1c697004",
   "metadata": {},
   "outputs": [
    {
     "data": {
      "text/plain": [
       "[<selenium.webdriver.remote.webelement.WebElement (session=\"cb136146-b4f7-4505-abe3-acc667334f8b\", element=\"aa8ccc18-b6a1-4d47-ab32-3e2a84505cd8\")>,\n",
       " <selenium.webdriver.remote.webelement.WebElement (session=\"cb136146-b4f7-4505-abe3-acc667334f8b\", element=\"e6f97553-b0df-4248-8e16-aff1626a29f7\")>,\n",
       " <selenium.webdriver.remote.webelement.WebElement (session=\"cb136146-b4f7-4505-abe3-acc667334f8b\", element=\"fed5154a-1bd9-47bc-8ca5-2b64d4ca76d3\")>,\n",
       " <selenium.webdriver.remote.webelement.WebElement (session=\"cb136146-b4f7-4505-abe3-acc667334f8b\", element=\"b4bc5639-0131-474b-84fd-a04c3c6e1404\")>,\n",
       " <selenium.webdriver.remote.webelement.WebElement (session=\"cb136146-b4f7-4505-abe3-acc667334f8b\", element=\"a6baed7a-e2c3-454f-b815-fce2309ae037\")>,\n",
       " <selenium.webdriver.remote.webelement.WebElement (session=\"cb136146-b4f7-4505-abe3-acc667334f8b\", element=\"2dd897d4-1359-437e-95ae-fb666eac99f2\")>,\n",
       " <selenium.webdriver.remote.webelement.WebElement (session=\"cb136146-b4f7-4505-abe3-acc667334f8b\", element=\"b826b36f-a2cb-437a-95d6-69e43d76d11c\")>,\n",
       " <selenium.webdriver.remote.webelement.WebElement (session=\"cb136146-b4f7-4505-abe3-acc667334f8b\", element=\"4ecbaf4b-1a8d-4f09-9de8-4ad781009a0c\")>,\n",
       " <selenium.webdriver.remote.webelement.WebElement (session=\"cb136146-b4f7-4505-abe3-acc667334f8b\", element=\"eed3cf55-5783-4733-870a-04802c172e2b\")>,\n",
       " <selenium.webdriver.remote.webelement.WebElement (session=\"cb136146-b4f7-4505-abe3-acc667334f8b\", element=\"fdfc2e95-b71a-452f-8d73-07356596692b\")>,\n",
       " <selenium.webdriver.remote.webelement.WebElement (session=\"cb136146-b4f7-4505-abe3-acc667334f8b\", element=\"718b7f26-f9cc-43ee-b4f8-9bcc6a899b14\")>,\n",
       " <selenium.webdriver.remote.webelement.WebElement (session=\"cb136146-b4f7-4505-abe3-acc667334f8b\", element=\"a11e0f04-061a-4a1d-b779-222720d7e161\")>,\n",
       " <selenium.webdriver.remote.webelement.WebElement (session=\"cb136146-b4f7-4505-abe3-acc667334f8b\", element=\"710248bf-9b81-4add-9fdc-589b5dc9bc3e\")>,\n",
       " <selenium.webdriver.remote.webelement.WebElement (session=\"cb136146-b4f7-4505-abe3-acc667334f8b\", element=\"9a2392c1-40cd-407d-85cf-ebd98463ecff\")>,\n",
       " <selenium.webdriver.remote.webelement.WebElement (session=\"cb136146-b4f7-4505-abe3-acc667334f8b\", element=\"6128c2aa-5872-4ed1-b1bd-c09a11df8d12\")>,\n",
       " <selenium.webdriver.remote.webelement.WebElement (session=\"cb136146-b4f7-4505-abe3-acc667334f8b\", element=\"cb01426c-6208-453b-bf9f-ccc309c12092\")>,\n",
       " <selenium.webdriver.remote.webelement.WebElement (session=\"cb136146-b4f7-4505-abe3-acc667334f8b\", element=\"e905c9a1-9cfc-4b5b-8280-5ba87f7abd5d\")>,\n",
       " <selenium.webdriver.remote.webelement.WebElement (session=\"cb136146-b4f7-4505-abe3-acc667334f8b\", element=\"1b3cb12e-baef-40c3-a1e8-8421b3ef25c0\")>,\n",
       " <selenium.webdriver.remote.webelement.WebElement (session=\"cb136146-b4f7-4505-abe3-acc667334f8b\", element=\"242a76f2-f6de-471a-a635-4f3251616531\")>,\n",
       " <selenium.webdriver.remote.webelement.WebElement (session=\"cb136146-b4f7-4505-abe3-acc667334f8b\", element=\"2e1bb6a7-33a6-45fb-9fee-3a2ba2544381\")>,\n",
       " <selenium.webdriver.remote.webelement.WebElement (session=\"cb136146-b4f7-4505-abe3-acc667334f8b\", element=\"947ea83d-a5a2-4d38-a721-fff3f89c0d22\")>,\n",
       " <selenium.webdriver.remote.webelement.WebElement (session=\"cb136146-b4f7-4505-abe3-acc667334f8b\", element=\"ca9ec7da-80c3-4338-9e3d-7528fb57d728\")>]"
      ]
     },
     "execution_count": 37,
     "metadata": {},
     "output_type": "execute_result"
    }
   ],
   "source": [
    "driver.get(f\"{baseUrl}/search?q={keywords}\")\n",
    "time.sleep(5)\n",
    "allchannellist = driver.find_elements(By.CSS_SELECTOR, \"a#video-title\")\n",
    "allchannellist"
   ]
  },
  {
   "cell_type": "code",
   "execution_count": 39,
   "id": "d1941612",
   "metadata": {},
   "outputs": [
    {
     "ename": "AttributeError",
     "evalue": "'list' object has no attribute 'get_attribute'",
     "output_type": "error",
     "traceback": [
      "\u001b[1;31m---------------------------------------------------------------------------\u001b[0m",
      "\u001b[1;31mAttributeError\u001b[0m                            Traceback (most recent call last)",
      "Cell \u001b[1;32mIn[39], line 1\u001b[0m\n\u001b[1;32m----> 1\u001b[0m \u001b[43mallchannellist\u001b[49m\u001b[38;5;241;43m.\u001b[39;49m\u001b[43mget_attribute\u001b[49m(\u001b[38;5;124m\"\u001b[39m\u001b[38;5;124mhref\u001b[39m\u001b[38;5;124m\"\u001b[39m)\n",
      "\u001b[1;31mAttributeError\u001b[0m: 'list' object has no attribute 'get_attribute'"
     ]
    }
   ],
   "source": [
    "allchannellist.get_attribute(\"href\")"
   ]
  },
  {
   "cell_type": "code",
   "execution_count": 33,
   "id": "3b425928",
   "metadata": {},
   "outputs": [
    {
     "data": {
      "text/plain": [
       "'https://www.youtube.com/search?q=PW-Foundation'"
      ]
     },
     "execution_count": 33,
     "metadata": {},
     "output_type": "execute_result"
    }
   ],
   "source": [
    "from selenium import webdriver\n",
    "from selenium.webdriver.common.by import By\n",
    "from selenium.webdriver.firefox.service import Service\n",
    "from selenium.webdriver.firefox.options import Options\n",
    "import time\n",
    "\n",
    "options = Options()\n",
    "#options.headless = True\n",
    "service = Service('path/to/geckodriver.exe')\n",
    "driver = webdriver.Firefox(service=service, options=options)\n",
    "\n",
    "driver.implicitly_wait(5)\n",
    "baseUrl = \"https://www.youtube.com\"\n",
    "keywords = \"PW-Foundation\"\n",
    "\n",
    "def geturl():\n",
    "    driver.get(f\"{baseUrl}/search?q={keywords}\")\n",
    "    time.sleep(5)\n",
    "    allchannellist = driver.find_elements(By.CSS_SELECTOR, \"a#video-title\")\n",
    "    \n",
    "    links = list(dict.fromkeys(map(lambda a : a.get_attribute(\"href\"), allchannellist)))\n",
    "    return links\n",
    "\n",
    "if __name__ == \"__main__\":\n",
    "    url = geturl()\n",
    "  \n",
    "\n",
    "    print(url)\n"
   ]
  },
  {
   "cell_type": "code",
   "execution_count": 35,
   "id": "3630bc7f",
   "metadata": {},
   "outputs": [
    {
     "ename": "InvalidArgumentException",
     "evalue": "Message: unknown variant `ytd-thumbnail.ytd-video-renderer a#thumbnail`, expected one of `css selector`, `link text`, `partial link text`, `tag name`, `xpath` at line 1 column 56\n",
     "output_type": "error",
     "traceback": [
      "\u001b[1;31m---------------------------------------------------------------------------\u001b[0m",
      "\u001b[1;31mInvalidArgumentException\u001b[0m                  Traceback (most recent call last)",
      "Cell \u001b[1;32mIn[35], line 8\u001b[0m\n\u001b[0;32m      5\u001b[0m driver\u001b[38;5;241m.\u001b[39mget(\u001b[38;5;124mf\u001b[39m\u001b[38;5;124m\"\u001b[39m\u001b[38;5;132;01m{\u001b[39;00mbaseUrl\u001b[38;5;132;01m}\u001b[39;00m\u001b[38;5;124m/search?q=\u001b[39m\u001b[38;5;132;01m{\u001b[39;00mkeywords\u001b[38;5;132;01m}\u001b[39;00m\u001b[38;5;124m\"\u001b[39m)\n\u001b[0;32m      7\u001b[0m \u001b[38;5;66;03m# find all thumbnail elements\u001b[39;00m\n\u001b[1;32m----> 8\u001b[0m thumbnail_elements \u001b[38;5;241m=\u001b[39m \u001b[43mdriver\u001b[49m\u001b[38;5;241;43m.\u001b[39;49m\u001b[43mfind_element\u001b[49m\u001b[43m(\u001b[49m\u001b[38;5;124;43m'\u001b[39;49m\u001b[38;5;124;43mytd-thumbnail.ytd-video-renderer a#thumbnail\u001b[39;49m\u001b[38;5;124;43m'\u001b[39;49m\u001b[43m)\u001b[49m\n\u001b[0;32m     10\u001b[0m \u001b[38;5;66;03m# extract thumbnail links\u001b[39;00m\n\u001b[0;32m     11\u001b[0m thumbnail_links \u001b[38;5;241m=\u001b[39m [element\u001b[38;5;241m.\u001b[39mget_attribute(\u001b[38;5;124m'\u001b[39m\u001b[38;5;124mhref\u001b[39m\u001b[38;5;124m'\u001b[39m) \u001b[38;5;28;01mfor\u001b[39;00m element \u001b[38;5;129;01min\u001b[39;00m thumbnail_elements]\n",
      "File \u001b[1;32m~\\AppData\\Local\\Programs\\Python\\Python310\\lib\\site-packages\\selenium\\webdriver\\remote\\webdriver.py:830\u001b[0m, in \u001b[0;36mWebDriver.find_element\u001b[1;34m(self, by, value)\u001b[0m\n\u001b[0;32m    827\u001b[0m     by \u001b[38;5;241m=\u001b[39m By\u001b[38;5;241m.\u001b[39mCSS_SELECTOR\n\u001b[0;32m    828\u001b[0m     value \u001b[38;5;241m=\u001b[39m \u001b[38;5;124mf\u001b[39m\u001b[38;5;124m'\u001b[39m\u001b[38;5;124m[name=\u001b[39m\u001b[38;5;124m\"\u001b[39m\u001b[38;5;132;01m{\u001b[39;00mvalue\u001b[38;5;132;01m}\u001b[39;00m\u001b[38;5;124m\"\u001b[39m\u001b[38;5;124m]\u001b[39m\u001b[38;5;124m'\u001b[39m\n\u001b[1;32m--> 830\u001b[0m \u001b[38;5;28;01mreturn\u001b[39;00m \u001b[38;5;28;43mself\u001b[39;49m\u001b[38;5;241;43m.\u001b[39;49m\u001b[43mexecute\u001b[49m\u001b[43m(\u001b[49m\u001b[43mCommand\u001b[49m\u001b[38;5;241;43m.\u001b[39;49m\u001b[43mFIND_ELEMENT\u001b[49m\u001b[43m,\u001b[49m\u001b[43m \u001b[49m\u001b[43m{\u001b[49m\u001b[38;5;124;43m\"\u001b[39;49m\u001b[38;5;124;43musing\u001b[39;49m\u001b[38;5;124;43m\"\u001b[39;49m\u001b[43m:\u001b[49m\u001b[43m \u001b[49m\u001b[43mby\u001b[49m\u001b[43m,\u001b[49m\u001b[43m \u001b[49m\u001b[38;5;124;43m\"\u001b[39;49m\u001b[38;5;124;43mvalue\u001b[39;49m\u001b[38;5;124;43m\"\u001b[39;49m\u001b[43m:\u001b[49m\u001b[43m \u001b[49m\u001b[43mvalue\u001b[49m\u001b[43m}\u001b[49m\u001b[43m)\u001b[49m[\u001b[38;5;124m\"\u001b[39m\u001b[38;5;124mvalue\u001b[39m\u001b[38;5;124m\"\u001b[39m]\n",
      "File \u001b[1;32m~\\AppData\\Local\\Programs\\Python\\Python310\\lib\\site-packages\\selenium\\webdriver\\remote\\webdriver.py:440\u001b[0m, in \u001b[0;36mWebDriver.execute\u001b[1;34m(self, driver_command, params)\u001b[0m\n\u001b[0;32m    438\u001b[0m response \u001b[38;5;241m=\u001b[39m \u001b[38;5;28mself\u001b[39m\u001b[38;5;241m.\u001b[39mcommand_executor\u001b[38;5;241m.\u001b[39mexecute(driver_command, params)\n\u001b[0;32m    439\u001b[0m \u001b[38;5;28;01mif\u001b[39;00m response:\n\u001b[1;32m--> 440\u001b[0m     \u001b[38;5;28;43mself\u001b[39;49m\u001b[38;5;241;43m.\u001b[39;49m\u001b[43merror_handler\u001b[49m\u001b[38;5;241;43m.\u001b[39;49m\u001b[43mcheck_response\u001b[49m\u001b[43m(\u001b[49m\u001b[43mresponse\u001b[49m\u001b[43m)\u001b[49m\n\u001b[0;32m    441\u001b[0m     response[\u001b[38;5;124m\"\u001b[39m\u001b[38;5;124mvalue\u001b[39m\u001b[38;5;124m\"\u001b[39m] \u001b[38;5;241m=\u001b[39m \u001b[38;5;28mself\u001b[39m\u001b[38;5;241m.\u001b[39m_unwrap_value(response\u001b[38;5;241m.\u001b[39mget(\u001b[38;5;124m\"\u001b[39m\u001b[38;5;124mvalue\u001b[39m\u001b[38;5;124m\"\u001b[39m, \u001b[38;5;28;01mNone\u001b[39;00m))\n\u001b[0;32m    442\u001b[0m     \u001b[38;5;28;01mreturn\u001b[39;00m response\n",
      "File \u001b[1;32m~\\AppData\\Local\\Programs\\Python\\Python310\\lib\\site-packages\\selenium\\webdriver\\remote\\errorhandler.py:245\u001b[0m, in \u001b[0;36mErrorHandler.check_response\u001b[1;34m(self, response)\u001b[0m\n\u001b[0;32m    243\u001b[0m         alert_text \u001b[38;5;241m=\u001b[39m value[\u001b[38;5;124m\"\u001b[39m\u001b[38;5;124malert\u001b[39m\u001b[38;5;124m\"\u001b[39m]\u001b[38;5;241m.\u001b[39mget(\u001b[38;5;124m\"\u001b[39m\u001b[38;5;124mtext\u001b[39m\u001b[38;5;124m\"\u001b[39m)\n\u001b[0;32m    244\u001b[0m     \u001b[38;5;28;01mraise\u001b[39;00m exception_class(message, screen, stacktrace, alert_text)  \u001b[38;5;66;03m# type: ignore[call-arg]  # mypy is not smart enough here\u001b[39;00m\n\u001b[1;32m--> 245\u001b[0m \u001b[38;5;28;01mraise\u001b[39;00m exception_class(message, screen, stacktrace)\n",
      "\u001b[1;31mInvalidArgumentException\u001b[0m: Message: unknown variant `ytd-thumbnail.ytd-video-renderer a#thumbnail`, expected one of `css selector`, `link text`, `partial link text`, `tag name`, `xpath` at line 1 column 56\n"
     ]
    }
   ],
   "source": [
    "from selenium import webdriver\n",
    "\n",
    "# set up webdriver\n",
    "driver = webdriver.Firefox()\n",
    "driver.get(f\"{baseUrl}/search?q={keywords}\")\n",
    "\n",
    "# find all thumbnail elements\n",
    "thumbnail_elements = driver.find_element('ytd-thumbnail.ytd-video-renderer a#thumbnail')\n",
    "\n",
    "# extract thumbnail links\n",
    "thumbnail_links = [element.get_attribute('href') for element in thumbnail_elements]\n",
    "\n",
    "# print the extracted links\n",
    "print(thumbnail_links)\n",
    "\n",
    "# close the webdriver\n",
    "driver.quit()\n"
   ]
  },
  {
   "cell_type": "code",
   "execution_count": 27,
   "id": "725cc775",
   "metadata": {},
   "outputs": [
    {
     "data": {
      "text/plain": [
       "[[<selenium.webdriver.remote.webelement.WebElement (session=\"964a6420-b4ff-443f-83e6-9a6bf0e9d5d5\", element=\"813dcb2e-2452-4fba-9be3-4dd031a8c946\")>,\n",
       "  <selenium.webdriver.remote.webelement.WebElement (session=\"964a6420-b4ff-443f-83e6-9a6bf0e9d5d5\", element=\"4b116d5b-3322-40c0-9b32-60b3fd8461da\")>,\n",
       "  <selenium.webdriver.remote.webelement.WebElement (session=\"964a6420-b4ff-443f-83e6-9a6bf0e9d5d5\", element=\"b87c8c0a-2029-46fb-81a8-5684da533150\")>,\n",
       "  <selenium.webdriver.remote.webelement.WebElement (session=\"964a6420-b4ff-443f-83e6-9a6bf0e9d5d5\", element=\"7a05cc3e-9e17-4954-8753-33c595baacc3\")>],\n",
       " [],\n",
       " [],\n",
       " [],\n",
       " []]"
      ]
     },
     "execution_count": 27,
     "metadata": {},
     "output_type": "execute_result"
    }
   ],
   "source": [
    "thumbnails"
   ]
  },
  {
   "cell_type": "code",
   "execution_count": 5,
   "id": "72259d1d",
   "metadata": {},
   "outputs": [
    {
     "name": "stdout",
     "output_type": "stream",
     "text": [
      "['How to Attempt English Board Exam ????', \"Follow This Plan To Score More Than 95% in Boards || Topper's Strategy\", 'Complete Physics in 1 Shot || ICSE Boards || Class-10th', 'CARBON AND ITS COMPOUNDS - in 1 Shot || Class -10th Board Exams', 'Best technique to attempt SST paper in Board exam || Class 10th', 'Science Practice Paper Discussion Session || Class-10th Boards', 'Complete Maths Part -1 || ICSE Boards || Class-10th', 'LIGHT - in 1 Shot || Class -10th Board Exams #physicswallah #class10', 'ELECTRICITY in 1 Shot || Class -10th Board Exams', 'HEREDITY AND EVOLUTION - in 1 Shot || Class -10th Board Exams', 'COMPLETE GRAMMAR REVISION - in 1 Shot || Class -10th Board Exams', 'COMPLETE LITERATURE REVISION - FOOT PRINT WITHOUT FEET in 1 Shot || Class -10th Board Exams', 'How to Become a Chartered Accountant 📈', 'HOW DO ORGANISMS REPRODUCE? in 1 Shot || Class -10th Board Exams', 'Maths Practice Paper Discussion Session || Class-10th Boards']\n"
     ]
    }
   ],
   "source": [
    "from selenium import webdriver\n",
    "from selenium.webdriver.common.by import By\n",
    "from selenium.webdriver.firefox.service import Service\n",
    "from selenium.webdriver.firefox.options import Options\n",
    "import time\n",
    "\n",
    "options = Options()\n",
    "#options.headless = True\n",
    "service = Service('path/to/geckodriver.exe')\n",
    "driver = webdriver.Firefox(service=service, options=options)\n",
    "\n",
    "driver.implicitly_wait(5)\n",
    "baseUrl = \"https://www.youtube.com\"\n",
    "keywords = \"PW-Foundation\"\n",
    "\n",
    "def get_titles():\n",
    "    driver.get(f\"{baseUrl}/search?q={keywords}\")\n",
    "    time.sleep(5)\n",
    "    all_titles = driver.find_elements(By.CSS_SELECTOR, \"a#video-title\")\n",
    "    titles = [title.get_attribute('title') for title in all_titles]\n",
    "    return titles\n",
    "\n",
    "if __name__ == \"__main__\":\n",
    "    titles = get_titles()\n",
    "    print(titles)\n"
   ]
  },
  {
   "cell_type": "code",
   "execution_count": 7,
   "id": "8edc6e1f",
   "metadata": {},
   "outputs": [
    {
     "data": {
      "text/plain": [
       "\"Follow This Plan To Score More Than 95% in Boards || Topper's Strategy\""
      ]
     },
     "execution_count": 7,
     "metadata": {},
     "output_type": "execute_result"
    }
   ],
   "source": [
    "titles[1]"
   ]
  },
  {
   "cell_type": "code",
   "execution_count": 8,
   "id": "1b9a7627",
   "metadata": {},
   "outputs": [
    {
     "name": "stdout",
     "output_type": "stream",
     "text": [
      "['15K views', '76K views', '100K views', '311K views', '115K views', '198K views', '122K views', '755K views', '67K views', '452K views', '53K views', '466K views', '260K views', '86K views', '580K views', '284K views', '610K views', '344K views', '51K views', '339K views']\n"
     ]
    }
   ],
   "source": [
    "from selenium import webdriver\n",
    "from selenium.webdriver.common.by import By\n",
    "from selenium.webdriver.firefox.service import Service\n",
    "from selenium.webdriver.firefox.options import Options\n",
    "import time\n",
    "\n",
    "options = Options()\n",
    "#options.headless = True\n",
    "service = Service('path/to/geckodriver.exe')\n",
    "driver = webdriver.Firefox(service=service, options=options)\n",
    "\n",
    "driver.implicitly_wait(5)\n",
    "baseUrl = \"https://www.youtube.com\"\n",
    "keywords = \"PW-Foundation\"\n",
    "\n",
    "def geturl():\n",
    "    driver.get(f\"{baseUrl}/search?q={keywords}\")\n",
    "    time.sleep(5)\n",
    "    allchannellist = driver.find_elements(By.CSS_SELECTOR, \"a#video-title\")\n",
    "    \n",
    "    links = list(dict.fromkeys(map(lambda a : a.get_attribute(\"href\"), allchannellist)))\n",
    "    return links\n",
    "\n",
    "def get_views():\n",
    "    driver.get(f\"{baseUrl}/search?q={keywords}\")\n",
    "    time.sleep(5)\n",
    "    allchannellist = driver.find_elements(By.CSS_SELECTOR, \"ytd-video-renderer div#metadata span.style-scope.ytd-video-meta-block\")\n",
    "    views = []\n",
    "    for item in allchannellist:\n",
    "        if \"views\" in item.text:\n",
    "            views.append(item.text)\n",
    "    return views\n",
    "\n",
    "\n",
    "if __name__ == \"__main__\":\n",
    "    views = get_views()\n",
    "    print(views)\n"
   ]
  },
  {
   "cell_type": "code",
   "execution_count": 10,
   "id": "5995833f",
   "metadata": {},
   "outputs": [
    {
     "name": "stdout",
     "output_type": "stream",
     "text": [
      "['16K views', 'Streamed 25 minutes ago', '76K views', 'Streamed 17 hours ago', '100K views', '22 hours ago', '311K views', '8 days ago', '24K views', '43K views', '52K views', '30K views', '116K views', 'Streamed 7 days ago', '396K views', 'Streamed 1 month ago', '55K views', '8 months ago', '966K views', '2 months ago', '94K views', 'Streamed 6 days ago', '452K views', 'Streamed 2 weeks ago', '53K views', '1 day ago', '27K views', '70K views', '215K views', '147K views', '15K views', '128K views', '466K views', 'Streamed 3 weeks ago', '86K views', 'Streamed 2 days ago', '261K views', 'Streamed 9 days ago', '580K views', '610K views', '284K views', 'Streamed 10 days ago', '344K views', '51K views', '339K views']\n"
     ]
    }
   ],
   "source": [
    "from selenium import webdriver\n",
    "from selenium.webdriver.common.by import By\n",
    "from selenium.webdriver.firefox.service import Service\n",
    "from selenium.webdriver.firefox.options import Options\n",
    "import time\n",
    "\n",
    "options = Options()\n",
    "#options.headless = True\n",
    "service = Service('path/to/geckodriver.exe')\n",
    "driver = webdriver.Firefox(service=service, options=options)\n",
    "\n",
    "driver.implicitly_wait(5)\n",
    "baseUrl = \"https://www.youtube.com\"\n",
    "keywords = \"PW-Foundation\"\n",
    "\n",
    "def get_posted_time():\n",
    "    driver.get(f\"{baseUrl}/search?q={keywords}\")\n",
    "    time.sleep(5)\n",
    "    allchannellist = driver.find_elements(By.CSS_SELECTOR, \"span.style-scope.ytd-video-meta-block\")\n",
    "    times = list(dict.fromkeys(map(lambda a : a.get_attribute(\"innerHTML\"), allchannellist)))\n",
    "    return times\n",
    "\n",
    "if __name__ == \"__main__\":\n",
    "    times = get_posted_time()\n",
    "    print(times)\n"
   ]
  },
  {
   "cell_type": "code",
   "execution_count": null,
   "id": "0be96916",
   "metadata": {},
   "outputs": [],
   "source": []
  }
 ],
 "metadata": {
  "kernelspec": {
   "display_name": "Python 3 (ipykernel)",
   "language": "python",
   "name": "python3"
  },
  "language_info": {
   "codemirror_mode": {
    "name": "ipython",
    "version": 3
   },
   "file_extension": ".py",
   "mimetype": "text/x-python",
   "name": "python",
   "nbconvert_exporter": "python",
   "pygments_lexer": "ipython3",
   "version": "3.10.9"
  }
 },
 "nbformat": 4,
 "nbformat_minor": 5
}
