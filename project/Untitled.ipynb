{
 "cells": [
  {
   "cell_type": "code",
   "execution_count": 6,
   "id": "3ea429e4",
   "metadata": {},
   "outputs": [],
   "source": [
    "from requests_html import HTMLSession"
   ]
  },
  {
   "cell_type": "code",
   "execution_count": 7,
   "id": "add085d2",
   "metadata": {},
   "outputs": [],
   "source": [
    "session = HTMLSession()"
   ]
  },
  {
   "cell_type": "code",
   "execution_count": 8,
   "id": "9fd83eca",
   "metadata": {},
   "outputs": [],
   "source": [
    "r = session.get('https://www.youtube.com/@PW-Foundation/videos')"
   ]
  },
  {
   "cell_type": "code",
   "execution_count": 33,
   "id": "8c699795",
   "metadata": {},
   "outputs": [
    {
     "name": "stdout",
     "output_type": "stream",
     "text": [
      "---------------------------------------Examples---------------------------------------\n",
      "Title: Aarambh Batch 2024 | For CBSE Class 11th Commerce | Biggest Launch🔥\n",
      "Application: YouTube\n",
      "Uploaddate: 2023-03-27\n",
      "Family friendly: true\n",
      "Description: Aarambh 2024 Batch For 11th Commerce-📌 https://smart.link/w9uwge6aqfurxChannel link: https://www.youtube.com/@CommerceWallahPWBatch Description:1. This Batc...\n",
      "Interactions: 27718\n",
      "Is paid: False\n"
     ]
    }
   ],
   "source": [
    "from requests_html import HTMLSession\n",
    "from bs4 import BeautifulSoup as bs\n",
    "\n",
    "\n",
    "def give_me_everything():\n",
    "\n",
    "    data = soup.find_all(\"meta\")  # call everything that is in meta\n",
    "\n",
    "    for i in range(len(data)):  # print the propertys\n",
    "        print(data[i])\n",
    "\n",
    "\n",
    "video_url = \"https://www.youtube.com/watch?v=hzwEXoQDNCs\" \n",
    "#video_url = 'https://www.youtube.com/@PW-Foundation/videos' # YouTube URL\n",
    "session = HTMLSession()  # Initialize HTML Session\n",
    "response = session.get(video_url)  # call the URL\n",
    "\n",
    "if response.status_code != 200:  # If response != 200 don't try to read the data\n",
    "    print(\"Error! Response = \" + str(response.status_code))\n",
    "else:\n",
    "    soup = bs(response.content, \"html.parser\")  # html parser from BeautifulSoup\n",
    "\n",
    "    # give_me_everything() # Important to know which property's you can extract\n",
    "    print(\"---------------------------------------Examples---------------------------------------\")\n",
    "    # some examples\n",
    "    print(\"Title: \" + soup.find(\"meta\", property=\"og:title\")[\"content\"])\n",
    "    print(\"Application: \" + soup.find(\"meta\", property=\"al:ios:app_name\")[\"content\"])\n",
    "    print(\"Uploaddate: \" + soup.find(\"meta\", itemprop=\"uploadDate\")[\"content\"])\n",
    "    print(\"Family friendly: \" + soup.find(\"meta\", itemprop=\"isFamilyFriendly\")[\"content\"])\n",
    "    print(\"Description: \" + soup.find(\"meta\", property=\"og:description\")[\"content\"])\n",
    "    print(\"Interactions: \" + soup.find(\"meta\", itemprop=\"interactionCount\")[\"content\"])\n",
    "    print(\"Is paid: \" + soup.find(\"meta\", itemprop=\"paid\")[\"content\"])\n"
   ]
  },
  {
   "cell_type": "code",
   "execution_count": 67,
   "id": "8c0021c5",
   "metadata": {},
   "outputs": [
    {
     "name": "stdout",
     "output_type": "stream",
     "text": [
      "['https://www.youtube.com/watch?v=hzwEXoQDNCs', 'https://www.youtube.com/watch?v=0s6hAsFGxYE', 'https://www.youtube.com/watch?v=YXRyMc_noiE', 'https://www.youtube.com/watch?v=PI1obes98Zc', 'https://www.youtube.com/watch?v=16fUsD0M1-I', 'https://www.youtube.com/watch?v=S0RySN5arvk', 'https://www.youtube.com/watch?v=HzBhwxMrt8A', 'https://www.youtube.com/watch?v=60_B3haKADw', 'https://www.youtube.com/watch?v=46CNHP9wBAs', 'https://www.youtube.com/watch?v=1Wk5gJtZ2sQ', 'https://www.youtube.com/watch?v=iM_hVnElC-Q', 'https://www.youtube.com/watch?v=Prly9d7LoAQ', 'https://www.youtube.com/watch?v=AvwBDiCWSEM', 'https://www.youtube.com/watch?v=jQzKkMEaWFA', 'https://www.youtube.com/watch?v=6weIshsiLlM', 'https://www.youtube.com/watch?v=-osuIPJkPWg', 'https://www.youtube.com/watch?v=VsKb_U2-Cx0', 'https://www.youtube.com/watch?v=ZNHlCezYN1I', 'https://www.youtube.com/watch?v=nNmV-fuGW5c', 'https://www.youtube.com/watch?v=6Mht7UigC_w', 'https://www.youtube.com/watch?v=WObRrneLVRY', 'https://www.youtube.com/watch?v=nX5ONgCdLcc', 'https://www.youtube.com/watch?v=AM2Dt7cNebw', 'https://www.youtube.com/watch?v=7nMJVhey9TM', 'https://www.youtube.com/watch?v=FSVVlcFUCMk', 'https://www.youtube.com/watch?v=vKxdTuOirnI', 'https://www.youtube.com/watch?v=hC86u4g6QPk', 'https://www.youtube.com/watch?v=7O5MY8Y1JCE', 'https://www.youtube.com/watch?v=01iTPgZGjvM', 'https://www.youtube.com/watch?v=pXjLbNAa_ag']\n"
     ]
    }
   ],
   "source": [
    "import requests\n",
    "import re\n",
    "\n",
    "url = \"https://www.youtube.com/@PW-Foundation/videos\"\n",
    "\n",
    "html = requests.get(url).text\n",
    "\n",
    "video_ids = re.findall(r\"watch\\?v=(\\S{11})\", html)\n",
    "\n",
    "video_links = [\"https://www.youtube.com/watch?v=\" + id for id in video_ids]\n",
    "\n",
    "print(video_links)\n"
   ]
  },
  {
   "cell_type": "code",
   "execution_count": 2,
   "id": "1e332abe",
   "metadata": {},
   "outputs": [],
   "source": [
    "import logging\n",
    "\n",
    "# Set up logging configuration\n",
    "logging.basicConfig(filename='application.log', level=logging.ERROR,\n",
    "                    format='%(asctime)s:%(levelname)s:%(message)s')\n",
    "\n",
    "try:\n",
    "    # Your code here that may raise an error\n",
    "    x = 1 / 0\n",
    "except Exception as e:\n",
    "    # Log the error\n",
    "    logging.error(\"An error occurred: %s\", str(e))\n"
   ]
  },
  {
   "cell_type": "code",
   "execution_count": null,
   "id": "3d16cbbd",
   "metadata": {},
   "outputs": [],
   "source": []
  },
  {
   "cell_type": "code",
   "execution_count": null,
   "id": "b117cd2f",
   "metadata": {},
   "outputs": [],
   "source": []
  }
 ],
 "metadata": {
  "kernelspec": {
   "display_name": "Python 3 (ipykernel)",
   "language": "python",
   "name": "python3"
  },
  "language_info": {
   "codemirror_mode": {
    "name": "ipython",
    "version": 3
   },
   "file_extension": ".py",
   "mimetype": "text/x-python",
   "name": "python",
   "nbconvert_exporter": "python",
   "pygments_lexer": "ipython3",
   "version": "3.10.9"
  }
 },
 "nbformat": 4,
 "nbformat_minor": 5
}
