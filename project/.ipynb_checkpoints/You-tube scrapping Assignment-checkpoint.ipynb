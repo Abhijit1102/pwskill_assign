{
 "cells": [
  {
   "cell_type": "code",
   "execution_count": 21,
   "id": "94a7de92",
   "metadata": {},
   "outputs": [
    {
     "name": "stdout",
     "output_type": "stream",
     "text": [
      "['https://www.youtube.com/watch?v=zzFcXF7DOHY', 'https://www.youtube.com/watch?v=WObRrneLVRY', 'https://www.youtube.com/shorts/UVegujsFSzQ', 'https://www.youtube.com/watch?v=tvTvth3oehw', 'https://www.youtube.com/watch?v=TZQTL6pWOhY', 'https://www.youtube.com/watch?v=z4jvEiCQg0s', 'https://www.youtube.com/watch?v=nX5ONgCdLcc', 'https://www.youtube.com/watch?v=vKxdTuOirnI', 'https://www.youtube.com/watch?v=N8RuplElFtg', 'https://www.youtube.com/watch?v=OxDSufixCec', 'https://www.youtube.com/shorts/OjnkIP25HCI', 'https://www.youtube.com/shorts/ME96u4LFX3E', 'https://www.youtube.com/watch?v=oNkwrrMT7ec', 'https://www.youtube.com/watch?v=B2jSvV9dwNE', 'https://www.youtube.com/watch?v=HDjR1Pxofuc', 'https://www.youtube.com/watch?v=m33CKkopyXs', 'https://www.youtube.com/watch?v=zmIoo_DuWkA', 'https://www.youtube.com/watch?v=AM2Dt7cNebw', 'https://www.youtube.com/watch?v=G4Kjp-PKo08', 'https://www.youtube.com/watch?v=x_r3fZByHCg']\n"
     ]
    }
   ],
   "source": [
    "from selenium import webdriver\n",
    "from selenium.webdriver.common.by import By\n",
    "from selenium.webdriver.firefox.service import Service\n",
    "from selenium.webdriver.firefox.options import Options\n",
    "import time\n",
    "\n",
    "options = Options()\n",
    "#options.headless = True\n",
    "service = Service('path/to/geckodriver.exe')\n",
    "driver = webdriver.Firefox(service=service, options=options)\n",
    "\n",
    "driver.implicitly_wait(5)\n",
    "baseUrl = \"https://www.youtube.com\"\n",
    "keywords = \"PW-Foundation\"\n",
    "\n",
    "def get_url():\n",
    "    driver.get(f\"{baseUrl}/search?q={keywords}\")\n",
    "    time.sleep(5)\n",
    "    allchannellist = driver.find_elements(By.CSS_SELECTOR, \"a#video-title\")\n",
    "    \n",
    "    links = list(dict.fromkeys(map(lambda a : a.get_attribute(\"href\"), allchannellist)))\n",
    "    driver.quit()\n",
    "    return links\n",
    "\n",
    "urls = get_url()\n",
    "print(urls)"
   ]
  },
  {
   "cell_type": "code",
   "execution_count": 23,
   "id": "ad5f8b6b",
   "metadata": {},
   "outputs": [
    {
     "data": {
      "text/plain": [
       "['https://www.youtube.com/watch?v=zzFcXF7DOHY',\n",
       " 'https://www.youtube.com/watch?v=WObRrneLVRY',\n",
       " 'https://www.youtube.com/shorts/UVegujsFSzQ',\n",
       " 'https://www.youtube.com/watch?v=tvTvth3oehw']"
      ]
     },
     "execution_count": 23,
     "metadata": {},
     "output_type": "execute_result"
    }
   ],
   "source": [
    "urls[:4]"
   ]
  },
  {
   "cell_type": "code",
   "execution_count": 25,
   "id": "ddc7ac92",
   "metadata": {},
   "outputs": [
    {
     "name": "stdout",
     "output_type": "stream",
     "text": [
      "https://www.youtube.com/watch?v=zzFcXF7DOHY\n",
      "https://www.youtube.com/watch?v=WObRrneLVRY\n",
      "https://www.youtube.com/shorts/UVegujsFSzQ\n",
      "https://www.youtube.com/watch?v=tvTvth3oehw\n",
      "https://www.youtube.com/watch?v=TZQTL6pWOhY\n"
     ]
    }
   ],
   "source": [
    "for i in urls[:5]:\n",
    "    print(i)"
   ]
  },
  {
   "cell_type": "code",
   "execution_count": null,
   "id": "29fc151e",
   "metadata": {},
   "outputs": [],
   "source": [
    "for i in urls:\n",
    "    thumbnial_link(i)\n",
    "    "
   ]
  },
  {
   "cell_type": "code",
   "execution_count": 30,
   "id": "3630bc7f",
   "metadata": {},
   "outputs": [],
   "source": [
    "import re\n",
    "import requests\n",
    "import os\n",
    "\n",
    "def thumbnial_link(url):\n",
    "    exp = \"^.*((youtu.be\\/)|(v\\/)|(\\/u\\/\\w\\/)|(embed\\/)|(watch\\?))\\??v?=?([^#&?]*).*\"\n",
    "    s = re.findall(exp,url)[0][-1]\n",
    "    thumbnail = f\"https://i.ytimg.com/vi/{s}/maxresdefault.jpg\"\n",
    "\n",
    "    #image scraping\n",
    "    def imagedown(url, folder):\n",
    "        try:\n",
    "            os.mkdir(os.path.join(os.getcwd(), folder))\n",
    "        except:\n",
    "            pass\n",
    "        os.chdir(os.path.join(os.getcwd(), folder))\n",
    "\n",
    "        name = url\n",
    "        link = url\n",
    "        with open(name.replace(' ', '-').replace('/', '') + '.jpg', 'wb') as f:\n",
    "            im = requests.get(link)\n",
    "            f.write(im.content)\n",
    "            print('Writing: ', name)\n",
    "\n",
    "    imagedown(thumbnail, 'image')"
   ]
  },
  {
   "cell_type": "code",
   "execution_count": 5,
   "id": "72259d1d",
   "metadata": {},
   "outputs": [
    {
     "name": "stdout",
     "output_type": "stream",
     "text": [
      "['How to Attempt English Board Exam ????', \"Follow This Plan To Score More Than 95% in Boards || Topper's Strategy\", 'Complete Physics in 1 Shot || ICSE Boards || Class-10th', 'CARBON AND ITS COMPOUNDS - in 1 Shot || Class -10th Board Exams', 'Best technique to attempt SST paper in Board exam || Class 10th', 'Science Practice Paper Discussion Session || Class-10th Boards', 'Complete Maths Part -1 || ICSE Boards || Class-10th', 'LIGHT - in 1 Shot || Class -10th Board Exams #physicswallah #class10', 'ELECTRICITY in 1 Shot || Class -10th Board Exams', 'HEREDITY AND EVOLUTION - in 1 Shot || Class -10th Board Exams', 'COMPLETE GRAMMAR REVISION - in 1 Shot || Class -10th Board Exams', 'COMPLETE LITERATURE REVISION - FOOT PRINT WITHOUT FEET in 1 Shot || Class -10th Board Exams', 'How to Become a Chartered Accountant 📈', 'HOW DO ORGANISMS REPRODUCE? in 1 Shot || Class -10th Board Exams', 'Maths Practice Paper Discussion Session || Class-10th Boards']\n"
     ]
    }
   ],
   "source": [
    "from selenium import webdriver\n",
    "from selenium.webdriver.common.by import By\n",
    "from selenium.webdriver.firefox.service import Service\n",
    "from selenium.webdriver.firefox.options import Options\n",
    "import time\n",
    "\n",
    "options = Options()\n",
    "#options.headless = True\n",
    "service = Service('path/to/geckodriver.exe')\n",
    "driver = webdriver.Firefox(service=service, options=options)\n",
    "\n",
    "driver.implicitly_wait(5)\n",
    "baseUrl = \"https://www.youtube.com\"\n",
    "keywords = \"PW-Foundation\"\n",
    "\n",
    "def get_titles():\n",
    "    driver.get(f\"{baseUrl}/search?q={keywords}\")\n",
    "    time.sleep(5)\n",
    "    all_titles = driver.find_elements(By.CSS_SELECTOR, \"a#video-title\")\n",
    "    titles = [title.get_attribute('title') for title in all_titles]\n",
    "    return titles\n",
    "\n",
    "if __name__ == \"__main__\":\n",
    "    titles = get_titles()\n",
    "    print(titles)\n"
   ]
  },
  {
   "cell_type": "code",
   "execution_count": 7,
   "id": "8edc6e1f",
   "metadata": {},
   "outputs": [
    {
     "data": {
      "text/plain": [
       "\"Follow This Plan To Score More Than 95% in Boards || Topper's Strategy\""
      ]
     },
     "execution_count": 7,
     "metadata": {},
     "output_type": "execute_result"
    }
   ],
   "source": [
    "titles[1]"
   ]
  },
  {
   "cell_type": "code",
   "execution_count": 8,
   "id": "1b9a7627",
   "metadata": {},
   "outputs": [
    {
     "name": "stdout",
     "output_type": "stream",
     "text": [
      "['15K views', '76K views', '100K views', '311K views', '115K views', '198K views', '122K views', '755K views', '67K views', '452K views', '53K views', '466K views', '260K views', '86K views', '580K views', '284K views', '610K views', '344K views', '51K views', '339K views']\n"
     ]
    }
   ],
   "source": [
    "from selenium import webdriver\n",
    "from selenium.webdriver.common.by import By\n",
    "from selenium.webdriver.firefox.service import Service\n",
    "from selenium.webdriver.firefox.options import Options\n",
    "import time\n",
    "\n",
    "options = Options()\n",
    "#options.headless = True\n",
    "service = Service('path/to/geckodriver.exe')\n",
    "driver = webdriver.Firefox(service=service, options=options)\n",
    "\n",
    "driver.implicitly_wait(5)\n",
    "baseUrl = \"https://www.youtube.com\"\n",
    "keywords = \"PW-Foundation\"\n",
    "\n",
    "def geturl():\n",
    "    driver.get(f\"{baseUrl}/search?q={keywords}\")\n",
    "    time.sleep(5)\n",
    "    allchannellist = driver.find_elements(By.CSS_SELECTOR, \"a#video-title\")\n",
    "    \n",
    "    links = list(dict.fromkeys(map(lambda a : a.get_attribute(\"href\"), allchannellist)))\n",
    "    return links\n",
    "\n",
    "def get_views():\n",
    "    driver.get(f\"{baseUrl}/search?q={keywords}\")\n",
    "    time.sleep(5)\n",
    "    allchannellist = driver.find_elements(By.CSS_SELECTOR, \"ytd-video-renderer div#metadata span.style-scope.ytd-video-meta-block\")\n",
    "    views = []\n",
    "    for item in allchannellist:\n",
    "        if \"views\" in item.text:\n",
    "            views.append(item.text)\n",
    "    return views\n",
    "\n",
    "\n",
    "if __name__ == \"__main__\":\n",
    "    views = get_views()\n",
    "    print(views)\n"
   ]
  },
  {
   "cell_type": "code",
   "execution_count": 10,
   "id": "5995833f",
   "metadata": {},
   "outputs": [
    {
     "name": "stdout",
     "output_type": "stream",
     "text": [
      "['16K views', 'Streamed 25 minutes ago', '76K views', 'Streamed 17 hours ago', '100K views', '22 hours ago', '311K views', '8 days ago', '24K views', '43K views', '52K views', '30K views', '116K views', 'Streamed 7 days ago', '396K views', 'Streamed 1 month ago', '55K views', '8 months ago', '966K views', '2 months ago', '94K views', 'Streamed 6 days ago', '452K views', 'Streamed 2 weeks ago', '53K views', '1 day ago', '27K views', '70K views', '215K views', '147K views', '15K views', '128K views', '466K views', 'Streamed 3 weeks ago', '86K views', 'Streamed 2 days ago', '261K views', 'Streamed 9 days ago', '580K views', '610K views', '284K views', 'Streamed 10 days ago', '344K views', '51K views', '339K views']\n"
     ]
    }
   ],
   "source": [
    "from selenium import webdriver\n",
    "from selenium.webdriver.common.by import By\n",
    "from selenium.webdriver.firefox.service import Service\n",
    "from selenium.webdriver.firefox.options import Options\n",
    "import time\n",
    "\n",
    "options = Options()\n",
    "#options.headless = True\n",
    "service = Service('path/to/geckodriver.exe')\n",
    "driver = webdriver.Firefox(service=service, options=options)\n",
    "\n",
    "driver.implicitly_wait(5)\n",
    "baseUrl = \"https://www.youtube.com\"\n",
    "keywords = \"PW-Foundation\"\n",
    "\n",
    "def get_posted_time():\n",
    "    driver.get(f\"{baseUrl}/search?q={keywords}\")\n",
    "    time.sleep(5)\n",
    "    allchannellist = driver.find_elements(By.CSS_SELECTOR, \"span.style-scope.ytd-video-meta-block\")\n",
    "    times = list(dict.fromkeys(map(lambda a : a.get_attribute(\"innerHTML\"), allchannellist)))\n",
    "    return times\n",
    "\n",
    "if __name__ == \"__main__\":\n",
    "    times = get_posted_time()\n",
    "    print(times)\n"
   ]
  },
  {
   "cell_type": "code",
   "execution_count": null,
   "id": "0be96916",
   "metadata": {},
   "outputs": [],
   "source": []
  }
 ],
 "metadata": {
  "kernelspec": {
   "display_name": "Python 3 (ipykernel)",
   "language": "python",
   "name": "python3"
  },
  "language_info": {
   "codemirror_mode": {
    "name": "ipython",
    "version": 3
   },
   "file_extension": ".py",
   "mimetype": "text/x-python",
   "name": "python",
   "nbconvert_exporter": "python",
   "pygments_lexer": "ipython3",
   "version": "3.10.9"
  }
 },
 "nbformat": 4,
 "nbformat_minor": 5
}
