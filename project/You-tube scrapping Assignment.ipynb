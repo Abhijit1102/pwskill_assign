{
 "cells": [
  {
   "cell_type": "markdown",
   "id": "e3ba64cc",
   "metadata": {},
   "source": [
    "# Go to this given URL and solve the following questions\n",
    "# URL: https://www.youtube.com/@PW-Foundation/videos"
   ]
  },
  {
   "cell_type": "markdown",
   "id": "f6391fec",
   "metadata": {},
   "source": [
    "# Q1. Write a python program to extract the video URL of the first five videos."
   ]
  },
  {
   "cell_type": "code",
   "execution_count": 1,
   "id": "d6a4f609",
   "metadata": {},
   "outputs": [
    {
     "data": {
      "text/plain": [
       "['https://www.youtube.com/watch?v=WObRrneLVRY',\n",
       " 'https://www.youtube.com/watch?v=nX5ONgCdLcc',\n",
       " 'https://www.youtube.com/watch?v=AM2Dt7cNebw',\n",
       " 'https://www.youtube.com/watch?v=7nMJVhey9TM',\n",
       " 'https://www.youtube.com/watch?v=FSVVlcFUCMk']"
      ]
     },
     "execution_count": 1,
     "metadata": {},
     "output_type": "execute_result"
    }
   ],
   "source": [
    "from selenium import webdriver\n",
    "from selenium.webdriver.common.by import By\n",
    "from selenium.webdriver.firefox.service import Service\n",
    "from selenium.webdriver.firefox.options import Options\n",
    "import time\n",
    "\n",
    "options = Options()\n",
    "driver = webdriver.Firefox(options=options)\n",
    "\n",
    "driver.implicitly_wait(5)\n",
    "\n",
    "\n",
    "driver.get(\"https://www.youtube.com/@PW-Foundation/videos\")\n",
    "time.sleep(5)\n",
    "allchannellist = driver.find_elements(By.CSS_SELECTOR, \"a#video-title-link\")\n",
    "    \n",
    "urls = list(dict.fromkeys(map(lambda a : a.get_attribute(\"href\"), allchannellist)))\n",
    "driver.quit()\n",
    "urls = urls[:5]\n",
    "urls"
   ]
  },
  {
   "cell_type": "markdown",
   "id": "a9bf30df",
   "metadata": {},
   "source": [
    "# Q2. Write a python program to extract the URL of the video thumbnails of the first five videos."
   ]
  },
  {
   "cell_type": "code",
   "execution_count": 2,
   "id": "463627a5",
   "metadata": {},
   "outputs": [],
   "source": [
    "import re\n",
    "import requests\n",
    "import os\n",
    "\n",
    "thumbnails_links = []\n",
    "\n",
    "for i in urls:\n",
    "    url = i\n",
    "    exp = \"^.*((youtu.be\\/)|(v\\/)|(\\/u\\/\\w\\/)|(embed\\/)|(watch\\?))\\??v?=?([^#&?]*).*\"\n",
    "    s = re.findall(exp,url)[0][-1]\n",
    "    thumbnail = f\"https://i.ytimg.com/vi/{s}/maxresdefault.jpg\"\n",
    "\n",
    "    #image scraping\n",
    "    def imagedown(url, folder):\n",
    "        try:\n",
    "            os.mkdir(os.path.join(os.getcwd(), folder))\n",
    "        except:\n",
    "            pass\n",
    "        os.chdir(os.path.join(os.getcwd(), folder))\n",
    "\n",
    "        name = url\n",
    "        link = url\n",
    "        with open(name.replace(' ', '-').replace('/', '') + '.jpg', 'wb') as f:\n",
    "            im = requests.get(link)\n",
    "            f.write(im.content)\n",
    "            #print( name)\n",
    "            thumbnails_links.append(name)\n",
    "\n",
    "    imagedown(thumbnail, 'image')\n",
    "    "
   ]
  },
  {
   "cell_type": "code",
   "execution_count": 3,
   "id": "037a5ab0",
   "metadata": {},
   "outputs": [
    {
     "data": {
      "text/plain": [
       "['https://i.ytimg.com/vi/WObRrneLVRY/maxresdefault.jpg',\n",
       " 'https://i.ytimg.com/vi/nX5ONgCdLcc/maxresdefault.jpg',\n",
       " 'https://i.ytimg.com/vi/AM2Dt7cNebw/maxresdefault.jpg',\n",
       " 'https://i.ytimg.com/vi/7nMJVhey9TM/maxresdefault.jpg',\n",
       " 'https://i.ytimg.com/vi/FSVVlcFUCMk/maxresdefault.jpg']"
      ]
     },
     "execution_count": 3,
     "metadata": {},
     "output_type": "execute_result"
    }
   ],
   "source": [
    "thumbnails_links"
   ]
  },
  {
   "cell_type": "markdown",
   "id": "83149d50",
   "metadata": {},
   "source": [
    "## Q3. Write a python program to extract the title of the first five videos."
   ]
  },
  {
   "cell_type": "code",
   "execution_count": 79,
   "id": "d977fc6d",
   "metadata": {},
   "outputs": [],
   "source": [
    "driver = webdriver.Firefox(service=service, options=options)\n",
    "\n",
    "driver.implicitly_wait(5)\n",
    "\n",
    "\n",
    "driver.get(\"https://www.youtube.com/@PW-Foundation/videos\")\n",
    "time.sleep(5)\n",
    "all_titles = driver.find_elements(By.CSS_SELECTOR, \"a#video-title-link\")\n",
    "titles = [title.get_attribute('title') for title in all_titles]\n",
    "driver.quit()\n",
    "titles= titles[:5]"
   ]
  },
  {
   "cell_type": "code",
   "execution_count": 78,
   "id": "302fcbd8",
   "metadata": {},
   "outputs": [
    {
     "data": {
      "text/plain": [
       "['आपको Commerce में क्या सीखने को मिलता है ?? Complete Information',\n",
       " 'How to Attempt English Board Exam ????',\n",
       " 'Best technique to attempt SST paper in Board exam || Class 10th',\n",
       " 'Last Minute Strategy To Score More Than 98% || ICSE Boards || Class-10th',\n",
       " 'Why You Should Choose Commerce After 10th? || Complete Information💯']"
      ]
     },
     "execution_count": 78,
     "metadata": {},
     "output_type": "execute_result"
    }
   ],
   "source": [
    "titles"
   ]
  },
  {
   "cell_type": "markdown",
   "id": "ae33ab65",
   "metadata": {},
   "source": [
    "# Q4. Write a python program to extract the number of views of the first five videos."
   ]
  },
  {
   "cell_type": "code",
   "execution_count": 172,
   "id": "609e8fb5",
   "metadata": {},
   "outputs": [
    {
     "data": {
      "text/plain": [
       "['9.3K views',\n",
       " '183K views',\n",
       " '58K views',\n",
       " '24K views',\n",
       " '29K views',\n",
       " '332K views']"
      ]
     },
     "execution_count": 172,
     "metadata": {},
     "output_type": "execute_result"
    }
   ],
   "source": [
    "driver = webdriver.Firefox(options=options)\n",
    "\n",
    "driver.implicitly_wait(5)\n",
    "driver.get(\"https://www.youtube.com/@PW-Foundation/videos\")\n",
    "time.sleep(5)\n",
    "allchannellist = driver.find_elements(By.CSS_SELECTOR, \"span.style-scope.ytd-video-meta-block\")\n",
    "views_time = list(dict.fromkeys(map(lambda a : a.get_attribute(\"innerHTML\"), allchannellist)))\n",
    "driver.quit()\n",
    "views_time = views_time[0:11]\n",
    "views =[i  for i in views_time if i.endswith(\"views\")]\n",
    "views"
   ]
  },
  {
   "cell_type": "markdown",
   "id": "53fb7b62",
   "metadata": {},
   "source": [
    "# Q5. Write a python program to extract the time of posting of video for the first five videos."
   ]
  },
  {
   "cell_type": "code",
   "execution_count": 178,
   "id": "0672a32f",
   "metadata": {},
   "outputs": [
    {
     "data": {
      "text/plain": [
       "['1 day ago', '5 days ago', '6 days ago', '7 days ago', '8 days ago']"
      ]
     },
     "execution_count": 178,
     "metadata": {},
     "output_type": "execute_result"
    }
   ],
   "source": [
    "driver = webdriver.Firefox(options=options)\n",
    "\n",
    "driver.implicitly_wait(5)\n",
    "driver.get(\"https://www.youtube.com/@PW-Foundation/videos\")\n",
    "#ime.sleep(5)\n",
    "allchannellist = driver.find_elements(By.CSS_SELECTOR, \"span.style-scope.ytd-video-meta-block\")\n",
    "views_time = list(dict.fromkeys(map(lambda a : a.get_attribute(\"innerHTML\"), allchannellist)))\n",
    "driver.quit()\n",
    "views_time = views_time[0:11]\n",
    "time = [i  for i in views_time if not i.endswith(\"views\")]\n",
    "time"
   ]
  },
  {
   "cell_type": "markdown",
   "id": "f56b8bc2",
   "metadata": {},
   "source": [
    "**Note: Save all the data scraped in the above questions in a CSV file.**"
   ]
  },
  {
   "cell_type": "code",
   "execution_count": null,
   "id": "a1268830",
   "metadata": {},
   "outputs": [],
   "source": []
  },
  {
   "cell_type": "code",
   "execution_count": null,
   "id": "ed5f8424",
   "metadata": {},
   "outputs": [],
   "source": []
  },
  {
   "cell_type": "code",
   "execution_count": null,
   "id": "ed63c03e",
   "metadata": {},
   "outputs": [],
   "source": []
  },
  {
   "cell_type": "code",
   "execution_count": null,
   "id": "862ea959",
   "metadata": {},
   "outputs": [],
   "source": []
  },
  {
   "cell_type": "code",
   "execution_count": null,
   "id": "d8224295",
   "metadata": {},
   "outputs": [],
   "source": []
  }
 ],
 "metadata": {
  "kernelspec": {
   "display_name": "Python 3 (ipykernel)",
   "language": "python",
   "name": "python3"
  },
  "language_info": {
   "codemirror_mode": {
    "name": "ipython",
    "version": 3
   },
   "file_extension": ".py",
   "mimetype": "text/x-python",
   "name": "python",
   "nbconvert_exporter": "python",
   "pygments_lexer": "ipython3",
   "version": "3.10.9"
  }
 },
 "nbformat": 4,
 "nbformat_minor": 5
}
