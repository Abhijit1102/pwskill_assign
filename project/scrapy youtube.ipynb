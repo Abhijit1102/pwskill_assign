{
 "cells": [
  {
   "cell_type": "code",
   "execution_count": 12,
   "id": "a691929f",
   "metadata": {},
   "outputs": [],
   "source": [
    "import scrapy\n",
    "import os\n",
    "import re\n",
    "import requests\n",
    "\n",
    "from scrapy.selector import Selector\n",
    "from scrapy.http import Request\n",
    "\n",
    "\n",
    "class YoutubeSpider(scrapy.Spider):\n",
    "    name = '@PW-Foundation'\n",
    "    allowed_domains = ['www.youtube.com']\n",
    "\n",
    "    def __init__(self, query=None, *args, **kwargs):\n",
    "        super(YoutubeSpider, self).__init__(*args, **kwargs)\n",
    "        self.start_urls = [f'https://www.youtube.com/{query}/videos']\n",
    "\n",
    "    def parse(self, response):\n",
    "        sel = Selector(response)\n",
    "        allchannellist = sel.css('a#video-title-link')\n",
    "        urls = list(set(allchannellist.css('::attr(href)').extract()))\n",
    "\n",
    "        urls = urls[:5]\n",
    "        thumbnails_links = []\n",
    "\n",
    "        for url in urls:\n",
    "            exp = \"^.*((youtu.be\\/)|(v\\/)|(\\/u\\/\\w\\/)|(embed\\/)|(watch\\?))\\??v?=?([^#&?]*).*\"\n",
    "            s = re.findall(exp, url)[0][-1]\n",
    "            thumbnail = f\"https://i.ytimg.com/vi/{s}/maxresdefault.jpg\"\n",
    "            thumbnails_links.append(thumbnail)\n",
    "\n",
    "            # download images\n",
    "            os.makedirs('image', exist_ok=True)\n",
    "            os.chdir('image')\n",
    "            with open(f'{s}.jpg', 'wb') as f:\n",
    "                im = requests.get(thumbnail)\n",
    "                f.write(im.content)\n",
    "\n",
    "        all_titles = sel.css('a#video-title-link')\n",
    "        titles = all_titles.css('::attr(title)').extract()[:5]\n",
    "\n",
    "        all_views_time = sel.css('span.style-scope.ytd-video-meta-block::text').extract()\n",
    "        views_time = all_views_time[0:14]\n",
    "        views = [i for i in views_time if i.endswith(\"views\")]\n",
    "        times = [i for i in views_time if not i.endswith(\"views\")]\n",
    "\n",
    "        mydict = {\"urls\": urls, \"thumbnails_links\": thumbnails_links, \n",
    "                  \"titles\": titles, \"views\": views, \"time\": times}\n",
    "        yield mydict\n"
   ]
  },
  {
   "cell_type": "code",
   "execution_count": 17,
   "id": "7483105d",
   "metadata": {},
   "outputs": [
    {
     "name": "stdout",
     "output_type": "stream",
     "text": [
      "Scrapy 2.8.0 - no active project\n",
      "\n",
      "Unknown command: crawl\n",
      "\n",
      "Use \"scrapy\" to see available commands\n"
     ]
    }
   ],
   "source": [
    "!scrapy crawl @PW-Foundation -o output.json"
   ]
  },
  {
   "cell_type": "code",
   "execution_count": 13,
   "id": "4e872a08",
   "metadata": {},
   "outputs": [
    {
     "ename": "NameError",
     "evalue": "name 'mydict' is not defined",
     "output_type": "error",
     "traceback": [
      "\u001b[1;31m---------------------------------------------------------------------------\u001b[0m",
      "\u001b[1;31mNameError\u001b[0m                                 Traceback (most recent call last)",
      "Cell \u001b[1;32mIn[13], line 1\u001b[0m\n\u001b[1;32m----> 1\u001b[0m \u001b[43mmydict\u001b[49m\n",
      "\u001b[1;31mNameError\u001b[0m: name 'mydict' is not defined"
     ]
    }
   ],
   "source": [
    "mydict"
   ]
  },
  {
   "cell_type": "code",
   "execution_count": null,
   "id": "dde2ea0c",
   "metadata": {},
   "outputs": [],
   "source": []
  },
  {
   "cell_type": "code",
   "execution_count": null,
   "id": "41499350",
   "metadata": {},
   "outputs": [],
   "source": []
  },
  {
   "cell_type": "code",
   "execution_count": null,
   "id": "ce893ebe",
   "metadata": {},
   "outputs": [],
   "source": []
  }
 ],
 "metadata": {
  "kernelspec": {
   "display_name": "Python 3 (ipykernel)",
   "language": "python",
   "name": "python3"
  },
  "language_info": {
   "codemirror_mode": {
    "name": "ipython",
    "version": 3
   },
   "file_extension": ".py",
   "mimetype": "text/x-python",
   "name": "python",
   "nbconvert_exporter": "python",
   "pygments_lexer": "ipython3",
   "version": "3.10.9"
  }
 },
 "nbformat": 4,
 "nbformat_minor": 5
}
