{
 "cells": [
  {
   "cell_type": "markdown",
   "id": "dbb3c476",
   "metadata": {},
   "source": [
    "# Assignment (Task-2)\n",
    "Q1. You are writing code for a company. The requirement of the company is that you create a python  function that will check whether the password entered by the user is correct or not. The function should  take the password as input and return the string “Valid Password” if the entered password follows the  below-given password guidelines else it should return “Invalid Password”. \n",
    "\n",
    "__Note:__\n",
    "- 1. The Password should contain at least two uppercase letters and at least two lowercase letters. \n",
    "- 2. The Password should contain at least a number and three special characters. \n",
    "- 3. The length of the password should be 10 characters long. \n"
   ]
  },
  {
   "cell_type": "code",
   "execution_count": 71,
   "id": "5d2fb17a",
   "metadata": {},
   "outputs": [],
   "source": [
    "def check_password(password):\n",
    "    if len(password) != 10:\n",
    "        return \"Invalid Password\"\n",
    "    lower = 0\n",
    "    upper = 0\n",
    "    num = 0\n",
    "    sp_char = 0\n",
    "    for char in password:\n",
    "        if char.islower():\n",
    "            lower += 1\n",
    "        elif char.isupper():\n",
    "            upper += 1\n",
    "        elif char.isdigit():\n",
    "            num += 1\n",
    "        elif char in \"!@#$%^&*()\":\n",
    "            sp_char += 1\n",
    "    if lower < 2 or upper < 2 or num < 1 or sp_char < 3:\n",
    "        return \"Invalid Password\"\n",
    "    return \"Valid Password\""
   ]
  },
  {
   "cell_type": "code",
   "execution_count": 74,
   "id": "9cfee01e",
   "metadata": {},
   "outputs": [
    {
     "data": {
      "text/plain": [
       "'Valid Password'"
      ]
     },
     "execution_count": 74,
     "metadata": {},
     "output_type": "execute_result"
    }
   ],
   "source": [
    "check_password(\"123HGba@#$\")"
   ]
  },
  {
   "cell_type": "markdown",
   "id": "1c998f69",
   "metadata": {},
   "source": [
    "Q2. Solve the below-given questions using at least one of the following:  \n",
    "- 1. Lambda function\n",
    "- 2. Filter function \n",
    "- 3. Map function \n",
    "- 4. List Comprehension \n",
    "  - Check if the string starts with a particular letter. \n",
    "  - Check if the string is numeric. \n",
    "  - Sort a list of tuples having fruit names and their quantity. [(\"mango\",99),(\"orange\",80), (\"grapes\", 1000)]\n",
    "  - Find the squares of numbers from 1 to 10. \n",
    "  - Find the cube root of numbers from 1 to 10. \n",
    "  - Check if a given number is even.\n",
    "  - Filter odd numbers from the given list. \n",
    " [1,2,3,4,5,6,7,8,9,10] \n",
    "  - Sort a list of integers into positive and negative integers lists. \n",
    " [1,2,3,4,5,6,-1,-2,-3,-4,-5,0] \n"
   ]
  },
  {
   "cell_type": "code",
   "execution_count": 84,
   "id": "8986c02c",
   "metadata": {},
   "outputs": [
    {
     "name": "stdout",
     "output_type": "stream",
     "text": [
      "['bins']\n"
     ]
    }
   ],
   "source": [
    "# Check if the string starts with a particular letter\n",
    "\n",
    "string = [\"apple\",\"bins\", \"cat\", \"rat\"]\n",
    "\n",
    "def check_letter(string, letter):\n",
    "      return string[0] == letter\n",
    "       \n",
    "filter_string  = list(filter(lambda x: check_letter(x, \"b\"), string))\n",
    "print(filter_string)        "
   ]
  },
  {
   "cell_type": "code",
   "execution_count": 124,
   "id": "1901315f",
   "metadata": {},
   "outputs": [
    {
     "name": "stdout",
     "output_type": "stream",
     "text": [
      "[False, False, True, False, False, True]\n"
     ]
    }
   ],
   "source": [
    "# Check if the string is numeric.\n",
    "\n",
    "strings = [\"Abhijit\", \"Rajkumar\", \"2\", \"you\", \"(1,2)\", \"6\"]\n",
    "\n",
    "result = [string.isdigit() for string in strings]\n",
    "print(result)\n"
   ]
  },
  {
   "cell_type": "markdown",
   "id": "a8624410",
   "metadata": {},
   "source": [
    "Sort a list of tuples having fruit names and their quantity. - [(\"mango\",99),(\"orange\",80), (\"grapes\", 1000)]"
   ]
  },
  {
   "cell_type": "code",
   "execution_count": 127,
   "id": "fa16c1e2",
   "metadata": {},
   "outputs": [
    {
     "name": "stdout",
     "output_type": "stream",
     "text": [
      "[('grapes', 1000), ('mango', 99), ('orange', 80)]\n"
     ]
    }
   ],
   "source": [
    "fruits = [(\"mango\",99),(\"orange\",80),(\"grapes\",1000)]\n",
    "sorted_fruits = sorted(fruits, key=lambda x: x[0])\n",
    "print(sorted_fruits)"
   ]
  },
  {
   "cell_type": "markdown",
   "id": "360bc1c7",
   "metadata": {},
   "source": [
    "Find the squares of numbers from 1 to 10:"
   ]
  },
  {
   "cell_type": "code",
   "execution_count": 128,
   "id": "a3925326",
   "metadata": {},
   "outputs": [
    {
     "name": "stdout",
     "output_type": "stream",
     "text": [
      "[1, 4, 9, 16, 25, 36, 49, 64, 81, 100]\n"
     ]
    }
   ],
   "source": [
    "num = list(range(1, 11))\n",
    "sqr_num = list(map(lambda x: x**2, num))\n",
    "print(sqr_num)"
   ]
  },
  {
   "cell_type": "markdown",
   "id": "e4391a19",
   "metadata": {},
   "source": [
    "Find the cube root of numbers from 1 to 10."
   ]
  },
  {
   "cell_type": "code",
   "execution_count": 130,
   "id": "fdbfc5c7",
   "metadata": {},
   "outputs": [
    {
     "name": "stdout",
     "output_type": "stream",
     "text": [
      "[1.0, 1.2599210498948732, 1.4422495703074083, 1.5874010519681994, 1.7099759466766968, 1.8171205928321397, 1.912931182772389, 2.0, 2.080083823051904, 2.154434690031884]\n"
     ]
    }
   ],
   "source": [
    "num = list(range(1, 11))\n",
    "sqr_num = list(map(lambda x: x**(1/3), num))\n",
    "print(sqr_num)"
   ]
  },
  {
   "cell_type": "markdown",
   "id": "b09e7620",
   "metadata": {},
   "source": [
    "Check if a given number is even."
   ]
  },
  {
   "cell_type": "code",
   "execution_count": 145,
   "id": "7c985980",
   "metadata": {},
   "outputs": [
    {
     "name": "stdout",
     "output_type": "stream",
     "text": [
      "4 is even\n"
     ]
    }
   ],
   "source": [
    "is_even = lambda x: x % 2 == 0\n",
    "\n",
    "number = 4\n",
    "\n",
    "if is_even(number):\n",
    "    print(f\"{number} is even\")\n",
    "else:\n",
    "    print(f\"{number} is odd\")\n"
   ]
  },
  {
   "cell_type": "markdown",
   "id": "fbb44645",
   "metadata": {},
   "source": [
    "Filter odd numbers from the given list. [1,2,3,4,5,6,7,8,9,10]"
   ]
  },
  {
   "cell_type": "code",
   "execution_count": 1,
   "id": "90e123c1",
   "metadata": {},
   "outputs": [
    {
     "name": "stdout",
     "output_type": "stream",
     "text": [
      "[1, 3, 5, 7, 9]\n"
     ]
    }
   ],
   "source": [
    "nums = [1, 2, 3, 4, 5, 6, 7, 8, 9, 10]\n",
    "\n",
    "odd_nums = list(filter(lambda x: x % 2 != 0, nums))\n",
    "\n",
    "print(odd_nums)\n"
   ]
  },
  {
   "cell_type": "code",
   "execution_count": null,
   "id": "020e740a",
   "metadata": {},
   "outputs": [],
   "source": []
  },
  {
   "cell_type": "code",
   "execution_count": null,
   "id": "763fc9c2",
   "metadata": {},
   "outputs": [],
   "source": []
  }
 ],
 "metadata": {
  "kernelspec": {
   "display_name": "Python 3 (ipykernel)",
   "language": "python",
   "name": "python3"
  },
  "language_info": {
   "codemirror_mode": {
    "name": "ipython",
    "version": 3
   },
   "file_extension": ".py",
   "mimetype": "text/x-python",
   "name": "python",
   "nbconvert_exporter": "python",
   "pygments_lexer": "ipython3",
   "version": "3.10.9"
  }
 },
 "nbformat": 4,
 "nbformat_minor": 5
}
