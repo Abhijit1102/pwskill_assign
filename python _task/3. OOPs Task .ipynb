{
 "cells": [
  {
   "cell_type": "markdown",
   "id": "98b88917",
   "metadata": {},
   "source": [
    "## Assignment \n",
    "### Q1, Create a vehicle class with an init method having instance variables as name_of_vehicle, max_speed  and average_of_vehicle.\n"
   ]
  },
  {
   "cell_type": "code",
   "execution_count": 1,
   "id": "f8bfd95a",
   "metadata": {},
   "outputs": [],
   "source": [
    "class Vehicle:\n",
    "    def __init__(self, name_of_vehicle, max_speed, average_of_vehicle):\n",
    "        self.name_of_vehicle = name_of_vehicle\n",
    "        self.max_speed = max_speed\n",
    "        self.average_of_vehicle = average_of_vehicle\n"
   ]
  },
  {
   "cell_type": "code",
   "execution_count": 2,
   "id": "b24e8f80",
   "metadata": {},
   "outputs": [
    {
     "name": "stdout",
     "output_type": "stream",
     "text": [
      "Car\n",
      "200\n",
      "30\n"
     ]
    }
   ],
   "source": [
    "car = Vehicle(\"Car\", 200, 30)\n",
    "print(car.name_of_vehicle)\n",
    "print(car.max_speed)\n",
    "print(car.average_of_vehicle)"
   ]
  },
  {
   "cell_type": "markdown",
   "id": "4590207e",
   "metadata": {},
   "source": [
    "## Q2.  Create a child class car from the vehicle class created in Que 1, which will inherit the vehicle class.  Create a method named seating_capacity which takes capacity as an argument and returns the name of  the vehicle and its seating capacity"
   ]
  },
  {
   "cell_type": "code",
   "execution_count": 9,
   "id": "4b80633a",
   "metadata": {},
   "outputs": [
    {
     "name": "stdout",
     "output_type": "stream",
     "text": [
      "The NANO has a seating capacity of 5\n"
     ]
    }
   ],
   "source": [
    "class Vehicle:\n",
    "    def __init__(self, name_of_vehicle, max_speed, average_of_vehicle):\n",
    "        self.name_of_vehicle = name_of_vehicle\n",
    "        self.max_speed = max_speed\n",
    "        self.average_of_vehicle = average_of_vehicle\n",
    "\n",
    "class Car(Vehicle):\n",
    "    def seating_capacity(self, capacity):\n",
    "        return f\"The {self.name_of_vehicle} has a seating capacity of {capacity}\"\n",
    "\n",
    "car = Car(\"NANO\", 200, 30)\n",
    "print(car.seating_capacity(5))\n"
   ]
  },
  {
   "cell_type": "markdown",
   "id": "638fda13",
   "metadata": {},
   "source": [
    "## Q3. What is multiple inheritance? Write a python code to demonstrate multiple inheritance. "
   ]
  },
  {
   "cell_type": "markdown",
   "id": "14d7a259",
   "metadata": {},
   "source": [
    "Multiple inheritance is a feature in object-oriented programming languages that allows a class to inherit attributes and methods from multiple parent classes. It is used when a class needs to inherit properties from more than one base class."
   ]
  },
  {
   "cell_type": "code",
   "execution_count": 5,
   "id": "fd66be5c",
   "metadata": {},
   "outputs": [
    {
     "name": "stdout",
     "output_type": "stream",
     "text": [
      "I am from Parent1\n",
      "I am from Parent2\n"
     ]
    }
   ],
   "source": [
    "class Parent1:\n",
    "    def __init__(self):\n",
    "        self.value1 = \"I am from Parent1\"\n",
    "\n",
    "class Parent2:\n",
    "    def __init__(self):\n",
    "        self.value2 = \"I am from Parent2\"\n",
    "\n",
    "class Child(Parent1, Parent2):\n",
    "    def __init__(self):\n",
    "        Parent1.__init__(self)\n",
    "        Parent2.__init__(self)\n",
    "\n",
    "c = Child()\n",
    "print(c.value1)\n",
    "print(c.value2)"
   ]
  },
  {
   "cell_type": "markdown",
   "id": "57bcbfa6",
   "metadata": {},
   "source": [
    "## Q4. What are getter and setter in python? Create a class and create a getter and a setter method in this  class."
   ]
  },
  {
   "cell_type": "markdown",
   "id": "5ff31346",
   "metadata": {},
   "source": [
    "Getters and setters are methods in Python that allow you to retrieve and set the values of an object's attributes, respectively. They are often used to encapsulate the internal state of an object and protect it from direct modification. This way, you can control what changes can be made to an object's attributes and how they are made."
   ]
  },
  {
   "cell_type": "code",
   "execution_count": 6,
   "id": "49994193",
   "metadata": {},
   "outputs": [
    {
     "name": "stdout",
     "output_type": "stream",
     "text": [
      "John\n",
      "Jane\n"
     ]
    }
   ],
   "source": [
    "class Person:\n",
    "    def __init__(self, name, age):\n",
    "        self._name = name\n",
    "        self._age = age\n",
    "\n",
    "    def get_name(self):\n",
    "        return self._name\n",
    "\n",
    "    def set_name(self, name):\n",
    "        self._name = name\n",
    "\n",
    "    def get_age(self):\n",
    "        return self._age\n",
    "\n",
    "    def set_age(self, age):\n",
    "        self._age = age\n",
    "\n",
    "person = Person(\"John\", 30)\n",
    "print(person.get_name())\n",
    "person.set_name(\"Jane\")\n",
    "print(person.get_name())\n"
   ]
  },
  {
   "cell_type": "markdown",
   "id": "7f10410a",
   "metadata": {},
   "source": [
    "## Q5.What is method overriding in python? Write a python code to demonstrate method overriding."
   ]
  },
  {
   "cell_type": "markdown",
   "id": "f0be5b02",
   "metadata": {},
   "source": [
    "Method overriding is a feature in object-oriented programming languages that allows a subclass to provide a different implementation for a method that is already defined in its parent class. The purpose of method overriding is to allow a subclass to inherit the behavior of its parent class but modify or extend it as needed."
   ]
  },
  {
   "cell_type": "code",
   "execution_count": 7,
   "id": "49e3dc26",
   "metadata": {
    "scrolled": true
   },
   "outputs": [
    {
     "name": "stdout",
     "output_type": "stream",
     "text": [
      "Woof woof\n"
     ]
    }
   ],
   "source": [
    "class Animal:\n",
    "    def make_sound(self):\n",
    "        return \"Some generic animal sound\"\n",
    "\n",
    "class Dog(Animal):\n",
    "    def make_sound(self):\n",
    "        return \"Woof woof\"\n",
    "\n",
    "dog = Dog()\n",
    "print(dog.make_sound())\n"
   ]
  },
  {
   "cell_type": "markdown",
   "id": "3bf65802",
   "metadata": {},
   "source": [
    "In this example, the` Animal` class has a method make_sound that returns a generic animal sound. The `Dog` class is a subclass of `Animal` and overrides the make_sound method to return a specific sound that is associated with dogs. When we create an instance of `Dog` and call its make_sound method, the overridden implementation in the `Dog` class is used, rather than the implementation in the `Animal` class."
   ]
  }
 ],
 "metadata": {
  "kernelspec": {
   "display_name": "Python 3 (ipykernel)",
   "language": "python",
   "name": "python3"
  },
  "language_info": {
   "codemirror_mode": {
    "name": "ipython",
    "version": 3
   },
   "file_extension": ".py",
   "mimetype": "text/x-python",
   "name": "python",
   "nbconvert_exporter": "python",
   "pygments_lexer": "ipython3",
   "version": "3.10.9"
  }
 },
 "nbformat": 4,
 "nbformat_minor": 5
}
